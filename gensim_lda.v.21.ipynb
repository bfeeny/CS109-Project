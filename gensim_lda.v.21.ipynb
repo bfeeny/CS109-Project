{
 "metadata": {
  "name": ""
 },
 "nbformat": 3,
 "nbformat_minor": 0,
 "worksheets": [
  {
   "cells": [
    {
     "cell_type": "markdown",
     "metadata": {},
     "source": [
      "# Text Processing and LDA"
     ]
    },
    {
     "cell_type": "markdown",
     "metadata": {},
     "source": [
      "## Change Log\n",
      "### v.1\n",
      "- initial build\n",
      "\n",
      "### v.2 \n",
      "- only use `isalpha()` words in dictionary/model\n",
      "- remove mispelled words by building difference of sets against `nltk.corpus.words.words()`\n",
      "\n",
      "### v.3\n",
      "- lots more notes added\n",
      "- more work on investigating spell correction routines \n",
      "\n",
      "### v.4 \n",
      "- re-ordered spellling routines\n",
      "- spell correcting is now online and part of the pipeline using `enchant` / `pyenchant`\n",
      "- I am making the assumption this code is pipelining a single school at a time\n",
      "- removing stopwords now after spelling correction\n",
      "\n",
      "### v.5\n",
      "- added variables for constants `MIN_WORD_COUNT`\n",
      "- now using `itertools.chain.from_iterable()` to flatten list of lists\n",
      "- now using a `collections.defaultdict()` (hash) to do word counts \n",
      "- word counts (due to the above two optimizations) are now near instantaneous\n",
      "- using `file_root` variable to propogate changing filenames throughout notebook\n",
      "- replaced nested comprehensions with `itertools`\n",
      "- added full parameters to LDA model\n",
      "- add logging so we can see any warnings from gensim\n",
      "- added random seed for debugging (not needed unless you want reproducable result)\n",
      "- added `dictionary.filter_extremes()` (still need to find best settings)\n",
      "\n",
      "### v.6\n",
      "- removed all LSI / LSA now just doing LDA\n",
      "- tuned LDA parameters for `passes=10` and `update_every=0` (batch mode) by default\n",
      "- added standard `matplotlib` setup from our student notebooks\n",
      "- added `remove_border()` from our student notebooks\n",
      "- added histograms for word frequency counts\n",
      "- added models for LDA from tradional bow as well as tf-idf\n",
      "- added comments at the top of most cells to give some indication of what runtime takes\n",
      "- added descriptive statistics on the dictionary\n",
      "\n",
      "### v.7\n",
      "- now using mysql database routines\n",
      "- now properly closing filehandle on file routines\n",
      "- create `read_review_file` function\n",
      "- create `clean_review_file` function\n",
      "- removed \"memory friendly\" routines which work with persistant disk\n",
      "\n",
      "### v.8\n",
      "- increased stopwords\n",
      "- add `WordNet` Lemmatization\n",
      "- removing all words `len(word) < 3` in `clean_reviews`\n",
      "- added bigram support (`CELL 110` controls whether unigrams or bigrams are used)\n",
      "- `CELL 130` and `CELL 230` will not work properly with bigrams in use so leave those commented out if using bigrams\n",
      "- `CELL 200` will not produce any output if using bigrams\n",
      "- labeled cells\n",
      "\n",
      "### v.9\n",
      "- `CELL 70` grab school names\n",
      "- `CELL 80` now pass a stop list to `clean_reviews`\n",
      "- `CELL 110` now always computing bigrams\n",
      "- added some additional stopwords to `custom_stopset`\n",
      "- `CELL 170` stitches unigram and bigram texts together for processing\n",
      "- `CELL 175` we chose which text to process: unigrams, bigrams or a unigram+bigram text\n",
      "- `CELL 210` now calling `corpus corpus_bow`\n",
      "- `CELL 240` now caling `tfidf corpus_tfidf`\n",
      "- added `CELL 265` choose a `corpus`\n",
      "- removed `CELL 280` (code factored into `CELL 270`)\n",
      "- I upgraded my own workstation to premium (free) versions of anaconda/accelerate, timings now reflect that\n",
      "- only now showing times for cells that take a while\n",
      "- moved `summary_statistics` into its own `CELL 25`\n",
      "- moved getting `clean reviews` from `CELL 90` to new `CELL 94`\n",
      "- moved descriptive statistics from `CELL 90` to new `CELL 96`\n",
      "- moved saving `corpus` from `CELL 210` to `CELL 212`\n",
      "- Added nicer headings \n",
      "- added information about installing distributed computing components\n",
      "- LDA now running in distributed mode\n",
      "\n",
      "### v.10\n",
      "- added `CELL 1500` HDP model for experimentation\n",
      "- added `MAX_NUM_REVIEWS` so you can reduce amount of reviews when testing\n",
      "- added `feature` dict to control what features are performed on text\n",
      "- added tokenize feature and step in `clean_reviews`, before this was being done when removing stopwords\n",
      "- re-worked entire `clean_reviews` function around `feature` dict\n",
      "- incorporated `feature` dict to control which cells are enabled\n",
      "- added pos tagging for later analysis\n",
      "- updated `CELL 1000` for exploratory analysis\n",
      "\n",
      "### v.11\n",
      "- added `CELL 95` to look at the text\n",
      "- corrected error in `CELL 60` where not intializing spell corrector unless `analyze_spell_correct` was set\n",
      "- now using `nltk.tokenize` for tokenization of sentences and words\n",
      "\n",
      "### v.12\n",
      "- added `CELL 8`5 to instantiate parallel processing\n",
      "- added `parallel` to `feature` dict\n",
      "- added decoration to `CELL 80` for parallel processing\n",
      "- modified `CELL 80` so it used `data_to_clean` and `stopset_to_use` as a name space hack\n",
      "- modified `CELL 90, 94` to use `data_to_clean` and `stopset_to_use`\n",
      "- modified `CELL 90` to use parallel processing for `school_names` if set\n",
      "- added `CELL 91` to merge parallel data back into single result for `school_names`\n",
      "- added parallel routines to `CELL 94`\n",
      "- `CELL 96` now renumbered to `CELL 98`\n",
      "- `CELL 95` now renumbered to `CELL 97`\n",
      "- added `CELL 96` to merge data returned from parallel workers for `texts`, `texts_uncorrected`, etc\n",
      "- move `bigram_stoplist` creation from `CELL 90` to `CELL 93`\n",
      "- `stopset_bigrams` is now just a set of bigrams of school names, nothing else\n",
      "- `CELL 97` now using `features` dict to control output\n",
      "- added `tfidf` to `features` dict to control corpus creation and dictionary transform\n",
      "- added cell magic `%%time` to `CELLS 90, 94, 96, 270`\n",
      "- added \"way\", \"thing\", and \"lot\" to `stopset_unigram`\n",
      "- factored code into `get_review_data()` for `CELL 97`\n",
      "- added `CELL 95` text diagnostics\n",
      "- tracked down bug in `CELL 80` `clean_reviews`, now imputing \"the\" instead of skipping `None` reviews in order to preserve indices across texts\n",
      "- `CELL 80` moved lowercase function after spell correct, this will allow pos tagging to work more effectively\n",
      "- `CELL 80`, factored out removal of smallwords (`len < 3`) into its own `remove_smallwords` step which can be set in `feature` dict\n",
      "- features in `features` dict are now listed in the order of processing\n",
      "- starts Notes section to notebook\n",
      "- added second pass of stopword removal after lemmatization in `CELL 80`\n",
      "- HyperThreading tested, tested with 8 virtual cores\n",
      "\n",
      "### v.13\n",
      "- added feature `only_tagged,` when set, only parts of speech in tag_set are used\n",
      "- added `tag_set` which contains part of speech tags we will use when feature `only_tagged` is set\n",
      "- removed `only_nn` as depricated by `only_tagged`\n",
      "- modified `CELL 90, 94` to distribute `tag_set` to remote workers\n",
      "- modified `CELL 80` to now use `tag_set`\n",
      "- added \"everybody\", \"everyone\", \"great\", \"excellent\" and \"part\" to stoplist\n",
      "- server setup on Amazon EC2, see Notes section for more info, entire notebook up and running fine\n",
      "- added notes about installing Anaconda's premium distro as a recommendation for faster BLAS libraries\n",
      "- `CELL 80` added conversion of POS tags from treebank/penn style to morphy style for passing into Lemmatizer (not being used yet)\n",
      "- added info about starting the Pyro nameserver to Installation\n",
      "- `clean_reviews()` is now renamed to `clean_data()` which is more reflective of what the function is doing\n",
      "\n",
      "### v.14\n",
      "- moved spellcheck routine to be above POS tagger\n",
      "- `CELL 80` map penn pos tags to morphy pos tags when pos_tag enabled for lemmatization\n",
      "- re-write `CELL 80` `clean_data` to be pos_tag aware on all routines, allowing lemmatization to use pos tags\n",
      "- added to `custom_stoplist` 'hill','valley','den','alto','crest','wood','land'\n",
      "- `CELL 1000` wrote `get_topic_data()`\n",
      "- added `perplexity_search` feature parameter\n",
      "- added perplexity grid search to `CELL 268`\n",
      "- added \"love\", \"amazing\", and \"okay\" to `custom_stoplist`\n",
      "- `CELL 97` is now `CELL 98`, `CELL 98` is now `CELL 99`\n",
      "- new `CELL 97` created to save variables `reviews, school_names, texts, texts_uncorrected, texts_unlemmatized, texts_pos, lemma_dict`\n",
      "- added `preprocess_save` to `feature` dict.  Saves pre-processed data in `CELL 97`\n",
      "- added `preprocess_load` to `feature` dict.  Loads pre-processed data in `CELL 70` instead of raw db/file data\n",
      "- skipping `CELLS 75, 80, 85, 90, 91, 94, 95 and 96` if `preprocess_load` set\n",
      "- `CELL 269` added to review results of perplexity search\n",
      "- added `preprocess_file` variable to use as filename for loading and saving preprocessed data\n",
      "\n",
      "### v.15\n",
      "- add import re to global imports and `CELL 85`\n",
      "- stripping escape characters in `CELL 70` using a `re` compile pattern if `remove_html` is set\n",
      "- added updated `mysql_ops` class in `CELL 30`\n",
      "- modified `CELL 70` to use updated `mysql_ops` syntax\n",
      "- identified bug in `gensim`, filed on [github](https://github.com/piskvorky/gensim/issues/144#issuecomment-29562894), proposed a solution, fixed\n",
      "\n",
      "\n",
      "### v.16\n",
      "- updated formatting and flow to `CELL 268`\n",
      "- removed unigram and bigram frequency count historgrams from `CELL 150, 151`\n",
      "- merged `CELL 160` into ` CELL 150 and `CELL 161` into `CELL 151`\n",
      "- multiple additional comments added to cells\n",
      "- `CELL 1500` (HDP model) removed\n",
      "- `CELL 140` removed, as its functionality is already handled by `dictionary.filter_extremes()` in `CELL 180`\n",
      "- Now saving and loading `nces_code` and `universal_id` as `reviews_indexes` in `CELL 70` and `CELL 97`\n",
      "- Added routine to extract beta, gamma and log probabilities and save them to a file in `CELL 95`\n",
      "\n",
      "### v.17\n",
      "- code from `CELL 270` moved to new `CELL 292` to build `corpus_model`\n",
      "- modified `CELL 270` to store `num_topics` as a global variable\n",
      "- modified `CELL 290` to save model using `file_root`\n",
      "- added `CELL 295` to save `corpus_model`\n",
      "- added `CELL 310` to store `gamma` and `beta` using `file_root`\n",
      "- `CELL 97` now stores files individually using `file_root` as a base\n",
      "- modify `CELL 80` to work with situation where `pos_tag` is set but `only_tagged` is not set\n",
      "- added `dict_corpus_save` feature to control saving of dictionary and corpus in `CELL 182` and `CELL 212`\n",
      "- added `dict_corpus_load` feature to control loading of dictionary and corpus in `CELL 205`\n",
      "- added `model_save` feature to control saving of model in `CELL 290`\n",
      "- added `model_load` feature to control loading of model in `CELL 289`\n",
      "- added global variable `num_topics` in `CELL 0` which is used for creation of filenames to be loaded/saved and LDA model\n",
      "- added feature `beta_gamma_save` to save `beta` and `gamma` of model in `CELL 310`\n",
      "- added feature `model_topics_save` to save `model_topics` in `CELL 302`\n",
      "- added feature `corpus_model_save` to save `corpus_model` in `CELL 296`\n",
      "- added feature `model_topics_load` to load `model_topics` in `CELL 300`\n",
      "- added `CELL 300` to view model_topics\n",
      "- added feature `corpus_model_load` to load `corpus_model` in `CELL 293`\n",
      "- moved code from `CELL 292` to new `CELL 295` for viewing `corpus_model`\n",
      "- added feature `texts_final_load` to load `texts_final` in `CELL 160`\n",
      "- added feature `texts_final_save` to save `texts_final` in `CELL 178`\n",
      "\n",
      "### v.18\n",
      "- updated `CELL 70` to show filenames and sizes as they are loaded\n",
      "- updated `CELL 97` to show filenames and sizes as they are loaded\n",
      "\n",
      "### v.19\n",
      "- `CELL 40` which dealt with reading from a file has been removed\n",
      "- No longer using `preprocess_file` to save all texts to, instead saving each one separately\n",
      "- Removed `CELL 120` and `CELL 130` which dealt with analyzing our spell correction\n",
      "- Factored `CELL 150` and `CELL 151` into a function `frequent_tokens` in `CELL 150`\n",
      "- `CELL 151` now displays frequency counts of unigrams, `CELL 152` displays frequency counts of bigrams\n",
      "- `feature preprocess_load` and `texts_final_load` are mutually exclusive otherwise you may get errors\n",
      "- added `CELL 1100` to look at how to start getting data ready to be handed off to the database\n",
      "- numerous logic corrections in how feature's are handled and what CELLs should run\n",
      "- added `id` to `reviews_indexes` in `CELL 70`\n",
      "\n",
      "### v.20\n",
      "- added `postdate` to `reviews_indexes`\n",
      "- `CELL 1500` through `CELL 1580` added to output Word Frequency Counts on various slices and cuts of the data \n",
      "- `CELL 150` now using NLTK's FreqDist() function\n",
      "\n",
      "### v.21\n",
      "- `CELL 10` and `CELL 20` removed\n",
      "- copious amounts of annotation added for final submission\n",
      "\n",
      "\n",
      "### TODO/CONCERNS\n",
      "- factor out pickle read/write functions\n",
      "- `CELL 70` convert db functions to variables\n",
      "- Many more notes to write\n",
      "- Is the stopset ideal?\n"
     ]
    },
    {
     "cell_type": "markdown",
     "metadata": {},
     "source": [
      "# Installation\n",
      "It is recommended you install the premium version of Anaconda, Accelerate and IOPro from [Continuum](https://store.continuum.io/cshop/anaconda/).  \n",
      "\n",
      "You will see that there is an \"All Products are free for Academic Use\" link in the upper right, where you can obtain\n",
      "free licensing.  This will give you, among many other benefits, faster BLAS libraries.  You can verify your BLAS libraries here:\n",
      "\n",
      "    import numpy as np\n",
      "    np.__config__.show()\n",
      "\n",
      "You should install `gensim`\n",
      "\n",
      "    pip install gensim\n",
      "You should install `nltk`\n",
      "    \n",
      "    pip install nltk\n",
      "You will need to install specific modules from `nltk`.  They are `stopwords, punkt, wordnet, maxent_treebank_pos_tagger`. Fire up a `python` interpretor and run\n",
      "\n",
      "    import nltk\n",
      "    nltk.download()\n",
      "You should install `pymysql`\n",
      "\n",
      "    pip install pymysql\n",
      "\n",
      "If you get any errors about `error: invalid command 'egg_info'` you just need to install `setuptools`, as our original \n",
      "anaconda distribution in class used a package called `distribute` but parts of that have been factored out to `setuptools`\n",
      "\n",
      "    pip install --upgrade setuptools\n",
      "\n",
      "You should install `Enchant` for spell check capability, http://www.abisource.com/projects/enchant/ \n",
      "I used [homebrew](http://brew.sh) to install it on OSX, `brew install enchant`\n",
      "You should then install `pyenchant`\n",
      "    pip install pyenchant\n",
      "\n",
      "####iPython Parallel Processing\n",
      "iPythons parallel processing is handled through an architecture called [ipcluster](http://ipython.org/ipython-doc/dev/parallel/parallel_process.html).  We use this in our notebook to parallelize the text pre-processing pipeline.\n",
      "\n",
      "first start an ipython `ipcluster` on your machine.  For example, for 4 cores:\n",
      "\n",
      "    ipcluster start -n 4 \n",
      "\n",
      "- most chips, such as Intel, support HyperThreading, so you can usually run say 8 virtual cores on a 4 physical core chip\n",
      "- make sure `parallel` feature is set in `feature` dict\n",
      "- make sure the decoration in `CELL 80` is uncommented `@dv.remote(block=True)`\n",
      " \n",
      "you could also start the `ipcluster` right from within the iPython notebook using the \"Cluster\" tab\n",
      " \n",
      "#### Gensim Distributed Computing for LDA\n",
      "[Gensim](http://radimrehurek.com/gensim/) leverages a distributed RMI type architecture called [Pyro4](http://pythonhosted.org/Pyro4/)\n",
      "To distribute the workload to other cores or computers on the same broadcast domain\n",
      "install `gensim[distributed]`\n",
      "    \n",
      "    pip install gensim[distributed]  (or \"pip install --update gensim[distributed]\" if you already installed previously)\n",
      "this installs Pyro4 as well.  Pyro4 is the distributed framework that `gensim` utilizes.\n",
      "\n",
      "set environment variables (these must be set in the session you use to start the notebook from)\n",
      "    \n",
      "    export PYRO_SERIALIZERS_ACCEPTED=pickle\n",
      "    export PYRO_SERIALIZER=pickle\n",
      "\n",
      "start the `Pyro4` nameserver\n",
      "\n",
      "    python -m Pyro4.naming -n 0.0.0.0 &\n",
      "start workers (ex: on a four core system to start four workers)\n",
      "    \n",
      "    python -m gensim.models.lda_worker &\n",
      "    python -m gensim.models.lda_worker &\n",
      "    python -m gensim.models.lda_worker &\n",
      "    python -m gensim.models.lda_worker &\n",
      "start dispatcher (just runs on one node, can also be a worker node)\n",
      "\n",
      "    python -m gensim.models.lda_dispatcher &\n",
      "make sure in the model, you have `distributed=True` option set\n",
      "that's it, you should see info about the distributed computing in the logs as you run the model"
     ]
    },
    {
     "cell_type": "markdown",
     "metadata": {},
     "source": [
      "# Configuration\n",
      "\n",
      "#### CELL 0\n",
      "`CELL 0` contains a number of options which control the operation of the notebook.\n",
      "\n",
      "The notebook can be navigated in an ad-hoc way, skipping cells you do not wish to use.  To make various routine tasks easier, as well as provide control over things like the text pipeline, a dictionary called `feature` is used.  This is self-documented in `CELL 0`.  An important thing to note is that many of the features could be enabled simultaneously but may not make sense or may give undesirable output.  There is little to no dependency checking. \n",
      "\n",
      "##### Used by the Database\n",
      "`MAX_NUM_REVIEWS` can be set.  This will control how many reviews are ingested if using the database.  If set to `0` then all reviews returned by the function being used will be included.\n",
      "\n",
      "`state` can be set, and if retrieving from the database it will retrieve that states data.  If this is set to `all` or `ALL` it will retrieve data for all states.  \n",
      "\n",
      "\n",
      "##### Used when loading or saving to files\n",
      "`data_dir` can be set as the location to use when loading/saving texts, corpus, dictionaries, models, etc.\n",
      "\n",
      "`file_root` can be set, this controls the naming of all the many files that are loaded and saved.  You need to be careful what this is set to if any of the \"save\" bits are set in the `feature` dict, as you could overwrite previously saved data if not careful.\n",
      "\n",
      "##### Used by the text processing pipeline\n",
      "`tag_set` can be set to control which parts of speech are included when `only_tagged` is used in conjunction with feature `pos_tag`.  The various parts of speech that can be set here are explained at [Penn Treebank Tags](http://bulba.sdsu.edu/jeanette/thesis/PennTags.html).\n",
      "\n",
      "`custom_stopset` is a list of words which is removed from consideration in any model processing.  This is unioned with the common set of english stopwords found in NLTK's `nltk.corpus.stopwords.words('english')` to produce `stopset_unigram`.  This is the stoplist we use to remove words for any consideration in unigram processing.\n",
      "\n",
      "`stopset_unigram` is a unioned set of the above mentioned `custom_stopset` and NTLK's `nltk.corpus.stopwords.words('english')`.\n",
      "\n",
      "##### Used by LDA\n",
      "`num_topics` sets the number of topics to be used when buiding the LDA model.\n",
      "\n",
      "#### CELL 175\n",
      "\n",
      "In `CELL 175` you choose which text will go on to be considered in LDA.  Normally this is `text_combined` which is a combination of `texts` and `texts_bigrams` produced in `CELL 170`\n",
      "\n",
      "#### CELL 180\n",
      "\n",
      "In `CELL 180` you choose what tokens make it into the dictionary. By default we have this set to drop any tokens that appear in less than 5 documents.  We also drop any token that appears in more than 50% of all documents.  We also keep only the top 100000 most frequent tokens.  These can be set as desired.\n",
      "\n",
      "#### CELL 240\n",
      "\n",
      "`CELL 240` will transform the corpus via `tfidf` if set in `feature` dict.  LDA requires that actual values be used in the bag of words.  Converting to real numbers, as with `tfidf` may be beneficial, but it is not a valid transormation for traditional LDA as published.  So this feature has been left in place since earlier experiments in this project began, but all of our work for the most part has been exclusively using Bag of Words, without any transformation, including TF-IDF.\n",
      "\n",
      "#### CELL 268\n",
      "\n",
      "`CELL 268` can be used to do a grid search over any variable you wish.  The current stable branch of `gensim` however has a bug, which has been fixed in the [pyro_threads](https://github.com/piskvorky/gensim/tree/pyro_threads) branch.  So it is recommended that you install this branch if you wish to use this feature.  Otherwise, the Pyro4 underlying framework will run out of threads.  If not doing a grid search then the current release version of gensim[distributed] will work fine.\n",
      "\n"
     ]
    },
    {
     "cell_type": "markdown",
     "metadata": {},
     "source": [
      "# Notes\n",
      "`CELL` numbers are used at the top of each cell just as a label so they can be tracked in changes as they are happening and discussed.\n",
      "\n",
      "#### Texts\n",
      "There are currently the following key texts created in the pipeline depending on what options are enabled.  These texts are all for diagnostic purposes, the only one actually being used by LDA is the final output `texts`.  The other texts are being created because of their place in the pipeline, allow us to see how certain transformations are performing, such as analyzing spell correction.  The order of creation is below:\n",
      "\n",
      "1. `reviews_indexes`\n",
      "2. `reviews`\n",
      "3. `school_names`\n",
      "4. `texts_uncorrected` \n",
      "5. `texts_pos`\n",
      "6. `texts_unlemmatized`\n",
      "7. `lemma_dict`\n",
      "8. `texts`\n",
      "\n",
      "A summary of each text:\n",
      "\n",
      "- `reviews_indexes` - this is a copy of the original gsid, nces_code, universal_id and postdate in a dataframe\n",
      "- `reviews` - this is the data as ingested from the file or the database\n",
      "- `school_names` - this is the school names pulled from the db AFTER they have been through pre-processing.  Since most words in school names are not in our tag set (NN or NNS for example), and many words in school names are stopped, this list is quite sparse.  It is used only for the  creation of a bigram_stopset, so that any bigrams created involving school names are not used.\n",
      "- `texts_uncorrected` - this is the text before spell correction\n",
      "- `texts_pos` - this is the text after it has been tagged with parts of speech\n",
      "- `texts_unlemmatized` - this is the text before lemmatization\n",
      "- `lemma_dict` - This is a dictionary of a set of words.  It is used just as an analysis to see what words were converted to what lemmas.  \n",
      "- `texts` - this is the final text which is used further on in the notebook and is the comprises the bulk of what is inputed into LDA\n",
      "\n",
      "There are various filters and transformations being done on the text.  Here is a workflow of where the transforms and filters are done, in relation to where the texts are being created.  All texts are created in `CELL 80 clean_data()` function.\n",
      "\n",
      "#### General Data Cleaning Pipeline:\n",
      "\n",
      "    reviews and school_names created in CELL 70\n",
      "        clean_data() called in CELL 80\n",
      "            impute \"the\" if review == None\n",
      "            remove HTML encodings and escape characters\n",
      "            tokenize documents into sentences\n",
      "            tokenize sentences into words                      * texts_uncorrected created\n",
      "            spell correct words\n",
      "            POS tag words                                      * texts_pos created\n",
      "            remove punctuation\n",
      "            remove small words (len < 3)\n",
      "            remove non-alpha words\n",
      "            lowercase all words\n",
      "            remove stopwords                                   * texts_unlemmatized created\n",
      "            lemmatize all words\n",
      "            lemma_dict created\n",
      "            remove small words (len < 3) (again)\n",
      "            remove stopwords (again)                           * texts created\n",
      "            \n",
      "\n",
      "A server has been configured on [Amazon EC2](http://aws.amazon.com/ec2/instance-types/) for our final analysis.\n",
      "\n",
      "This server is a Compute Optimized `c3.8xlarge` instance.  It has the following specifications:\n",
      "CPU: 64-bit vCPU: 32 eCPU: 108 Memory: 60 GB  Processor: Intel Xeon E5-2680\n",
      "\n",
      "# Text Processing Pipeline\n",
      "## Text Processing\n",
      "Text processing was done using Pythons\u2019s [Natural Language Toolkit (NLTK)](http://nltk.org) and [iPython clustering](http://ipython.org/ipython-doc/dev/parallel/).  [GreatSchools](http://www.greatschools.org) reviews were ingested from the database, scattered to multiple ipython worker nodes, processed and finally merged back together into one text.\n",
      "\n",
      "Text processing followed the following workflow:\n",
      "\n",
      "![Alt text](files/bf-notebook-0.png)\n",
      "\n",
      "The premium version of [Continuum\u2019s Anaconda](https://store.continuum.io/cshop/anaconda/), with [Accelerate](https://store.continuum.io/cshop/accelerate/), [IOPro](https://store.continuum.io/cshop/iopro/) and [MKL Optimizations](https://store.continuum.io/cshop/mkl-optimizations/) was used.  This distribution provided faster [BLAS](http://en.wikipedia.org/wiki/Basic_Linear_Algebra_Subprograms) libraries and greatly optimized NumPy operations.\n",
      "\n",
      "The data from GreatSchools was in a MySQL database and that was the method used for ingesting the data into the text pipeline.\n",
      "\n",
      "## Sharding the reviews data\n",
      "\n",
      "iPython\u2019s parallel clustering capabilities were leveraged.  This allows each core to represent a worker node which can work on part of the overall task.  With a 32 core system you can have 32 worker nodes, theoretically allowing you to process data in 1/32 the time of using a single core.  iPython has a scatter function which will take a dataset and shard it to all the workers available.  This was used to take the complete set of GreatSchools data and shard it across all workers.  In our production system we used an [Amazon c3.8xlarge](http://aws.amazon.com/ec2/instance-types/#instance-details), which is a 32 core system with 60GB of memory.  We supplemented the physical memory with 20GB of \u201cvirtual memory\u201d using a swapfile, thus giving each core approximately 28,000 reviews to work on with 2.5GB of memory each.\n",
      "\n",
      "![Alt text](files/bf-notebook-2.png)\n",
      "\n",
      "## Order of text processing pipeline\n",
      "\n",
      "During the course of working on the project, the order of operations being performed in the text pipeline changed.  There are many ways in which the operations can be combined, and most orderings involve a trade-off between performance and extracting the cleanest text.  For example, it is important that punctuation remain in place for part of speech (pos) tagging to perform optimally.  It is also important for words to be spelled correctly for a pos tagger to work correctly.  Similarly, it is difficult for a pos tagger to identify all Proper Nouns if you lowercase all text beforehand.  The final order of operations was decided on as being the most optimal for providing meaningful and clean nouns, which would be used as inputs to a topic model built using LDA.  \n",
      "\n",
      "![Alt text](files/bf-notebook-3.png)\n",
      "\n",
      "The text contains various [escape character](http://en.wikipedia.org/wiki/Escape_character) sequences and HTML encodings that needed to be removed, as not all the functions being used in text processing could handle them.  Basic string `replace()` methods and `re sub()` methods were used to handle this.\n",
      "\n",
      "The text was next tokenized using the [NLTK sentence and word tokenizers](http://nltk.org/api/nltk.tokenize.html).\n",
      "\n",
      "After tokenization, the text was spell corrected using the [Enchant spell correction library](http://www.abisource.com/projects/enchant/) from [Abiword](http://www.abisource.com) and its python helper library [pyenchant](http://pyenchant.readthedocs.org/en/latest/).  There were numerous spelling errors.  This would result in fragmentation of the analysis (word counts, parts of speech tagging, topic creation, etc.), and so it was decided to spell correct.  This was one of the most expensive operations in the text processing,.  Each word was compared to an English dictionary, and if no match was found, the most likely candidate was selected as long as it was within an edit distance of 2.\n",
      "\n",
      "Part of speech tagging was performed using [NLTK\u2019s Treebank maximum entropy classifier](http://nltk.org/api/nltk.classify.html) based pos tagger.  This is a slow but accurate pos tagger that was originally trained on the [Treebank](http://en.wikipedia.org/wiki/Treebank) corpus.  Ideally, we would have used a classifier that was trained on GreatSchools reviews or reviews data in general, but we felt the accuracy was good enough for our work.  We were looking at using only nouns and plural nouns in our topic model, and the default classification for almost all pos taggers including this one, is to use classify as a noun.  Most topic models are built using nouns as they are most representative of concrete topics.  Although adjectives, verbs and other parts of speech can add interesting context, they generally overpower the underlying nouns and can inject sentiment.  We were not using the words to classify sentiment, so only nouns were of interest.  Only nouns were further passed on in the pipeline.\n",
      "\n",
      "Once pos tagging was performed we then removed punctuation and words that were less than 3 characters.  These words would add no value to our topic model, and removing them greatly reduces the amount of data we are working with.\n",
      "\n",
      "All words were then lowercased using the normal python string `lower` method.\n",
      "\n",
      "Next, stop words were removed.  The stop words started with a list of common English stop words from the [NLTK stopword corpus](http://nltk.googlecode.com/svn/trunk/doc/api/nltk.corpus-module.html).  Additional words were manually added to create a `custom_stopset`, which we used to stop against all unigrams.\n",
      "\n",
      "Next words were lemmatized using [NLTK\u2019s WordNet Lemmatizer](http://nltk.org/_modules/nltk/stem/wordnet.html).  This was to reduce the dimension of data even further by aggregating words that either are the same root or have the same meaning.  The lemmatizer uses the pos tags to understand what words might be synonyms.  The lemmatizer would take a word such as *teacher* and *teachers* and make sure both were just *teacher*.  This kept us from fragmenting topics.  This operation was expensive but we felt it improved the quality of data considerably.  Other techniques were looked at such as stemming, but lemmatization appeared to be superior for our purpose, as we wanted to make sure the words that were used were actual words humans would understand, and stemmers can aggressively mangle words. \n",
      "\n",
      "## Example of a review moving through the pipeline\n",
      "\n",
      "`State California\n",
      "Data from reviews for review number 4\n",
      "GSID: 214510 NCES Code: 060177000041    Universal ID: 600001`\n",
      "\n",
      "#### Original Review Text\n",
      "\n",
      "`We just went to Open House at Alameda High, and found the teachers very dedicated.  They know their students and were ready to give individual feedback to parents.  There is a range of academic levels offered including some very challenging AP classes. Some classes are rather large, but the EXP and AP classes may be smaller. There is a range of students, from those who are not interested in studying, to those who are highly motivated and hard working, with GPA's over 4.0. There is a lot of student involvement in extracurricular activities, such as a poetry anthology they were selling to raise money for the English Dept., a book sale to benefit the media center, a blood drive sponsored by one of the clubs.  They have after school sports, an active music dept (the jazz band just performed at Yoshi's), extraodinary drama dept. that puts on several plays each year.`\n",
      "\n",
      "#### Tokenized Text with encodings removed\n",
      "\n",
      "`['We', 'just', 'went', 'to', 'Open', 'House', 'at', 'Alameda', 'High', ',', 'and', 'found', 'the', 'teachers', 'very', 'dedicated', '.', 'They', 'know', 'their', 'students', 'and', 'were', 'ready', 'to', 'give', 'individual', 'feedback', 'to', 'parents', '.', 'There', 'is', 'a', 'range', 'of', 'academic', 'levels', 'offered', 'including', 'some', 'very', 'challenging', 'AP', 'classes', '.', 'Some', 'classes', 'are', 'rather', 'large', ',', 'but', 'the', 'EXP', 'and', 'AP', 'classes', 'may', 'be', 'smaller', '.', 'There', 'is', 'a', 'range', 'of', 'students', ',', 'from', 'those', 'who', 'are', 'not', 'interested', 'in', 'studying', ',', 'to', 'those', 'who', 'are', 'highly', 'motivated', 'and', 'hard', 'working', ',', 'with', 'GPA\\\\', \"'s\", 'over', '4.0', '.', 'There', 'is', 'a', 'lot', 'of', 'student', 'involvement', 'in', 'extracurricular', 'activities', ',', 'such', 'as', 'a', 'poetry', 'anthology', 'they', 'were', 'selling', 'to', 'raise', 'money', 'for', 'the', 'English', 'Dept.', ',', 'a', 'book', 'sale', 'to', 'benefit', 'the', 'media', 'center', ',', 'a', 'blood', 'drive', 'sponsored', 'by', 'one', 'of', 'the', 'clubs', '.', 'They', 'have', 'after', 'school', 'sports', ',', 'an', 'active', 'music', 'dept', '(', 'the', 'jazz', 'band', 'just', 'performed', 'at', 'Yoshi\\\\', \"'s\", ')', ',', 'extraodinary', 'drama', 'dept', '.', 'that', 'puts', 'on', 'several', 'plays', 'each', 'year', '.']`\n",
      "\n",
      "#### Text after spell correction and part of speech tagging\n",
      "\n",
      "`[('We', 'PRP'), ('just', 'RB'), ('went', 'VBD'), ('to', 'TO'), ('Open', 'NNP'), ('House', 'NNP'), ('at', 'IN'), ('Alarmed', 'NNP'), ('High', 'NNP'), (',', ','), ('and', 'CC'), ('found', 'VBN'), ('the', 'DT'), ('teachers', 'NNS'), ('very', 'RB'), ('dedicated', 'VBN'), ('.', '.'), ('They', 'PRP'), ('know', 'VBP'), ('their', 'PRP$'), ('students', 'NNS'), ('and', 'CC'), ('were', 'VBD'), ('ready', 'RB'), ('to', 'TO'), ('give', 'VB'), ('individual', 'JJ'), ('feedback', 'NN'), ('to', 'TO'), ('parents', 'NNS'), ('.', '.'), ('There', 'EX'), ('is', 'VBZ'), ('a', 'DT'), ('range', 'NN'), ('of', 'IN'), ('academic', 'JJ'), ('levels', 'NNS'), ('offered', 'VBD'), ('including', 'VBG'), ('some', 'DT'), ('very', 'RB'), ('challenging', 'VBG'), ('AP', 'NNP'), ('classes', 'NNS'), ('.', '.'), ('Some', 'DT'), ('classes', 'NNS'), ('are', 'VBP'), ('rather', 'RB'), ('large', 'JJ'), (',', ','), ('but', 'CC'), ('the', 'DT'), ('EXP', 'NNP'), ('and', 'CC'), ('AP', 'NNP'), ('classes', 'NNS'), ('may', 'MD'), ('be', 'VB'), ('smaller', 'JJR'), ('.', '.'), ('There', 'EX'), ('is', 'VBZ'), ('a', 'DT'), ('range', 'NN'), ('of', 'IN'), ('students', 'NNS'), (',', ','), ('from', 'IN'), ('those', 'DT'), ('who', 'WP'), ('are', 'VBP'), ('not', 'RB'), ('interested', 'JJ'), ('in', 'IN'), ('studying', 'NN'), (',', ','), ('to', 'TO'), ('those', 'DT'), ('who', 'WP'), ('are', 'VBP'), ('highly', 'RB'), ('motivated', 'VBN'), ('and', 'CC'), ('hard', 'RB'), ('working', 'VBG'), (',', ','), ('with', 'IN'), ('GPA', 'NNP'), ('S', 'NNP'), ('over', 'IN'), ('4.0', 'CD'), ('.', '.'), ('There', 'EX'), ('is', 'VBZ'), ('a', 'DT'), ('lot', 'NN'), ('of', 'IN'), ('student', 'NN'), ('involvement', 'NN'), ('in', 'IN'), ('extracurricular', 'JJ'), ('activities', 'NNS'), (',', ','), ('such', 'JJ'), ('as', 'IN'), ('a', 'DT'), ('poetry', 'NN'), ('anthology', 'NN'), ('they', 'PRP'), ('were', 'VBD'), ('selling', 'VBG'), ('to', 'TO'), ('raise', 'VB'), ('money', 'NN'), ('for', 'IN'), ('the', 'DT'), ('English', 'NNP'), ('Dept', 'NNP'), (',', ','), ('a', 'DT'), ('book', 'NN'), ('sale', 'NN'), ('to', 'TO'), ('benefit', 'VB'), ('the', 'DT'), ('media', 'NNS'), ('center', 'NN'), (',', ','), ('a', 'DT'), ('blood', 'NN'), ('drive', 'NN'), ('sponsored', 'VBD'), ('by', 'IN'), ('one', 'CD'), ('of', 'IN'), ('the', 'DT'), ('clubs', 'NNS'), ('.', '.'), ('They', 'PRP'), ('have', 'VBP'), ('after', 'IN'), ('school', 'NN'), ('sports', 'NNS'), (',', ','), ('an', 'DT'), ('active', 'JJ'), ('music', 'NN'), ('dept', 'NN'), ('(', ':'), ('the', 'DT'), ('jazz', 'NN'), ('band', 'NN'), ('just', 'RB'), ('performed', 'VBN'), ('at', 'IN'), ('Yoshi\\\\', 'NNP'), ('S', 'NNP'), (')', 'NNP'), (',', ','), ('extraordinary', 'JJ'), ('drama', 'NN'), ('dept', 'NN'), ('.', '.'), ('that', 'IN'), ('puts', 'NNS'), ('on', 'IN'), ('several', 'JJ'), ('plays', 'NNS'), ('each', 'DT'), ('year', 'NN'), ('.', '.')]`\n",
      "\n",
      "#### Text after lowercase, removal of stopwords, removal of small words, removal of punctuation\n",
      "\n",
      "`['feedback', 'range', 'levels', 'classes', 'classes', 'classes', 'range', 'studying', 'involvement', 'activities', 'poetry', 'anthology', 'money', 'book', 'sale', 'media', 'center', 'blood', 'drive', 'clubs', 'sports', 'music', 'dept', 'jazz', 'band', 'drama', 'dept', 'puts', 'plays']`\n",
      "\n",
      "#### Text after lemmatization\n",
      "\n",
      "`['feedback', 'range', 'level', 'class', 'class', 'class', 'range', 'studying', 'involvement', 'activity', 'poetry', 'anthology', 'money', 'book', 'sale', 'medium', 'center', 'blood', 'drive', 'club', 'sport', 'music', 'dept', 'jazz', 'band', 'drama', 'dept', 'put', 'play']`\n",
      "\n",
      "The text you see above only contains nouns (pos types NN and NNS).  This is what was the final output for this particular review, which we would use for later processing (imputation of bigrams, and then fed into our LDA model).\n",
      "\n",
      "## Merging the reviews data\n",
      "\n",
      "After the data was independently processed by each worker, it was then merged back together into a single text.  This text had the same number of documents as the original text.  The difference was that the text was processed, and basically reduced down to nouns.\n"
     ]
    },
    {
     "cell_type": "heading",
     "level": 1,
     "metadata": {},
     "source": [
      "Code"
     ]
    },
    {
     "cell_type": "code",
     "collapsed": false,
     "input": [
      "# CELL 0\n",
      "\n",
      "%matplotlib inline\n",
      "\n",
      "import string\n",
      "import nltk\n",
      "import itertools\n",
      "from gensim import corpora, models, similarities\n",
      "from collections import defaultdict\n",
      "import sys\n",
      "import logging\n",
      "import random\n",
      "import operator\n",
      "import pymysql\n",
      "import csv\n",
      "import time\n",
      "import numpy as np\n",
      "import scipy as sp\n",
      "import pandas as pd\n",
      "import matplotlib.pyplot as plt\n",
      "# below for saving/loading files\n",
      "import pickle\n",
      "# below for search/replace of escape characters\n",
      "import re\n",
      "# below two imports needed for spell correction\n",
      "import enchant\n",
      "from nltk.metrics import edit_distance\n",
      "# below for bigrams\n",
      "from nltk.collocations import BigramCollocationFinder\n",
      "from nltk.metrics import BigramAssocMeasures\n",
      "from nltk import bigrams\n",
      "# below for part of speech tagging\n",
      "# uses 'taggers/maxent_treebank_pos_tagger/english.pickle'\n",
      "from nltk.corpus import wordnet\n",
      "# below for tokenizing\n",
      "from nltk.tokenize import word_tokenize, sent_tokenize\n",
      "# below for lemmatizer\n",
      "from nltk.stem import WordNetLemmatizer\n",
      "\n",
      "# set seed (only for debugging, no reason to do this unless you want repeatable result)\n",
      "# One area I did find it useful, was in experimenting with grid searches\n",
      "# np.random.seed(42)\n",
      "# random.seed(42)\n",
      "\n",
      "# setup logging\n",
      "logging.basicConfig(format='%(asctime)s : %(levelname)s : %(message)s', level=logging.INFO)\n",
      "\n",
      "# features, listed in the order of processing\n",
      "feature = {\n",
      "\n",
      "           # Text Pre-Processing\n",
      "           # The features below concern themselves with the text pre-processing pipeline.  For example the only time we use ipythons \n",
      "           # ipcluster is during text pre-processing.  Be very careful if you have any \"save\" bits, set.  You will want to make sure \n",
      "           # that your file_root (defined below the feature dict) is set to a correct value, so that you do not overwrite data you\n",
      "           # do not wish to.\n",
      "           \n",
      "           # Note: preprocess_load and texts_final_load are mutually exclusive.  It would not make sense to set them both, there\n",
      "           # are other combinations that don't make sense that could lead to errors as well.\n",
      "           \n",
      "           'parallel'              : 1, # enables ipython parallelization using multiple cores\n",
      "           'preprocess_save'       : 0, # write preprocessed data to file for later import CELL 97\n",
      "           'preprocess_load'       : 0, # load previously saved preprocessed data from file instead of db (CELL 70)\n",
      "           'remove_html'           : 1, # remove some html encodings, not needed if using data in database\n",
      "           'tokenize'              : 1, # tokenize using NLTK's sentence and word tokenizers\n",
      "           'spell_correct'         : 1, # spell correct\n",
      "           'pos_tag'               : 1, # part of speech tag\n",
      "           'only_tagged'           : 1, # only use parts of speech types listed in tag_set\n",
      "           'remove_punctuation'    : 1, # remove punctuation\n",
      "           'remove_smallwords'     : 1, # removes words with len(word) < 3\n",
      "           'alpha_only'            : 0, # use alphabetic words only (probably not necessary)\n",
      "           'analyze_spell_correct' : 1, # save text before spell correction for later analysis in CELL 98, 120, 130\n",
      "           'lowercase'             : 1, # lowercase text\n",
      "           'remove_stopwords'      : 1, # remove stopwords \n",
      "           'lemmatize'             : 1, # lemmatize text\n",
      "           'analyze_lemmatize'     : 1, # save text before lemmatization for later analysis in CELL 98, 120 \n",
      "           'lemma_dict'            : 1, # produce a dict of lemmas with words mapped to them in CELL 100 (time consuming)\n",
      "           'texts_final_load'      : 0, # load the texts_final\n",
      "           'texts_final_save'      : 0, # save the texts_final\n",
      "           \n",
      "           # Dictionary / Corpus\n",
      "           # The features below concern themselves with the creation of a dictionary and corpus.\n",
      "           \n",
      "           'dict_corpus_load'      : 0, # load the dictionary and corpus in CELL 205\n",
      "           'dict_corpus_save'      : 0, # save the dictionary created in CELL 182 and the corpus created in CELL 212\n",
      "           'tfidf'                 : 0, # TF-IDF transform corpus, otherwise leave as bag of words\n",
      "           \n",
      "           # LDA\n",
      "           # The features below concer themselves with the actual creation of the LDA model.  This is where the Pyro4\n",
      "           # framework would be used if available.\n",
      "           \n",
      "           'perplexity_search'     : 0, # enables perplexity grid search in CELL 268 rather than regular model in 270\n",
      "           'model_load'            : 0, # load the model in CELL 289\n",
      "           'model_save'            : 0, # save the model in CELL 290\n",
      "           'corpus_model_load'     : 0, # load the corpus model in CELL 293\n",
      "           'corpus_model_save'     : 0, # save the corpus model in CELL 295\n",
      "           'beta_gamma_save'       : 0, # save the LDA models beta and gamma in CELL 310\n",
      "           'model_topics_load'     : 0, # load model_topics in CELL 301\n",
      "           'model_topics_save'     : 0  # save model_topics in CELL 302\n",
      "           }\n",
      "\n",
      "# Maximum number of reviews to use if loading from the database, set to 0 to use all review data requested\n",
      "# If you are just trying out this notebook, I recommend setting this to a low number like 500, 1000, 3000, etc.\n",
      "# As if the query set in CELL 70 is \"all reviews\" or something like that, it could take many hours to complete\n",
      "# text processing and model building depending on the platform it is running on.\n",
      "MAX_NUM_REVIEWS = 500\n",
      "\n",
      "# State to get data for, should be set to a valid 2 letter state abbreviation.  If set to \"ALL\" it will pull data for all states\n",
      "# This applies for when loading data from the database\n",
      "state = \"CA\"\n",
      "\n",
      "# directory to look for data files\n",
      "data_dir = \"data\"\n",
      "\n",
      "# file root name (do not add file extension).  This is used to build almost every filename used in the notebook, whether you are\n",
      "# loading or saving files.  Its important to set it correctly if you have any of the \"save\" bits set in the feature matrix, \n",
      "# otherwise you could overwrite previously saved data.\n",
      "file_root = \"schools\"\n",
      "\n",
      "# which parts of speech tags to use when only_tagged feature enabled\n",
      "# for explaination of tags http://bulba.sdsu.edu/jeanette/thesis/PennTags.html\n",
      "tag_set = ['NN','NNS']\n",
      "\n",
      "# our stopsets\n",
      "custom_stopset = ['school','teachers','students','children','parents','kids','child','parent','son','sons','student','schools',\n",
      "                  'daughter','daughters',\"I'm\",\"i'm\",\"I've\",\"i've\",'teacher','principal','principle','mr','Mr','ms','Mrs',\n",
      "                  'dint','kindergarten','would','went','get','one','ones','st','make','year','years','aw','grandson','ma',\n",
      "                  \"La's\",'la','way','thing','lot','everybody','everyone','great','excellent','part','hill','valley','den',\n",
      "                  'alto','crest','wood','land','love','amazing','okay']\n",
      "\n",
      "stopset_unigram = set(nltk.corpus.stopwords.words('english'))\n",
      "stopset_unigram = stopset_unigram.union(set(custom_stopset))\n",
      "stopset_bigrams = []\n",
      "\n",
      "# number of topics to use in LDA model.  This is set hear as opposed to just in CELL 270 where the model runs, because it is used\n",
      "# in the creation of many filenames which can be saved/loaded (set in feature dict) that are specific to the number of \n",
      "# topics of the model.\n",
      "num_topics = 75"
     ],
     "language": "python",
     "metadata": {},
     "outputs": [],
     "prompt_number": 1
    },
    {
     "cell_type": "code",
     "collapsed": false,
     "input": [
      "# CELL 25\n",
      "# summary statistics\n",
      "def summary_stats(texts):\n",
      "    \"\"\"\n",
      "    Produces Summary Statistics on the texts provided\n",
      "    \n",
      "    Parameters\n",
      "    ----------\n",
      "    texts : A tokenized set of documents (list of lists)\n",
      "    \"\"\"\n",
      "    token_count = defaultdict(int)\n",
      "    for word in itertools.chain.from_iterable(texts):\n",
      "        token_count[word] += 1\n",
      "    print \"%d words appear in the text just 1 time\" % sum([1 for word in token_count if token_count[word] == 1])\n",
      "    print \"%d words appear in the text just 2 times\" % sum([1 for word in token_count if token_count[word] == 2])\n",
      "    n, min_max, mean, var, skew, kurt = sp.stats.describe(token_count.values())\n",
      "    print(\"Number of unique words: {0:d}\".format(n))\n",
      "    print(\"Minimum freq: {0:8d} Maximum freq: {1:8d}\".format(min_max[0], min_max[1]))\n",
      "    print(\"Mean: {0:8.2f}\".format(mean))\n",
      "    print(\"Std. deviation : {0:8.6f}\".format(sp.std(token_count.values())))\n",
      "    print(\"Variance: {0:8.2f}\".format(var))\n",
      "    print(\"Skew : {0:8.2f}\".format(skew))\n",
      "    print(\"Kurtosis: {0:8.2f}\".format(kurt))"
     ],
     "language": "python",
     "metadata": {},
     "outputs": [],
     "prompt_number": 2
    },
    {
     "cell_type": "code",
     "collapsed": false,
     "input": [
      "# CELL 30\n",
      "# MySQL functions\n",
      "\n",
      "\"\"\"\n",
      "class mysql_ops\n",
      "\n",
      "functions:\n",
      "\n",
      "    mysql_connect - connects to our MySQL db\n",
      "    mysql_disconnect - disconnects\n",
      "    get_mysql_data - generic retrieval function that invokes a stored procedure returning a denormalized df combining school and review data\n",
      "    \n",
      "    retrieval methods (commented inline)\n",
      "    \n",
      "\"\"\"\n",
      "class mysql_ops(object):\n",
      "    \n",
      "    # returns a connection to our MySQL db\n",
      "    @classmethod\n",
      "    def mysql_connect(self):\n",
      "        \n",
      "        cnx = pymysql.connect(host='cs109instance.ccikshmkulj7.us-east-1.rds.amazonaws.com', \n",
      "                               port=3306, \n",
      "                               user='michael', \n",
      "                               passwd='michael', \n",
      "                               db='cs109gs')\n",
      "        this_cursor = cnx.cursor(pymysql.cursors.DictCursor)\n",
      "        return cnx, this_cursor\n",
      "    \n",
      "    # close cursor and MySQL connection\n",
      "    @classmethod\n",
      "    def mysql_disconnect(self, cnx, cursor):\n",
      "        cursor.close()\n",
      "        cnx.close() # close db connection\n",
      "        \n",
      "    # get data from mysql db\n",
      "    def get_mysql_data(self, sql, data_id1=None, data_id2=None):\n",
      "        \n",
      "        cnx, cursor = self.mysql_connect()\n",
      "        \n",
      "        if data_id2:\n",
      "            cursor.callproc(sql, (data_id1, data_id2))\n",
      "        elif data_id1:\n",
      "            cursor.callproc(sql, (data_id1,))\n",
      "        else:\n",
      "            cursor.callproc(sql)\n",
      "        \n",
      "        if (cursor.rowcount > 0):\n",
      "            df = pd.DataFrame(cursor.fetchall())\n",
      "            self.mysql_disconnect(cnx, cursor)# close db connection\n",
      "            return df\n",
      "        else:\n",
      "            self.mysql_disconnect(cnx, cursor)# close db connection\n",
      "            print \"no rows returned\"\n",
      "        \n",
      "        return None\n",
      "    \n",
      "    # return all reviews for one school gsid (denormalized, i.e. with the associated school data repeated per review)\n",
      "    def get_reviews_gsid(self, gsid):\n",
      "        sql = 'school_reviews_by_gsid'\n",
      "        return self.get_mysql_data(sql, gsid)\n",
      "     \n",
      "    # return ethnic composition data for one school gsid \n",
      "    def get_race_gsid(self, gsid):\n",
      "        sql = 'school_race_by_gsid'\n",
      "        return self.get_mysql_data(sql, gsid)\n",
      "    \n",
      "    # return GS census data for one school gsid \n",
      "    def get_census_gsid(self, gsid):\n",
      "        sql = 'school_census_by_gsid'\n",
      "        return self.get_mysql_data(sql, gsid)\n",
      "    \n",
      "    # return GS test results data for one school gsid \n",
      "    def get_results_gsid(self, gsid):\n",
      "        sql = 'school_results_by_gsid'\n",
      "        return self.get_mysql_data(sql, gsid)\n",
      " \n",
      "    # return all reviews for one school ncesid (denormalized)\n",
      "    def get_reviews_ncesid(self, ncesid):\n",
      "        sql = 'school_reviews_by_ncesid'\n",
      "        return self.get_mysql_data(sql, ncesid)\n",
      "    \n",
      "    # return all reviews for one school ncesid \n",
      "    def get_reviews_districtncesid(self, districtncesid):\n",
      "        sql = 'school_reviews_by_districtncesid'\n",
      "        return self.get_mysql_data(sql, districtncesid)\n",
      "    \n",
      "    # return all reviews for one state \n",
      "    def get_reviews_state(self, state):\n",
      "        sql = 'school_reviews_by_state'\n",
      "        return self.get_mysql_data(sql, state)\n",
      "    \n",
      "     # return all census data for one state \n",
      "    def get_census_state(self, state):\n",
      "        sql = 'school_census_by_state'\n",
      "        return self.get_mysql_data(sql, state)\n",
      "    \n",
      "     # return all test results for one state \n",
      "    def get_results_state(self, state):\n",
      "        sql = 'school_results_by_state'\n",
      "        return self.get_mysql_data(sql, state)\n",
      "    \n",
      "     # return all test results for one state and year\n",
      "    def get_results_state_year(self, state, year):\n",
      "        sql = 'school_results_by_state_year'\n",
      "        return self.get_mysql_data(sql, state, year)\n",
      "    \n",
      "    # return all reviews for one county\n",
      "    def get_reviews_county(self, state, county):\n",
      "        sql = 'school_reviews_by_county'\n",
      "        return self.get_mysql_data(sql, state, county)\n",
      "    \n",
      "    # return all reviews containing text string\n",
      "    def get_reviews_string(self, text_string):\n",
      "        sql = 'school_reviews_by_string'\n",
      "        return self.get_mysql_data(sql, text_string)\n",
      "    \n",
      "    # note the psql syntax: returns all schools / reviews in db \n",
      "    # CAREFUL WITH THIS ONE:  IT WILL TAKE A LONG TIME AND RETURN EVERYTHING!\n",
      "    def get_all_reviews(self):\n",
      "        sql = 'school_reviews' \n",
      "        return self.get_mysql_data(sql)\n",
      "        #df = psql.frame_query(sql, cn)\n",
      "        #cn = cnx.mysql_disconnect()\n",
      "        #return df\n",
      "    \n",
      "    #return all cities and towns for a given state\n",
      "    def get_cities_towns_by_state(self, state):\n",
      "        sql = 'get_cities_towns_by_state' \n",
      "        return self.get_mysql_data(sql, state)\n",
      "    "
     ],
     "language": "python",
     "metadata": {},
     "outputs": [],
     "prompt_number": 3
    },
    {
     "cell_type": "code",
     "collapsed": false,
     "input": [
      "# CELL 50\n",
      "# Spell Checker Class\n",
      "\n",
      "# SpellingReplacer class taken from Python Text Processing with NLTK 2.0 Cookbook\n",
      "# It will return the word if its in the dictionary, otherwise return the closest word it can match if <= self.max_dist\n",
      "# Otherwise, it will return the word\n",
      "class SpellingReplacer(object):\n",
      "    \n",
      "    def __init__(self, dict_name='en_US', max_dist=2):\n",
      "        self.spell_dict = enchant.Dict(dict_name)\n",
      "        self.max_dist = 2\n",
      "    def replace(self, word):\n",
      "        if self.spell_dict.check(word):\n",
      "            return word\n",
      "        suggestions = self.spell_dict.suggest(word)\n",
      "        if suggestions and edit_distance(word, suggestions[0]) <= self.max_dist:\n",
      "            return suggestions[0]\n",
      "        else:\n",
      "            return word"
     ],
     "language": "python",
     "metadata": {},
     "outputs": [],
     "prompt_number": 4
    },
    {
     "cell_type": "code",
     "collapsed": false,
     "input": [
      "# CELL 60\n",
      "# We instantiate a SpellingReplacer, and do a quick test\n",
      "if(feature['spell_correct']):\n",
      "    replacer = SpellingReplacer()\n",
      "    replacer.replace('cookbok')"
     ],
     "language": "python",
     "metadata": {},
     "outputs": [],
     "prompt_number": 5
    },
    {
     "cell_type": "code",
     "collapsed": false,
     "input": [
      "# CELL 70\n",
      "# if preprocess_load is set get reviews as well as other data from pre-saved files\n",
      "# otherwise get reviews data either by db\n",
      "\n",
      "if(feature['preprocess_load']):\n",
      "    filename = data_dir + '/' + file_root + '-reviews_indexes.pickle'\n",
      "    with open(filename) as f:\n",
      "        reviews_indexes = pickle.load(f)\n",
      "    print \"Loaded file %s of size %d\" % (filename,len(reviews_indexes))\n",
      "\n",
      "    filename = data_dir + '/' + file_root + '-reviews.pickle'\n",
      "    with open(filename) as f:\n",
      "        reviews = pickle.load(f)\n",
      "    print \"Loaded file %s of size %d\" % (filename,len(reviews))\n",
      "\n",
      "    filename = data_dir + '/' + file_root + '-school_names.pickle'\n",
      "    with open(filename) as f:\n",
      "        school_names = pickle.load(f)\n",
      "    print \"Loaded file %s of size %d\" % (filename,len(school_names))\n",
      "    \n",
      "    filename = data_dir + '/' + file_root + '-texts.pickle'\n",
      "    with open(filename) as f:\n",
      "        texts = pickle.load(f)\n",
      "    print \"Loaded file %s of size %d\" % (filename,len(texts))\n",
      "\n",
      "    filename = data_dir + '/' + file_root + '-texts_uncorrected.pickle'\n",
      "    with open(filename) as f:\n",
      "        texts_uncorrected = pickle.load(f)\n",
      "    print \"Loaded file %s of size %d\" % (filename,len(texts_uncorrected))\n",
      "\n",
      "    filename = data_dir + '/' + file_root + '-texts_unlemmatized.pickle'\n",
      "    with open(filename) as f:\n",
      "        texts_unlemmatized = pickle.load(f)\n",
      "    print \"Loaded file %s of size %d\" % (filename,len(texts_unlemmatized))\n",
      "\n",
      "    filename = data_dir + '/' + file_root + '-texts_pos.pickle'\n",
      "    with open(filename) as f:\n",
      "        texts_pos = pickle.load(f)\n",
      "    print \"Loaded file %s of size %d\" % (filename,len(texts_pos))\n",
      "\n",
      "    filename = data_dir + '/' + file_root + '-lemma_dict.pickle'\n",
      "    with open(filename) as f:\n",
      "        lemma_dict = pickle.load(f)\n",
      "    print \"Loaded file %s of size %d\" % (filename,len(lemma_dict))\n",
      "\n",
      "if(not (feature['preprocess_load'] or feature['texts_final_load'])):\n",
      "    # instance mysql_ops\n",
      "    cnx = mysql_ops()\n",
      "    \n",
      "    # Here is where we set what query we wish to use.  It can be one that involves a constrain using MAX_NUM_REVIEWS or not.\n",
      "    # You can add whatever query you like, a full list are available in CELL 30.  Below just shows \"get_all_reviews()\" and\n",
      "    # \"get_all_reviews_state\" as those would likely be the most commonly used with this notebook.\n",
      "    if(MAX_NUM_REVIEWS == 0):\n",
      "        if((state == \"ALL\") or (state == \"all\")):\n",
      "            reviews = cnx.get_all_reviews()[['id','nces_code','universal_id','postdate','name','reviews']]\n",
      "        else:\n",
      "            reviews = cnx.get_reviews_state(state)[['id','nces_code','universal_id','postdate','name','reviews']]\n",
      "    else:\n",
      "        if((state == \"ALL\") or (state == \"all\")):\n",
      "            reviews = cnx.get_all_reviews()[['id','nces_code','universal_id','postdate','name','reviews']][:MAX_NUM_REVIEWS]\n",
      "        else:\n",
      "            reviews = cnx.get_reviews_state(state)[['id','nces_code','universal_id','postdate','name','reviews']][:MAX_NUM_REVIEWS]\n",
      "            \n",
      "    # We save off the indexes of each review so we can correlate everything later if needed\n",
      "    reviews_indexes = reviews[['id','nces_code','universal_id','postdate']]\n",
      "    \n",
      "    # This is a list of school names, which we immediately reduce to a set().  Its only being used to create bigrams from\n",
      "    # which will them be added to a special stopset for bigrams.  Here they are unprocessed by after CELL 90 they will be \n",
      "    # very different looking, and very sparse, as most will have been removed during pre-processing (most parts of school names\n",
      "    # are either stopped in our pre-processing or are not parts of speech that we decide to keep, nouns for example)\n",
      "    school_names = list(set(reviews['name']))\n",
      "    \n",
      "    # This is the core of what we are processing and building our model on.  The unprocessed data from the database.\n",
      "    reviews = reviews['reviews']\n",
      "    print \"Ingested %d documents from database\" % len(reviews)"
     ],
     "language": "python",
     "metadata": {},
     "outputs": [
      {
       "output_type": "stream",
       "stream": "stdout",
       "text": [
        "Ingested 500 documents from database\n"
       ]
      }
     ],
     "prompt_number": 6
    },
    {
     "cell_type": "code",
     "collapsed": false,
     "input": [
      "# CELL 75\n",
      "# setup ipython for parallel processing\n",
      "if(feature['parallel'] and not (feature['preprocess_load'] or feature['texts_final_load'])):\n",
      "    from IPython.parallel import Client\n",
      "\n",
      "    # first start an ipython cluster on your machine.  For example, for 4 cores:\n",
      "    #    ipcluster start -n 4 \n",
      "\n",
      "    # Setup client instance\n",
      "    rc = Client()\n",
      "    print \"Discovered %d cores\" % len(rc)\n",
      "    rc.ids\n",
      "\n",
      "    # we will use a DirectView object for direct execution across all cores\n",
      "    # all your cores are belong to us\n",
      "    dv = rc[:]\n",
      "\n",
      "    # We will block on all executions\n",
      "    dv.block=True\n",
      "\n",
      "    dv.scatter('partition_ids', range(len(rc)))\n",
      "    %px print(partition_ids)\n",
      "    %px partition_id = partition_ids[0]\n",
      "    %px print(partition_id)"
     ],
     "language": "python",
     "metadata": {},
     "outputs": [
      {
       "output_type": "stream",
       "stream": "stdout",
       "text": [
        "Discovered 4 cores\n",
        "[stdout:0] [0]\n"
       ]
      },
      {
       "output_type": "stream",
       "stream": "stdout",
       "text": [
        "[stdout:1] [1]\n",
        "[stdout:2] [2]\n",
        "[stdout:3] [3]\n",
        "[stdout:0] 0\n",
        "[stdout:1] 1\n",
        "[stdout:2] 2\n",
        "[stdout:3] 3\n"
       ]
      }
     ],
     "prompt_number": 7
    },
    {
     "cell_type": "code",
     "collapsed": false,
     "input": [
      "# CELL 80\n",
      "# remove punctuation, remove stopwords, remove words < 3, remove non alpha words, spell correct, lemmatize\n",
      "# you need to comment out the below decorator if you don't want to run parallel\n",
      "if(not (feature['preprocess_load'] or feature['texts_final_load'])):\n",
      "\n",
      "    @dv.remote(block=True)\n",
      "    def clean_data():\n",
      "    \n",
      "        replacer = SpellingReplacer()\n",
      "\n",
      "        texts = []\n",
      "        texts_uncorrected = []\n",
      "        texts_unlemmatized = []\n",
      "        texts_pos = []\n",
      "        lemma_dict = defaultdict(set)\n",
      "        counter = 0\n",
      "    \n",
      "        # we need to strip escape characters so we compile a pattern\n",
      "        hexchars = re.compile('\\\\\\\\x(\\w{2})')\n",
      "        \n",
      "        # Instantiate a WordNet Lemmatizer\n",
      "        wnl = WordNetLemmatizer()\n",
      "        \n",
      "        # convert penn_tag to morphy_tag used by WordNet Lemmatizer\n",
      "        # http://stackoverflow.com/questions/5364493/lemmatizing-pos-tagged-words-with-nltk\n",
      "        morphy_tag = {'NN':wordnet.NOUN,'JJ':wordnet.ADJ,'VB':wordnet.VERB,'RB':wordnet.ADV}\n",
      "        \n",
      "        print \"Starting to process %d documents\" % len(data_to_clean)\n",
      "    \n",
      "        for review_text in data_to_clean:\n",
      "            \n",
      "            # print result to stdout, note that when using parallel stdout is not sent to the Client\n",
      "            if(not feature['parallel']):\n",
      "                counter += 1\n",
      "                if ((counter % 1000)==0):\n",
      "                    print \"%d documents processed\" % counter\n",
      "                sys.stdout.flush()\n",
      "                          \n",
      "            # If its empty, impute \"the\" which is ignored anyways.  This needs to be done vs. skipping in order\n",
      "            # to keep our indexes 1:1 across all texts for analysis\n",
      "            if review_text == None:\n",
      "                review_text = \"the\"\n",
      "        \n",
      "            # remove html encodings\n",
      "            if(feature['remove_html']):\n",
      "                review_text = review_text.replace('&amp;','').replace('&lt;','').replace('&gt;','').replace('&quot;','').replace('&#039;','').replace('&#034;','')\n",
      "                review_text = re.sub(hexchars, '', review_text.encode(\"string-escape\"))\n",
      "          \n",
      "            # tokenize, you don't want to turn this off\n",
      "            if(feature['tokenize']):\n",
      "                review_text = [word for sent in sent_tokenize(review_text) for word in word_tokenize(sent)]\n",
      "            else:\n",
      "                review_text = [word for word in review_text.split()]\n",
      "            \n",
      "            # Below line is just to store uncorrected text so we can check spelling routines later\n",
      "            if(feature['analyze_spell_correct'] and feature['spell_correct']):\n",
      "                texts_uncorrected.append(review_text)\n",
      "            \n",
      "            # Spell correction using the Enchant library\n",
      "            # The corrected words that are returned may be capitalized as part of the correction, or even have\n",
      "            # things like apostrophes added.  We will just leave these in place for now as this does not effect\n",
      "            # the data quality. What is important is at this point the data has been de-duplicated, corrected and\n",
      "            # is consistant.  So instead of \"california\", \"California\", \"Califonria\", it may all be just \"California\"\n",
      "            # Note that spell correction DOES remove punctuation!\n",
      "            if(feature['spell_correct']):\n",
      "                review_text =  [word for words in review_text for word in replacer.replace(words).split()]\n",
      "                   \n",
      "            # get parts of speech\n",
      "            if(feature['pos_tag']):\n",
      "                review_text_pos = [word for word in nltk.pos_tag(review_text)]\n",
      "                texts_pos.append(review_text_pos)\n",
      "            \n",
      "                # Remove anything that is not in our tag_set\n",
      "                if(feature['only_tagged']):\n",
      "                    # review_text = [word[0] for word in review_text_pos if word[1] in tag_set]\n",
      "                    review_text = [word for word in review_text_pos if word[1] in tag_set]\n",
      "                else:\n",
      "                    review_text = [word for word in review_text_pos]\n",
      "    \n",
      "            # remove punctuation\n",
      "            if(feature['remove_punctuation']):\n",
      "                if(feature['pos_tag']):\n",
      "                    review_text = [(word[0].translate(string.maketrans(\"\",\"\"), string.punctuation),word[1]) for word in review_text]\n",
      "                else:\n",
      "                    review_text = [word.translate(string.maketrans(\"\",\"\"), string.punctuation) for word in review_text]\n",
      "                        \n",
      "            # remove smallwords\n",
      "            if(feature['remove_smallwords']):\n",
      "                if(feature['pos_tag']):\n",
      "                    review_text = [(word[0],word[1]) for word in review_text if not len(word[0]) < 3]\n",
      "                else:\n",
      "                    review_text = [word for word in review_text if not len(word) < 3]\n",
      "                \n",
      "            # Only consider alpha words (probably uncessary)\n",
      "            if(feature['alpha_only']):\n",
      "                if(feature['pos_tag']):\n",
      "                    review_text = [(word[0],word[1]) for word in review_text if word[0].isalpha()]\n",
      "                else:\n",
      "                    review_text = [word for word in review_text if word.isalpha()]\n",
      "            \n",
      "            # lowercase all text\n",
      "            if(feature['lowercase']):\n",
      "                if(feature['pos_tag']):\n",
      "                    review_text = [(word[0].lower(),word[1]) for word in review_text]\n",
      "                else:\n",
      "                    review_text = [word.lower() for word in review_text]\n",
      "            \n",
      "            # remove stopwords\n",
      "            if(feature['remove_stopwords']):\n",
      "                if(feature['pos_tag']):\n",
      "                    review_text = [word for word in review_text if not word[0] in stopset_to_use]\n",
      "                else:\n",
      "                    review_text = [word for word in review_text if not word in stopset_to_use]\n",
      "            \n",
      "            # Below line is just to store unlemmatized text so we can check statistics later\n",
      "            if((feature['analyze_lemmatize'] and feature['lemmatize']) or (feature['analyze_spell_correct'] and feature['spell_correct'])):\n",
      "                if(feature['pos_tag']):\n",
      "                    texts_unlemmatized.append([word[0] for word in review_text])\n",
      "                else:\n",
      "                    texts_unlemmatized.append(review_text)\n",
      "                    \n",
      "            # Lemmatize using the Wordnet Lemmatizer\n",
      "            # Use nltk's lemmatizer to create word stems\n",
      "            if(feature['lemmatize'] and not feature['lemma_dict']):\n",
      "                if(feature['pos_tag']):\n",
      "                    # convert penn_tag to morphy_tag used by WordNet Lemmatizer\n",
      "                    review_text = [wnl.lemmatize(word[0],morphy_tag[word[1][:2]]) for word in review_text]\n",
      "                else:\n",
      "                    review_text = [wnl.lemmatize(word) for word in review_text]\n",
      "                \n",
      "            # creating a dictionary of lemmas can take a while, you may wish to first try on a small set by setting MAX_NUM_REVIEWS\n",
      "            # in CELL 0\n",
      "            if(feature['lemmatize'] and feature['lemma_dict']):\n",
      "                lemma_text = []\n",
      "                for word in review_text:\n",
      "                    if(feature['pos_tag']):\n",
      "                        orig_word = word[0]\n",
      "                        lemma = wnl.lemmatize(word[0],morphy_tag[word[1][:2]])\n",
      "                    else:\n",
      "                        orig_word = word\n",
      "                        lemma = wnl.lemmatize(word)\n",
      "                        \n",
      "                    # if word doesn't match its lemma then add this word to our lemma_dict\n",
      "                    if lemma != orig_word:\n",
      "                        lemma_dict[lemma].add(orig_word)\n",
      "                        \n",
      "                    lemma_text.append(lemma)\n",
      "                \n",
      "                review_text = lemma_text\n",
      "    \n",
      "            # remove stopwords and smallwords a second time, to make sure none were introduced from lemmatization \n",
      "            if(feature['lemmatize']):\n",
      "                if(feature['remove_smallwords']):\n",
      "                    review_text = [word for word in review_text if not len(word) < 3]\n",
      "    \n",
      "                if(feature['remove_stopwords']):\n",
      "                    review_text = [word for word in review_text if not word in stopset_to_use]\n",
      "    \n",
      "                        \n",
      "            # if pos_tag is turned on but lemma is not, then our text still has tags and we need to remove them\n",
      "            if(feature['pos_tag'] and not feature['lemmatize']):\n",
      "                review_text = [word[0] for word in review_text]\n",
      "            \n",
      "            # add to our list\n",
      "            texts.append(review_text)\n",
      "        return texts, texts_uncorrected, texts_unlemmatized, texts_pos, lemma_dict"
     ],
     "language": "python",
     "metadata": {},
     "outputs": [],
     "prompt_number": 8
    },
    {
     "cell_type": "code",
     "collapsed": false,
     "input": [
      "# CELL 85\n",
      "# setup clean_data for parallel processing\n",
      "if(feature['parallel'] and not (feature['preprocess_load'] or feature['texts_final_load'])):\n",
      "\n",
      "    # We sychronize our imports to our remote workers, as they have seperate environments than ours\n",
      "    # these are just the imports that are needed for clean_data()\n",
      "    with dv.sync_imports():\n",
      "        import nltk\n",
      "        import sys\n",
      "        import string\n",
      "        import enchant\n",
      "        import re\n",
      "        from collections import defaultdict\n",
      "        from nltk.stem import WordNetLemmatizer\n",
      "        from nltk.tokenize import word_tokenize, sent_tokenize\n",
      "        from nltk.metrics import edit_distance\n",
      "        from nltk.corpus import wordnet"
     ],
     "language": "python",
     "metadata": {},
     "outputs": [
      {
       "output_type": "stream",
       "stream": "stdout",
       "text": [
        "importing nltk on engine(s)\n",
        "importing sys on engine(s)\n",
        "importing string on engine(s)\n",
        "importing enchant on engine(s)\n",
        "importing re on engine(s)\n",
        "importing defaultdict from collections on engine(s)\n",
        "importing WordNetLemmatizer from nltk.stem on engine(s)\n",
        "importing word_tokenize,sent_tokenize from nltk.tokenize on engine(s)\n",
        "importing edit_distance from nltk.metrics on engine(s)\n",
        "importing wordnet from nltk.corpus on engine(s)\n"
       ]
      }
     ],
     "prompt_number": 9
    },
    {
     "cell_type": "code",
     "collapsed": false,
     "input": [
      "%%time\n",
      "# CELL 90\n",
      "\n",
      "# %%time reports Wall time: 4.19 s for my Quad Core 2.66Ghz mac pro in parallel mode\n",
      "# %%time reports Wall time: 1min 2s for Amazon instance using ALL reviews data ~900k\n",
      "\n",
      "# get school names and create bigrams from them, then add those bigrams to our bigram stopset\n",
      "\n",
      "# We clean our school_names the exact same way we clean other data, this must be done for them be used\n",
      "# properly as stop words\n",
      "\n",
      "# You will NOT see stdout from the workers if using parallel processing\n",
      "\n",
      "# The commands below make use of the global name space as opposed to passing variables to the function. The nature of ipythons\n",
      "# paralell architecture is that it basically relies on global variables in its own environment.  We rename them here to \n",
      "# keep things organized\n",
      "if(not (feature['preprocess_load'] or feature['texts_final_load'])):\n",
      "    \n",
      "    data_to_clean = school_names\n",
      "    stopset_to_use = stopset_unigram\n",
      "    \n",
      "    # copy the data_to_clean and stopset_to_use into name space of remote workers\n",
      "    if(feature['parallel']):\n",
      "        \n",
      "        # We use ipythons parallel processing \"scatter\" to shard \"reviews\" accross our cores\n",
      "        dv.scatter('data_to_clean',data_to_clean)\n",
      "        \n",
      "        # We copy the objects feature, stopset, tag_set as well as the Class SpellingReplacer to our remote workers\n",
      "        dv['feature'] = feature\n",
      "        dv['stopset_to_use'] = stopset_to_use\n",
      "        dv['tag_set'] = tag_set\n",
      "        dv['SpellingReplacer'] = SpellingReplacer\n",
      "        \n",
      "        # Show size of entire data being sent for processing\n",
      "        print \"Total data size: %d\" % len(data_to_clean)\n",
      "        \n",
      "        # Show the shard size of each remote worker\n",
      "        print \"Sharded data size for each worker\"\n",
      "        %px print len(data_to_clean)\n",
      "    \n",
      "        # clean the school_names\n",
      "        result = clean_data()\n",
      "    else:\n",
      "        # We are not running parallel and we only care about the first text returned from clean_data()\n",
      "        school_names = clean_data()[0]"
     ],
     "language": "python",
     "metadata": {},
     "outputs": [
      {
       "output_type": "stream",
       "stream": "stdout",
       "text": [
        "Total data size: 27\n",
        "Sharded data size for each worker\n",
        "[stdout:0] 7\n",
        "[stdout:1] 7\n",
        "[stdout:2] 7\n",
        "[stdout:3] 6\n",
        "CPU times: user 841 ms, sys: 222 ms, total: 1.06 s"
       ]
      },
      {
       "output_type": "stream",
       "stream": "stdout",
       "text": [
        "\n",
        "Wall time: 9.52 s\n"
       ]
      }
     ],
     "prompt_number": 10
    },
    {
     "cell_type": "code",
     "collapsed": false,
     "input": [
      "# CELL 91\n",
      "# Merge Parallel Data back from remote workers back into one set for school_names\n",
      "if(feature['parallel'] and not (feature['preprocess_load'] or feature['texts_final_load'])):\n",
      "    school_names = []\n",
      "\n",
      "    for worker in result:\n",
      "        school_names.extend(worker[0])\n",
      "\n",
      "    print \"Total data size after merge: %d\" % len(school_names)"
     ],
     "language": "python",
     "metadata": {},
     "outputs": [
      {
       "output_type": "stream",
       "stream": "stdout",
       "text": [
        "Total data size after merge: 27\n"
       ]
      }
     ],
     "prompt_number": 11
    },
    {
     "cell_type": "markdown",
     "metadata": {},
     "source": [
      "## Richening the text with bigrams\n",
      "\n",
      "We created bigrams from the above text in `CELL 110` and included those as well.  This brought about interesting bigrams that would frequently appear, such as *test scores*,  *front office*, *music program*, *field trip*, etc.  Once again, these were just built off of nouns.  The bigrams were added back to our processed document so that we ended up with each review being a list of unigrams and bigrams of that review.  We created a stopset here in `CELL 93` using the school names, so that these could be stopped from any bigrams that were created.  This is because the school names themselves were very frequent in bigrams and we were not concerned with the names of the school in doing topic analysis.\n"
     ]
    },
    {
     "cell_type": "code",
     "collapsed": false,
     "input": [
      "# CELL 93\n",
      "# Create stopset_bigrams from bigrams created using school names for creation of a bigram stopset\n",
      "\n",
      "# We create bigrams from the school_names, union with the original stopset to create our final bigram stopset\n",
      "\n",
      "# We only stop bigrams made from school names.  Not unigrams.  This is because there are too many words potentially used in school \n",
      "# names which we would not want to stop.  For example the word \"Art\", or \"Science\" or any number of other words.  When discussing \n",
      "# a school in a review however, reviewers repeatedly mention school names, for example if the school name were \"Glenn Brook Middle\n",
      "# School\" they may constantly mention \"Glenn Brook\".......this gets rid of it.  The reality is, when working with a tag_set of just\n",
      "# nounds (NN/NNS), most names of schools are removed from the text anyways, as they are typically Proper Nouns (NNP) or adjectives\n",
      "# and never survive further along to give us any trouble.  However having this bigram creation and stoplist is very useful if you \n",
      "# are NOT limiting to just nouns, so it give us great flexibility.\n",
      "if(not feature['texts_final_load']):\n",
      "    school_names_bigram = [[\" \".join(bigram) for bigram in bigrams(text)] for text in school_names]\n",
      "    school_names_bigram = list(itertools.chain.from_iterable(school_names_bigram))\n",
      "    stopset_bigrams = set(school_names_bigram)"
     ],
     "language": "python",
     "metadata": {},
     "outputs": [],
     "prompt_number": 12
    },
    {
     "cell_type": "code",
     "collapsed": false,
     "input": [
      "%%time\n",
      "# CELL 94 \n",
      "# collect optional uncorrected, unlemmatized, pos tagged and lemma dict texts for later analysis\n",
      "\n",
      "# time 1m 56s for 3000 reviews on my 2.66Ghz quad core xeon mac pro\n",
      "# time 25m for 37349 reviews on my 2.66Ghz quad core xeon mac pro\n",
      "# time 18m 18s for 37349 reviews on my 2.66Ghz quad core xeon mac pro with 8 virtual cores HyperThreading\n",
      "# time 31m 20s for 166610 CA reviews on Amazon EC2 16 hyperthreaded server\n",
      "# time 2h 15m for 890000 reviews of all schools on Amazon EC2 32 hyperthreaded server \n",
      "\n",
      "# get our cleaned reviews\n",
      "# We can do this using parallel processing or not\n",
      "# You will NOT see stdout from the workers if using parallel processing\n",
      "\n",
      "# The commands below make use of the global name space in each worker as opposed to passing variables to the function. The nature of\n",
      "# ipythons paralell architecture is that it basically utilizes separate python processes, each with their own global namespace \n",
      "if(not (feature['preprocess_load'] or feature['texts_final_load'])):\n",
      "    \n",
      "    data_to_clean = reviews\n",
      "    stopset_to_use = stopset_unigram\n",
      "    \n",
      "    # copy the data_to_clean and stopset_to_use into name space of remote workers\n",
      "    if(feature['parallel']):\n",
      "        \n",
      "        # We use ipythons parallel processing \"scatter\" to shard \"reviews\" accross our cores\n",
      "        dv.scatter('data_to_clean',data_to_clean)\n",
      "        \n",
      "        # We copy the objects feature and stopset, as well as the Class SpellingReplacer to our remote workers\n",
      "        dv['feature'] = feature\n",
      "        dv['stopset_to_use'] = stopset_to_use\n",
      "        dv['tag_set'] = tag_set\n",
      "        dv['SpellingReplacer'] = SpellingReplacer\n",
      "        \n",
      "        # Show size of entire data being sent for processing\n",
      "        print \"Total data size: %d\" % len(data_to_clean)\n",
      "        \n",
      "        # Show the shard size of each remote worker\n",
      "        print \"Sharded data size for each worker\"\n",
      "        %px print len(data_to_clean)\n",
      "    \n",
      "        # clean the reviews\n",
      "        result = clean_data()\n",
      "    else:\n",
      "        # run non-parallel\n",
      "        texts,texts_uncorrected,texts_unlemmatized,texts_pos,lemma_dict = clean_data()"
     ],
     "language": "python",
     "metadata": {},
     "outputs": [
      {
       "output_type": "stream",
       "stream": "stdout",
       "text": [
        "Total data size: 500\n",
        "Sharded data size for each worker\n",
        "[stdout:0] 125\n",
        "[stdout:1] 125\n",
        "[stdout:2] 125\n",
        "[stdout:3] 125\n",
        "CPU times: user 5.18 s, sys: 1.46 s, total: 6.63 s"
       ]
      },
      {
       "output_type": "stream",
       "stream": "stdout",
       "text": [
        "\n",
        "Wall time: 59.8 s\n"
       ]
      }
     ],
     "prompt_number": 13
    },
    {
     "cell_type": "code",
     "collapsed": false,
     "input": [
      "# CELL 95\n",
      "# Diagnostics to to make sure all of our data is here.  There should be no drift in the lengths of texts.\n",
      "\n",
      "if(feature['parallel'] and not (feature['preprocess_load'] or feature['texts_final_load'])):\n",
      "\n",
      "    texts_size = 0\n",
      "    texts_uncorrected_size = 0\n",
      "    texts_unlemmatized_size = 0\n",
      "    texts_pos_size = 0\n",
      "    lemma_dict_size = 0\n",
      "\n",
      "    # iterate through each worker and get lengths of the texts\n",
      "    for worker in result:\n",
      "        texts_size += len(worker[0])\n",
      "        texts_uncorrected_size += len(worker[1])\n",
      "        texts_unlemmatized_size += len(worker[2])\n",
      "        texts_pos_size += len(worker[3])\n",
      "        lemma_dict_size += len(worker[4])\n",
      "        \n",
      "if(not feature['parallel'] or feature['preprocess_load']):\n",
      "    texts_size = len(texts)\n",
      "    texts_uncorrected_size = len(texts_uncorrected)\n",
      "    texts_unlemmatized_size = len(texts_unlemmatized)\n",
      "    texts_pos_size = len(texts_pos)\n",
      "    lemma_dict_size = len(lemma_dict)\n",
      "\n",
      "if(not feature['texts_final_load']):\n",
      "    print \"original reviews size %d\" % len(reviews)\n",
      "    print \"combined size of remote workers texts_pos %d\" % texts_pos_size\n",
      "    print \"combined size of remote workers texts_uncorrected %d\" % texts_uncorrected_size\n",
      "    print \"combined size of remote workers texts_unlemmatized %d\" % texts_unlemmatized_size\n",
      "    print \"combined size of remote workers texts %d\" % texts_size\n",
      "    # sum of len of seperate dictionaries is not necessarily equal to their original/merged size\n",
      "    print \"combined size of remote workers lemma_dict %d\" % lemma_dict_size"
     ],
     "language": "python",
     "metadata": {},
     "outputs": [
      {
       "output_type": "stream",
       "stream": "stdout",
       "text": [
        "original reviews size 500\n",
        "combined size of remote workers texts_pos 500\n",
        "combined size of remote workers texts_uncorrected 500\n",
        "combined size of remote workers texts_unlemmatized 500\n",
        "combined size of remote workers texts 500\n",
        "combined size of remote workers lemma_dict 701\n"
       ]
      }
     ],
     "prompt_number": 14
    },
    {
     "cell_type": "code",
     "collapsed": false,
     "input": [
      "%%time\n",
      "# CELL 96\n",
      "# Merge Parallel Data back from remote workers back into one set\n",
      "if(feature['parallel'] and not (feature['preprocess_load'] or feature['texts_final_load'])):\n",
      "    texts = []\n",
      "    texts_uncorrected = []\n",
      "    texts_unlemmatized = []\n",
      "    texts_pos = []\n",
      "    lemma_dict = defaultdict(set)\n",
      "\n",
      "    # iterate through each worker and merge the texts back together\n",
      "    for worker in result:\n",
      "        texts += worker[0]\n",
      "        texts_uncorrected += worker[1]\n",
      "        texts_unlemmatized += worker[2]\n",
      "        texts_pos += worker[3]\n",
      "        for k in worker[4]:\n",
      "            lemma_dict[k] = lemma_dict[k].union(worker[4][k])\n",
      "    print \"Total data size after merge: %d\" % len(texts)"
     ],
     "language": "python",
     "metadata": {},
     "outputs": [
      {
       "output_type": "stream",
       "stream": "stdout",
       "text": [
        "Total data size after merge: 500\n",
        "CPU times: user 1.92 ms, sys: 522 \u00b5s, total: 2.45 ms\n",
        "Wall time: 2 ms\n"
       ]
      }
     ],
     "prompt_number": 15
    },
    {
     "cell_type": "code",
     "collapsed": false,
     "input": [
      "# CELL 97\n",
      "# save data \n",
      "# write reviews, school_names, texts, texts_uncorrected, texts_unlemmatized, texts_pos, lemma_dict\n",
      "# out to a file using pickle.  This is so we don't have to re-run pre-processing later if we want to work on the same data\n",
      "if(feature['preprocess_save']):\n",
      "    filename = data_dir + '/' + file_root + '-reviews_indexes.pickle'\n",
      "    print \"Writing file %s of size %d\" % (filename,len(reviews_indexes))\n",
      "    with open(filename, 'w') as f:\n",
      "        pickle.dump(reviews_indexes, f)\n",
      "\n",
      "    filename = data_dir + '/' + file_root + '-reviews.pickle'\n",
      "    print \"Writing file %s of size %d\" % (filename,len(reviews))\n",
      "    with open(filename, 'w') as f:\n",
      "        pickle.dump(reviews, f)\n",
      "\n",
      "    filename = data_dir + '/' + file_root + '-school_names.pickle'\n",
      "    print \"Writing file %s of size %d\" % (filename,len(school_names))\n",
      "    with open(filename, 'w') as f:\n",
      "        pickle.dump(school_names, f)\n",
      "        \n",
      "    filename = data_dir + '/' + file_root + '-texts.pickle'\n",
      "    print \"Writing file %s of size %d\" % (filename,len(texts))\n",
      "    with open(filename, 'w') as f:\n",
      "        pickle.dump(texts, f)\n",
      "        \n",
      "    filename = data_dir + '/' + file_root + '-texts_uncorrected.pickle'\n",
      "    print \"Writing file %s of size %d\" % (filename,len(texts_uncorrected))\n",
      "    with open(filename, 'w') as f:\n",
      "        pickle.dump(texts_uncorrected, f)\n",
      "        \n",
      "    filename = data_dir + '/' + file_root + '-texts_unlemmatized.pickle'\n",
      "    print \"Writing file %s of size %d\" % (filename,len(texts_unlemmatized))\n",
      "    with open(filename, 'w') as f:\n",
      "        pickle.dump(texts_unlemmatized, f)\n",
      "        \n",
      "    filename = data_dir + '/' + file_root + '-texts_pos.pickle'\n",
      "    print \"Writing file %s of size %d\" % (filename,len(texts_pos))\n",
      "    with open(filename, 'w') as f:\n",
      "        pickle.dump(texts_pos, f)\n",
      "        \n",
      "    filename = data_dir + '/' + file_root + '-lemma_dict.pickle'\n",
      "    print \"Writing file %s of size %d\" % (filename,len(lemma_dict))\n",
      "    with open(filename, 'w') as f:\n",
      "        pickle.dump(lemma_dict, f)"
     ],
     "language": "python",
     "metadata": {},
     "outputs": [],
     "prompt_number": 16
    },
    {
     "cell_type": "code",
     "collapsed": false,
     "input": [
      "# CELL 98\n",
      "# Look at the text or analyze the text processing pipeline for a single review\n",
      "\n",
      "def get_review_data(review_num):\n",
      "    print \"\\nData from reviews for review number %d\" % review_num\n",
      "    print \"GSID: %s NCES Code: %s    Universal ID: %s\" % (reviews_indexes['id'][review_num],reviews_indexes['nces_code'][review_num],reviews_indexes['universal_id'][review_num])\n",
      "    print \"\\n\"\n",
      "    print reviews[review_num]\n",
      "    \n",
      "    if(feature['analyze_spell_correct'] and feature['spell_correct']):\n",
      "        print \"\\nData from texts_uncorrected for review number %d\" % review_num\n",
      "        print texts_uncorrected[review_num]\n",
      "\n",
      "    if(feature['pos_tag']):\n",
      "        print \"\\nData from texts_pos for review number %d\" % review_num\n",
      "        print texts_pos[review_num]\n",
      "\n",
      "    if((feature['analyze_lemmatize'] and feature['lemmatize']) or (feature['analyze_spell_correct'] and feature['spell_correct'])):\n",
      "        print \"\\nData from texts_unlemmatized for review number %d\" % review_num\n",
      "        print texts_unlemmatized[review_num]\n",
      "\n",
      "    print \"\\nData from texts for review number %d\" % review_num\n",
      "    print texts[review_num]\n",
      "  \n",
      "if(not feature['texts_final_load']):\n",
      "    print \"Length of ingested reviews: %d\" % len(reviews)\n",
      "    print \"Length of texts_pos: %d\" % len(texts_pos)\n",
      "    print \"Length of texts_uncorrected: %d\" % len(texts_uncorrected)\n",
      "    print \"Length of texts_lemmatized: %d\" % len(texts_unlemmatized)\n",
      "    print \"Length of texts: %d\" % len(texts)\n",
      "    get_review_data(4)"
     ],
     "language": "python",
     "metadata": {},
     "outputs": [
      {
       "output_type": "stream",
       "stream": "stdout",
       "text": [
        "Length of ingested reviews: 500\n",
        "Length of texts_pos: 500\n",
        "Length of texts_uncorrected: 500\n",
        "Length of texts_lemmatized: 500\n",
        "Length of texts: 500\n",
        "\n",
        "Data from reviews for review number 4\n",
        "GSID: 214510 NCES Code: 060177000041    Universal ID: 600001\n",
        "\n",
        "\n",
        "We just went to Open House at Alameda High, and found the teachers very dedicated.  They know their students and were ready to give individual feedback to parents.  There is a range of academic levels offered including some very challenging AP classes. Some classes are rather large, but the EXP and AP classes may be smaller. There is a range of students, from those who are not interested in studying, to those who are highly motivated and hard working, with GPA's over 4.0. There is a lot of student involvement in extracurricular activities, such as a poetry anthology they were selling to raise money for the English Dept., a book sale to benefit the media center, a blood drive sponsored by one of the clubs.  They have after school sports, an active music dept (the jazz band just performed at Yoshi's), extraodinary drama dept. that puts on several plays each year.\n",
        "\n",
        "Data from texts_uncorrected for review number 4\n",
        "['We', 'just', 'went', 'to', 'Open', 'House', 'at', 'Alameda', 'High', ',', 'and', 'found', 'the', 'teachers', 'very', 'dedicated', '.', 'They', 'know', 'their', 'students', 'and', 'were', 'ready', 'to', 'give', 'individual', 'feedback', 'to', 'parents', '.', 'There', 'is', 'a', 'range', 'of', 'academic', 'levels', 'offered', 'including', 'some', 'very', 'challenging', 'AP', 'classes', '.', 'Some', 'classes', 'are', 'rather', 'large', ',', 'but', 'the', 'EXP', 'and', 'AP', 'classes', 'may', 'be', 'smaller', '.', 'There', 'is', 'a', 'range', 'of', 'students', ',', 'from', 'those', 'who', 'are', 'not', 'interested', 'in', 'studying', ',', 'to', 'those', 'who', 'are', 'highly', 'motivated', 'and', 'hard', 'working', ',', 'with', 'GPA\\\\', \"'s\", 'over', '4.0', '.', 'There', 'is', 'a', 'lot', 'of', 'student', 'involvement', 'in', 'extracurricular', 'activities', ',', 'such', 'as', 'a', 'poetry', 'anthology', 'they', 'were', 'selling', 'to', 'raise', 'money', 'for', 'the', 'English', 'Dept.', ',', 'a', 'book', 'sale', 'to', 'benefit', 'the', 'media', 'center', ',', 'a', 'blood', 'drive', 'sponsored', 'by', 'one', 'of', 'the', 'clubs', '.', 'They', 'have', 'after', 'school', 'sports', ',', 'an', 'active', 'music', 'dept', '(', 'the', 'jazz', 'band', 'just', 'performed', 'at', 'Yoshi\\\\', \"'s\", ')', ',', 'extraodinary', 'drama', 'dept', '.', 'that', 'puts', 'on', 'several', 'plays', 'each', 'year', '.']\n",
        "\n",
        "Data from texts_pos for review number 4\n",
        "[('We', 'PRP'), ('just', 'RB'), ('went', 'VBD'), ('to', 'TO'), ('Open', 'NNP'), ('House', 'NNP'), ('at', 'IN'), ('Alarmed', 'NNP'), ('High', 'NNP'), (',', ','), ('and', 'CC'), ('found', 'VBN'), ('the', 'DT'), ('teachers', 'NNS'), ('very', 'RB'), ('dedicated', 'VBN'), ('.', '.'), ('They', 'PRP'), ('know', 'VBP'), ('their', 'PRP$'), ('students', 'NNS'), ('and', 'CC'), ('were', 'VBD'), ('ready', 'RB'), ('to', 'TO'), ('give', 'VB'), ('individual', 'JJ'), ('feedback', 'NN'), ('to', 'TO'), ('parents', 'NNS'), ('.', '.'), ('There', 'EX'), ('is', 'VBZ'), ('a', 'DT'), ('range', 'NN'), ('of', 'IN'), ('academic', 'JJ'), ('levels', 'NNS'), ('offered', 'VBD'), ('including', 'VBG'), ('some', 'DT'), ('very', 'RB'), ('challenging', 'VBG'), ('AP', 'NNP'), ('classes', 'NNS'), ('.', '.'), ('Some', 'DT'), ('classes', 'NNS'), ('are', 'VBP'), ('rather', 'RB'), ('large', 'JJ'), (',', ','), ('but', 'CC'), ('the', 'DT'), ('EXP', 'NNP'), ('and', 'CC'), ('AP', 'NNP'), ('classes', 'NNS'), ('may', 'MD'), ('be', 'VB'), ('smaller', 'JJR'), ('.', '.'), ('There', 'EX'), ('is', 'VBZ'), ('a', 'DT'), ('range', 'NN'), ('of', 'IN'), ('students', 'NNS'), (',', ','), ('from', 'IN'), ('those', 'DT'), ('who', 'WP'), ('are', 'VBP'), ('not', 'RB'), ('interested', 'JJ'), ('in', 'IN'), ('studying', 'NN'), (',', ','), ('to', 'TO'), ('those', 'DT'), ('who', 'WP'), ('are', 'VBP'), ('highly', 'RB'), ('motivated', 'VBN'), ('and', 'CC'), ('hard', 'RB'), ('working', 'VBG'), (',', ','), ('with', 'IN'), ('GPA', 'NNP'), ('S', 'NNP'), ('over', 'IN'), ('4.0', 'CD'), ('.', '.'), ('There', 'EX'), ('is', 'VBZ'), ('a', 'DT'), ('lot', 'NN'), ('of', 'IN'), ('student', 'NN'), ('involvement', 'NN'), ('in', 'IN'), ('extracurricular', 'JJ'), ('activities', 'NNS'), (',', ','), ('such', 'JJ'), ('as', 'IN'), ('a', 'DT'), ('poetry', 'NN'), ('anthology', 'NN'), ('they', 'PRP'), ('were', 'VBD'), ('selling', 'VBG'), ('to', 'TO'), ('raise', 'VB'), ('money', 'NN'), ('for', 'IN'), ('the', 'DT'), ('English', 'NNP'), ('Dept', 'NNP'), (',', ','), ('a', 'DT'), ('book', 'NN'), ('sale', 'NN'), ('to', 'TO'), ('benefit', 'VB'), ('the', 'DT'), ('media', 'NNS'), ('center', 'NN'), (',', ','), ('a', 'DT'), ('blood', 'NN'), ('drive', 'NN'), ('sponsored', 'VBD'), ('by', 'IN'), ('one', 'CD'), ('of', 'IN'), ('the', 'DT'), ('clubs', 'NNS'), ('.', '.'), ('They', 'PRP'), ('have', 'VBP'), ('after', 'IN'), ('school', 'NN'), ('sports', 'NNS'), (',', ','), ('an', 'DT'), ('active', 'JJ'), ('music', 'NN'), ('dept', 'NN'), ('(', ':'), ('the', 'DT'), ('jazz', 'NN'), ('band', 'NN'), ('just', 'RB'), ('performed', 'VBN'), ('at', 'IN'), ('Yoshi\\\\', 'NNP'), ('S', 'NNP'), (')', 'NNP'), (',', ','), ('extraordinary', 'JJ'), ('drama', 'NN'), ('dept', 'NN'), ('.', '.'), ('that', 'IN'), ('puts', 'NNS'), ('on', 'IN'), ('several', 'JJ'), ('plays', 'NNS'), ('each', 'DT'), ('year', 'NN'), ('.', '.')]\n",
        "\n",
        "Data from texts_unlemmatized for review number 4\n",
        "['feedback', 'range', 'levels', 'classes', 'classes', 'classes', 'range', 'studying', 'involvement', 'activities', 'poetry', 'anthology', 'money', 'book', 'sale', 'media', 'center', 'blood', 'drive', 'clubs', 'sports', 'music', 'dept', 'jazz', 'band', 'drama', 'dept', 'puts', 'plays']\n",
        "\n",
        "Data from texts for review number 4\n",
        "['feedback', 'range', 'level', 'class', 'class', 'class', 'range', 'studying', 'involvement', 'activity', 'poetry', 'anthology', 'money', 'book', 'sale', 'medium', 'center', 'blood', 'drive', 'club', 'sport', 'music', 'dept', 'jazz', 'band', 'drama', 'dept', 'put', 'play']\n"
       ]
      }
     ],
     "prompt_number": 17
    },
    {
     "cell_type": "code",
     "collapsed": false,
     "input": [
      "# CELL 99\n",
      "# view descriptive statistics on our texts\n",
      "# Very interesting information here, over half the text is words that appear just 1 or 2 times!\n",
      "if(not feature['texts_final_load']):\n",
      "    if((feature['analyze_lemmatize'] and feature['lemmatize']) or (feature['analyze_spell_correct'] and feature['spell_correct'])):\n",
      "        print \"Descriptive statistics for texts_uncorrected\"\n",
      "        summary_stats(texts_uncorrected)\n",
      "    if(feature['analyze_spell_correct'] and feature['spell_correct']):\n",
      "        print \"\\nDescriptive statistics for texts_unlemmatized (after spell correction, removal of POS not in our tag_set, removal of stopwords, etc. but before lemmatization)\"\n",
      "        summary_stats(texts_unlemmatized)\n",
      "    print \"\\nDescriptive statistics for texts (lemmatized and done with pre-processing)\"\n",
      "    summary_stats(texts)"
     ],
     "language": "python",
     "metadata": {},
     "outputs": [
      {
       "output_type": "stream",
       "stream": "stdout",
       "text": [
        "Descriptive statistics for texts_uncorrected\n",
        "2431 words appear in the text just 1 time\n",
        "635 words appear in the text just 2 times\n",
        "Number of unique words: 4501\n",
        "Minimum freq:        1 Maximum freq:     2262"
       ]
      },
      {
       "output_type": "stream",
       "stream": "stdout",
       "text": [
        "\n",
        "Mean:     9.43\n",
        "Std. deviation : 65.082084\n",
        "Variance:  4236.62\n",
        "Skew :    21.60\n",
        "Kurtosis:   573.28\n",
        "\n",
        "Descriptive statistics for texts_unlemmatized (after spell correction, removal of POS not in our tag_set, removal of stopwords, etc. but before lemmatization)\n",
        "982 words appear in the text just 1 time\n",
        "250 words appear in the text just 2 times\n",
        "Number of unique words: 1689\n",
        "Minimum freq:        1 Maximum freq:      172\n",
        "Mean:     3.46\n",
        "Std. deviation : 8.865687\n",
        "Variance:    78.65\n",
        "Skew :     9.78\n",
        "Kurtosis:   132.78\n",
        "\n",
        "Descriptive statistics for texts (lemmatized and done with pre-processing)\n",
        "777 words appear in the text just 1 time\n",
        "219 words appear in the text just 2 times\n",
        "Number of unique words: 1428\n",
        "Minimum freq:        1 Maximum freq:      194\n",
        "Mean:     4.03\n",
        "Std. deviation : 10.918738\n",
        "Variance:   119.30\n",
        "Skew :    10.01\n",
        "Kurtosis:   133.01\n"
       ]
      }
     ],
     "prompt_number": 18
    },
    {
     "cell_type": "code",
     "collapsed": false,
     "input": [
      "# CELL 100\n",
      "# This cell just prints some intresting information about the lemmatization\n",
      "\n",
      "if(not feature['texts_final_load']):\n",
      "    if(feature['lemmatize'] and feature['lemma_dict']):\n",
      "        lemma_list = []\n",
      "        lemma_total = 0\n",
      "        for k,v in lemma_dict.iteritems():\n",
      "            lemma_list.append((k,list(v)))\n",
      "            lemma_total += len(v)+1\n",
      "        print \"there were %d words that were lemmatized down to a total of %d lemmas\" % (lemma_total,len(lemma_dict))\n",
      "        lemma_list = sorted(lemma_list, key = lambda x: len(x[1]), reverse=True)\n",
      "        for lemma in lemma_list:\n",
      "            print lemma"
     ],
     "language": "python",
     "metadata": {},
     "outputs": [
      {
       "output_type": "stream",
       "stream": "stdout",
       "text": [
        "there were 905 words that were lemmatized down to a total of 452 lemmas\n",
        "('lunch', ['lunchs', 'lunches'])\n",
        "('coach', ['coaches'])\n",
        "('rating', ['ratings'])\n",
        "('dance', ['dances'])\n",
        "('ceramic', ['ceramics'])\n",
        "('dollar', ['dollars'])\n",
        "('focus', ['focuses'])\n",
        "('month', ['months'])\n",
        "('mile', ['miles'])\n",
        "('deadline', ['deadlines'])\n",
        "('go', ['goes'])\n",
        "('grandparent', ['grandparents'])\n",
        "('milk', ['milks'])\n",
        "('technique', ['techniques'])\n",
        "('father', ['fathers'])\n",
        "('spirit', ['spirits'])\n",
        "('program', ['programs'])\n",
        "('division', ['divisions'])\n",
        "('belonging', ['belongings'])\n",
        "('lack', ['lacks'])\n",
        "('garden', ['gardens'])\n",
        "('advantage', ['advantages'])\n",
        "('dynamic', ['dynamics'])\n",
        "('choice', ['choices'])\n",
        "('psychologist', ['psychologists'])\n",
        "('ticket', ['tickets'])\n",
        "('difference', ['differences'])\n",
        "('condition', ['conditions'])\n",
        "('scholar', ['scholars'])\n",
        "('level', ['levels'])\n",
        "('tear', ['tears'])\n",
        "('issue', ['issues'])\n",
        "('item', ['items'])\n",
        "('session', ['sessions'])\n",
        "('team', ['teams'])\n",
        "('mo', ['mos'])\n",
        "('neighborhood', ['neighborhoods'])\n",
        "('portable', ['portables'])\n",
        "('docent', ['docents'])\n",
        "('rate', ['rates'])\n",
        "('folk', ['folks'])\n",
        "('section', ['sections'])\n",
        "('learner', ['learners'])\n",
        "('principal', ['principals'])\n",
        "('method', ['methods'])\n",
        "('specialist', ['specialists'])\n",
        "('upgrade', ['upgrades'])\n",
        "('let', ['lets'])\n",
        "('change', ['changes'])\n",
        "('celebration', ['celebrations'])\n",
        "('boy', ['boys'])\n",
        "('remark', ['remarks'])\n",
        "('talent', ['talents'])\n",
        "('study', ['studies'])\n",
        "('experience', ['experiences'])\n",
        "('mentor', ['mentors'])\n",
        "('opinion', ['opinions'])\n",
        "('honor', ['honors'])\n",
        "('love', ['loves'])\n",
        "('family', ['families'])\n",
        "('mediator', ['mediators'])\n",
        "('disability', ['disabilities'])\n",
        "('county', ['counties'])\n",
        "('glitch', ['glitches'])\n",
        "('transplant', ['transplants'])\n",
        "('eye', ['eyes'])\n",
        "('discus', ['discuss'])\n",
        "('visit', ['visits'])\n",
        "('camera', ['cameras'])\n",
        "('call', ['calls'])\n",
        "('memory', ['memories'])\n",
        "('care', ['cares'])\n",
        "('assessment', ['assessments'])\n",
        "('teen', ['teens'])\n",
        "('door', ['doors'])\n",
        "('club', ['clubs'])\n",
        "('trait', ['traits'])\n",
        "('curriculum', ['curricula'])\n",
        "('adult', ['adults'])\n",
        "('effort', ['efforts'])\n",
        "('town', ['towns'])\n",
        "('word', ['words'])\n",
        "('hour', ['hours'])\n",
        "('challenge', ['challenges'])\n",
        "('work', ['works'])\n",
        "('soul', ['souls'])\n",
        "('mr', ['mrs'])\n",
        "('meet', ['meets'])\n",
        "('example', ['examples'])\n",
        "('heart', ['hearts'])\n",
        "('chip', ['chips'])\n",
        "('tax', ['taxes'])\n",
        "('way', ['ways'])\n",
        "('end', ['ends'])\n",
        "('goal', ['goals'])\n",
        "('stride', ['strides'])\n",
        "('discussion', ['discussions'])\n",
        "('feature', ['features'])\n",
        "('cutback', ['cutbacks'])\n",
        "('criterion', ['criteria'])\n",
        "('worry', ['worries'])\n",
        "('animal', ['animals'])\n",
        "('answer', ['answers'])\n",
        "('parameter', ['parameters'])\n",
        "('administrator', ['administrators'])\n",
        "('minority', ['minorities'])\n",
        "('spot', ['spots'])\n",
        "('ethnic', ['ethnics'])\n",
        "('suck', ['sucks'])\n",
        "('response', ['responses'])\n",
        "('physic', ['physics'])\n",
        "('classroom', ['classrooms'])\n",
        "('bind', ['binds'])\n",
        "('grant', ['grants'])\n",
        "('element', ['elements'])\n",
        "('help', ['helps'])\n",
        "('move', ['moves'])\n",
        "('entity', ['entities'])\n",
        "('course', ['courses'])\n",
        "('style', ['styles'])\n",
        "('le', ['less'])\n",
        "('group', ['groups'])\n",
        "('monitor', ['monitors'])\n",
        "('fit', ['fits'])\n",
        "('backpack', ['backpacks'])\n",
        "('feel', ['feels'])\n",
        "('minute', ['minutes'])\n",
        "('turban', ['turbans'])\n",
        "('communication', ['communications'])\n",
        "('ally', ['allies'])\n",
        "('colleague', ['colleagues'])\n",
        "('food', ['foods'])\n",
        "('weakness', ['weaknesses'])\n",
        "('practice', ['practices'])\n",
        "('yr', ['yrs'])\n",
        "('hall', ['halls'])\n",
        "('term', ['terms'])\n",
        "('schoolteacher', ['schoolteachers'])\n",
        "('name', ['names'])\n",
        "('university', ['universities'])\n",
        "('slacker', ['slackers'])\n",
        "('friendship', ['friendships'])\n",
        "('mean', ['means'])\n",
        "('ed', ['eds'])\n",
        "('operation', ['operations'])\n",
        "('event', ['events'])\n",
        "('category', ['categories'])\n",
        "('space', ['spaces'])\n",
        "('increase', ['increases'])\n",
        "('playground', ['playgrounds'])\n",
        "('reader', ['readers'])\n",
        "('lecture', ['lectures'])\n",
        "('evaluation', ['evaluations'])\n",
        "('possibility', ['possibilities'])\n",
        "('standard', ['standards'])\n",
        "('difficulty', ['difficulties'])\n",
        "('struggle', ['struggles'])\n",
        "('clique', ['cliques'])\n",
        "('put', ['puts'])\n",
        "('beginning', ['beginnings'])\n",
        "('fret', ['frets'])\n",
        "('interaction', ['interactions'])\n",
        "('district', ['districts'])\n",
        "('language', ['languages'])\n",
        "('keep', ['keeps'])\n",
        "('thing', ['things'])\n",
        "('place', ['places'])\n",
        "('undesirable', ['undesirables'])\n",
        "('trickle', ['trickles'])\n",
        "('think', ['thinks'])\n",
        "('exam', ['exams'])\n",
        "('grade', ['grades'])\n",
        "('number', ['numbers'])\n",
        "('downside', ['downsides'])\n",
        "('owner', ['owners'])\n",
        "('art', ['arts'])\n",
        "('message', ['messages'])\n",
        "('drove', ['droves'])\n",
        "('quality', ['qualities'])\n",
        "('size', ['sizes'])\n",
        "('service', ['services'])\n",
        "('regulation', ['regulations'])\n",
        "('assumption', ['assumptions'])\n",
        "('ton', ['tons'])\n",
        "('kindergartner', ['kindergartners'])\n",
        "('hundred', ['hundreds'])\n",
        "('friend', ['friends'])\n",
        "('option', ['options'])\n",
        "('relationship', ['relationships'])\n",
        "('tool', ['tools'])\n",
        "('constituent', ['constituents'])\n",
        "('kind', ['kinds'])\n",
        "('achiever', ['achievers'])\n",
        "('rival', ['rivals'])\n",
        "('bother', ['bothers'])\n",
        "('instruction', ['instructions'])\n",
        "('project', ['projects'])\n",
        "('future', ['futures'])\n",
        "('feeling', ['feelings'])\n",
        "('minus', ['minuses'])\n",
        "('tiepin', ['tiepins'])\n",
        "('pro', ['pros'])\n",
        "('mind', ['minds'])\n",
        "('need', ['needs'])\n",
        "('turn', ['turns'])\n",
        "('seek', ['seeks'])\n",
        "('seminar', ['seminars'])\n",
        "('strength', ['strengths'])\n",
        "('form', ['forms'])\n",
        "('person', ['persons'])\n",
        "('note', ['notes'])\n",
        "('paraprofessional', ['paraprofessionals'])\n",
        "('take', ['takes'])\n",
        "('educator', ['educators'])\n",
        "('performance', ['performances'])\n",
        "('concern', ['concerns'])\n",
        "('play', ['plays'])\n",
        "('quota', ['quotas'])\n",
        "('letter', ['letters'])\n",
        "('organization', ['organizations'])\n",
        "('device', ['devices'])\n",
        "('class', ['classes'])\n",
        "('achievement', ['achievements'])\n",
        "('morality', ['moralities'])\n",
        "('placement', ['placements'])\n",
        "('observation', ['observations'])\n",
        "('professor', ['professors'])\n",
        "('sale', ['sales'])\n",
        "('principle', ['principles'])\n",
        "('occasion', ['occasions'])\n",
        "('affair', ['affairs'])\n",
        "('recess', ['recesses'])\n",
        "('text', ['texts'])\n",
        "('therapist', ['therapists'])\n",
        "('shoe', ['shoes'])\n",
        "('chicken', ['chickens'])\n",
        "('find', ['finds'])\n",
        "('ground', ['grounds'])\n",
        "('snack', ['snacks'])\n",
        "('personality', ['personalities'])\n",
        "('get', ['gets'])\n",
        "('assistant', ['assistants'])\n",
        "('watch', ['watches'])\n",
        "('expectation', ['expectations'])\n",
        "('bear', ['bears'])\n",
        "('resource', ['resources'])\n",
        "('sleeve', ['sleeves'])\n",
        "('morning', ['mornings'])\n",
        "('activity', ['activities'])\n",
        "('view', ['views'])\n",
        "('requirement', ['requirements'])\n",
        "('set', ['sets'])\n",
        "('picnic', ['picnics'])\n",
        "('fair', ['fairs'])\n",
        "('habit', ['habits'])\n",
        "('packet', ['packets'])\n",
        "('culture', ['cultures'])\n",
        "('computer', ['computers'])\n",
        "('college', ['colleges'])\n",
        "('result', ['results'])\n",
        "('sport', ['sports'])\n",
        "('arm', ['arms'])\n",
        "('subject', ['subjects'])\n",
        "('reform', ['reforms'])\n",
        "('review', ['reviews'])\n",
        "('state', ['states'])\n",
        "('score', ['scores'])\n",
        "('boundary', ['boundaries'])\n",
        "('reading', ['readings'])\n",
        "('approach', ['approaches'])\n",
        "('email', ['emails'])\n",
        "('compliment', ['compliments'])\n",
        "('ability', ['abilities'])\n",
        "('stakeholder', ['stakeholders'])\n",
        "('job', ['jobs'])\n",
        "('potluck', ['potlucks'])\n",
        "('nationality', ['nationalities'])\n",
        "('come', ['comes'])\n",
        "('thumb', ['thumbs'])\n",
        "('counselor', ['counselors'])\n",
        "('last', ['lasts'])\n",
        "('country', ['countries'])\n",
        "('drug', ['drugs'])\n",
        "('tour', ['tours'])\n",
        "('con', ['cons'])\n",
        "('comment', ['comments'])\n",
        "('point', ['points'])\n",
        "('ca', ['cas'])\n",
        "('community', ['communities'])\n",
        "('twin', ['twins'])\n",
        "('bathroom', ['bathrooms'])\n",
        "('sari', ['saris'])\n",
        "('teammate', ['teammates'])\n",
        "('stamp', ['stamps'])\n",
        "('vacation', ['vacations'])\n",
        "('mark', ['marks'])\n",
        "('tutor', ['tutors'])\n",
        "('treat', ['treats'])\n",
        "('interest', ['interests'])\n",
        "('basic', ['basics'])\n",
        "('meeting', ['meetings'])\n",
        "('teenager', ['teenagers'])\n",
        "('life', ['lives'])\n",
        "('citizen', ['citizens'])\n",
        "('gap', ['gaps'])\n",
        "('fund', ['funds'])\n",
        "('craft', ['crafts'])\n",
        "('expenditure', ['expenditures'])\n",
        "('child', ['childs'])\n",
        "('aery', ['aeries'])\n",
        "('volunteer', ['volunteers'])\n",
        "('case', ['cases'])\n",
        "('exception', ['exceptions'])\n",
        "('novel', ['novels'])\n",
        "('value', ['values'])\n",
        "('rope', ['ropes'])\n",
        "('situation', ['situations'])\n",
        "('mistake', ['mistakes'])\n",
        "('supply', ['supplies'])\n",
        "('dad', ['dads'])\n",
        "('layer', ['layers'])\n",
        "('obstacle', ['obstacles'])\n",
        "('embrace', ['embraces'])\n",
        "('contract', ['contracts'])\n",
        "('ethnicity', ['ethnicitys'])\n",
        "('cohort', ['cohorts'])\n",
        "('participant', ['participants'])\n",
        "('author', ['authors'])\n",
        "('make', ['makes'])\n",
        "('trip', ['trips'])\n",
        "('member', ['members'])\n",
        "('speaker', ['speakers'])\n",
        "('vegetable', ['vegetables'])\n",
        "('party', ['parties'])\n",
        "('week', ['weeks'])\n",
        "('assignment', ['assignments'])\n",
        "('evil', ['evils'])\n",
        "('hand', ['hands'])\n",
        "('fruit', ['fruits'])\n",
        "('opportunity', ['opportunities'])\n",
        "('tradition', ['traditions'])\n",
        "('paycheck', ['paychecks'])\n",
        "('center', ['centers'])\n",
        "('academic', ['academics'])\n",
        "('contact', ['contacts'])\n",
        "('position', ['positions'])\n",
        "('comer', ['comers'])\n",
        "('duty', ['duties'])\n",
        "('mom', ['moms'])\n",
        "('being', ['beings'])\n",
        "('grader', ['graders'])\n",
        "('kill', ['kills'])\n",
        "('aspect', ['aspects'])\n",
        "('skill', ['skills'])\n",
        "('announcement', ['announcements'])\n",
        "('cut', ['cuts'])\n",
        "('admission', ['admissions'])\n",
        "('extra', ['extras'])\n",
        "('demographic', ['demographics'])\n",
        "('day', ['days'])\n",
        "('instrument', ['instruments'])\n",
        "('board', ['boards'])\n",
        "('crack', ['cracks'])\n",
        "('hat', ['hats'])\n",
        "('complaint', ['complaints'])\n",
        "('referral', ['referrals'])\n",
        "('department', ['departments'])\n",
        "('game', ['games'])\n",
        "('background', ['backgrounds'])\n",
        "('lady', ['ladies'])\n",
        "('disadvantage', ['disadvantages'])\n",
        "('desire', ['desires'])\n",
        "('miracle', ['miracles'])\n",
        "('immunization', ['immunizations'])\n",
        "('night', ['nights'])\n",
        "('right', ['rights'])\n",
        "('old', ['olds'])\n",
        "('back', ['backs'])\n",
        "('statistic', ['statistics'])\n",
        "('home', ['homes'])\n",
        "('newsletter', ['newsletters'])\n",
        "('tutorial', ['tutorials'])\n",
        "('lead', ['leads'])\n",
        "('decision', ['decisions'])\n",
        "('benefit', ['benefits'])\n",
        "('religion', ['religions'])\n",
        "('leap', ['leaps'])\n",
        "('squabble', ['squabbles'])\n",
        "('assembly', ['assemblies'])\n",
        "('schedule', ['schedules'])\n",
        "('host', ['hosts'])\n",
        "('peer', ['peers'])\n",
        "('projector', ['projectors'])\n",
        "('constraint', ['constraints'])\n",
        "('worksheet', ['worksheets'])\n",
        "('dinner', ['dinners'])\n",
        "('plus', ['pluses'])\n",
        "('neighbor', ['neighbors'])\n",
        "('block', ['blocks'])\n",
        "('facility', ['facilities'])\n",
        "('caretaker', ['caretakers'])\n",
        "('bound', ['bounds'])\n",
        "('fundraiser', ['fundraisers'])\n",
        "('guard', ['guards'])\n",
        "('lesson', ['lessons'])\n",
        "('strategy', ['strategies'])\n",
        "('intervention', ['interventions'])\n",
        "('area', ['areas'])\n",
        "('support', ['supports'])\n",
        "('question', ['questions'])\n",
        "('custom', ['customs'])\n",
        "('lot', ['lots'])\n",
        "('house', ['houses'])\n",
        "('function', ['functions'])\n",
        "('medium', ['media'])\n",
        "('offering', ['offerings'])\n",
        "('offer', ['offers'])\n",
        "('poster', ['posters'])\n",
        "('regard', ['regards'])\n",
        "('gain', ['gains'])\n",
        "('line', ['lines'])\n",
        "('ear', ['ears'])\n",
        "('count', ['counts'])\n",
        "('rush', ['rushes'])\n",
        "('illustrator', ['illustrators'])\n",
        "('record', ['records'])\n",
        "('limit', ['limits'])\n",
        "('highlight', ['highlights'])\n",
        "('problem', ['problems'])\n",
        "('foster', ['fosters'])\n",
        "('supervisor', ['supervisors'])\n",
        "('am', ['ams'])\n",
        "('rally', ['rallies'])\n",
        "('troublemaker', ['troublemakers'])\n",
        "('girl', ['girls'])\n",
        "('graduate', ['graduates'])\n",
        "('field', ['fields'])\n",
        "('book', ['books'])\n",
        "('role', ['roles'])\n",
        "('income', ['incomes'])\n",
        "('test', ['tests'])\n",
        "('star', ['stars'])\n",
        "('professional', ['professionals'])\n",
        "('reservation', ['reservations'])\n",
        "('weekend', ['weekends'])\n",
        "('individual', ['individuals'])\n",
        "('wife', ['wives'])\n",
        "('age', ['ages'])\n",
        "('rule', ['rules'])\n",
        "('classmate', ['classmates'])\n",
        "('time', ['times'])\n",
        "('waiver', ['waivers'])\n"
       ]
      }
     ],
     "prompt_number": 19
    },
    {
     "cell_type": "code",
     "collapsed": false,
     "input": [
      "# CELL 110\n",
      "# Create texts_bigrams\n",
      "\n",
      "# Our final text is actually a creation of the orignal unigrams we decided to keep and their bigrams.\n",
      "if(not feature['texts_final_load']):\n",
      "    texts_bigrams = [[\" \".join(bigram) for bigram in bigrams(text)] for text in texts]\n",
      "    texts_bigrams = [[bigram for bigram in text if bigram not in stopset_bigrams] for text in texts_bigrams]\n",
      "    # texts_bigrams\n",
      "    \n",
      "# Look at top 10 Bigrams (from our unigram text)\n",
      "# bcf = BigramCollocationFinder.from_words(itertools.chain.from_iterable(texts))\n",
      "# bcf.nbest(BigramAssocMeasures.likelihood_ratio, 100)"
     ],
     "language": "python",
     "metadata": {},
     "outputs": [],
     "prompt_number": 20
    },
    {
     "cell_type": "code",
     "collapsed": false,
     "input": [
      "# CELL 150\n",
      "# examining the most frequent words, to see at what point trash is introduced\n",
      "\n",
      "def frequent_tokens(texts,topn):\n",
      "    \"\"\"\n",
      "    Prints frequency counts of tokens\n",
      "    \n",
      "    Parameters\n",
      "    ----------\n",
      "    texts : tokenized, list of lists\n",
      "        the text to analyze\n",
      "    topn : int\n",
      "        print top n frequency counts\n",
      "    \"\"\"\n",
      "    fdist = nltk.FreqDist(list(itertools.chain.from_iterable(texts)))\n",
      "    for word,count in fdist.items()[:topn]:\n",
      "        print count, word"
     ],
     "language": "python",
     "metadata": {},
     "outputs": [],
     "prompt_number": 21
    },
    {
     "cell_type": "code",
     "collapsed": false,
     "input": [
      "# CELL 151\n",
      "# topn most frequent unigrams\n",
      "if(not feature['texts_final_load']):\n",
      "    frequent_tokens(texts,50)"
     ],
     "language": "python",
     "metadata": {},
     "outputs": [
      {
       "output_type": "stream",
       "stream": "stdout",
       "text": [
        "194 program\n",
        "173 community\n",
        "122 staff\n",
        "118 class\n",
        "113 grade\n",
        "88 experience\n",
        "70 family\n",
        "62 activity\n",
        "62 involvement\n",
        "60 art\n",
        "57 education\n",
        "51 time\n",
        "46 quality\n",
        "42 learning\n",
        "41 diversity\n",
        "41 environment\n",
        "41 place\n",
        "40 day\n",
        "40 teaching\n",
        "39 curriculum\n",
        "37 level\n",
        "36 people\n",
        "33 group\n",
        "33 support\n",
        "33 work\n",
        "32 friend\n",
        "31 neighborhood\n",
        "30 event\n",
        "30 test\n",
        "29 middle\n",
        "29 sport\n",
        "28 score\n",
        "27 need\n",
        "27 science\n",
        "25 classroom\n",
        "24 district\n",
        "24 homework\n",
        "24 leadership\n",
        "23 fun\n",
        "21 academic\n",
        "21 grader\n",
        "21 job\n",
        "20 body\n",
        "20 etc\n",
        "20 home\n",
        "20 problem\n",
        "19 area\n",
        "19 enrichment\n",
        "19 sense\n",
        "18 dance\n"
       ]
      }
     ],
     "prompt_number": 22
    },
    {
     "cell_type": "code",
     "collapsed": false,
     "input": [
      "# CELL 152\n",
      "# topn most frequent bigrams\n",
      "if(not feature['texts_final_load']):\n",
      "    frequent_tokens(texts_bigrams, 50)"
     ],
     "language": "python",
     "metadata": {},
     "outputs": [
      {
       "output_type": "stream",
       "stream": "stdout",
       "text": [
        "21 test score\n",
        "15 teaching staff\n",
        "14 staff community\n",
        "12 community family\n",
        "12 learning environment\n",
        "11 art program\n",
        "11 grade level\n",
        "11 sense community\n",
        "10 quality education\n",
        "9 field trip\n",
        "9 grade grade\n",
        "9 immersion program\n",
        "8 grade class\n",
        "7 community involvement\n",
        "7 enrichment class\n",
        "7 quality program\n",
        "6 class program\n",
        "6 community building\n",
        "6 community event\n",
        "6 community staff\n",
        "6 family community\n",
        "6 music program\n",
        "6 office staff\n",
        "6 program art\n",
        "5 budget cut\n",
        "5 community art\n",
        "5 enrichment program\n",
        "5 experience grade\n",
        "5 extracurricular activity\n",
        "5 grade experience\n",
        "5 involvement community\n",
        "5 program middle\n",
        "5 program program\n",
        "4 class grade\n",
        "4 community program\n",
        "4 drama dance\n",
        "4 education program\n",
        "4 experience program\n",
        "4 experience staff\n",
        "4 farm program\n",
        "4 fun activity\n",
        "4 involvement class\n",
        "4 involvement support\n",
        "4 life skill\n",
        "4 lottery system\n",
        "4 program quality\n",
        "4 program sport\n",
        "4 sport program\n",
        "4 staff care\n",
        "4 support community\n"
       ]
      }
     ],
     "prompt_number": 23
    },
    {
     "cell_type": "code",
     "collapsed": false,
     "input": [
      "# CELL 160\n",
      "# Load texts_final\n",
      "if(feature['texts_final_load']):\n",
      "    with open(data_dir + '/' + file_root + '-texts_final' + '.pickle') as f:\n",
      "        texts_final = pickle.load(f)"
     ],
     "language": "python",
     "metadata": {},
     "outputs": [],
     "prompt_number": 24
    },
    {
     "cell_type": "code",
     "collapsed": false,
     "input": [
      "# CELL 170\n",
      "# Stitch unigrams and bigrams together in a new text texts_combined\n",
      "\n",
      "if(not feature['texts_final_load']):\n",
      "    texts_combined = []\n",
      "    for index,text in enumerate(texts):\n",
      "        texts_combined.append(text+texts_bigrams[index])\n",
      "    \n",
      "    print len(texts_combined)"
     ],
     "language": "python",
     "metadata": {},
     "outputs": [
      {
       "output_type": "stream",
       "stream": "stdout",
       "text": [
        "500\n"
       ]
      }
     ],
     "prompt_number": 25
    },
    {
     "cell_type": "code",
     "collapsed": false,
     "input": [
      "# CELL 175\n",
      "# Choose which text we will be processing with our model:\n",
      "#    unigrams = texts\n",
      "#    bigrams  = texts_bigrams\n",
      "#    unigrams + bigrams = texts_combined\n",
      "\n",
      "if(not feature['texts_final_load']):\n",
      "    # texts_final = texts\n",
      "    # texts_final = texts_bigrams\n",
      "    texts_final = texts_combined"
     ],
     "language": "python",
     "metadata": {},
     "outputs": [],
     "prompt_number": 26
    },
    {
     "cell_type": "code",
     "collapsed": false,
     "input": [
      "# CELL 178\n",
      "# Save texts_final\n",
      "\n",
      "if(feature['texts_final_save']):\n",
      "    with open(data_dir + '/' + file_root + '-texts_final' + '.pickle', 'w') as f:\n",
      "        pickle.dump(texts_final, f)"
     ],
     "language": "python",
     "metadata": {},
     "outputs": [],
     "prompt_number": 27
    },
    {
     "cell_type": "markdown",
     "metadata": {},
     "source": [
      "## Consideration of various models\n",
      "\n",
      "Various models were considered and experimented with using a variety of tools.  In python [LSI](http://en.wikipedia.org/wiki/Latent_semantic_indexing), [LDA](http://en.wikipedia.org/wiki/Latent_Dirichlet_allocation) and [HDP](http://en.wikipedia.org/wiki/Hierarchical_Dirichlet_process) were all experimented with.  Ultimately we chose to work with the [gensim implementation of LDA](http://radimrehurek.com/gensim/models/ldamodel.html).  There were a number of reasons gensim was chosen:\n",
      "\n",
      "- Gensim is a mature project with over 5 years of being vetted\n",
      "- Gensim is specifically evolved around the creation of topic models\n",
      "- Gensim runs on python, a language that could deal with large amounts of data\n",
      "- Gensim supports a distributed architecture, allowing us to parallelize its operations \n",
      "\n",
      "## LDA Workflow\n",
      "\n",
      "LDA operates over a bag of words (bow).  The bow is created from first creating a dictionary of our final processed text, and then passing the text to the dictionary to create a bow.  LDA they takes the dictionary and bow and builds the model.  The end result is that topics are assigned to each document.\n",
      "\n",
      "![Alt text](files/img_bf_classification.png)\n",
      "\n",
      "## Dictionary and Corpus Creation\n",
      "\n",
      "Our dictionary was created from the output of our text processing.  After the dictionary was created, we removed infrequent and frequent words by using the `dictionary.filter_extremes()` method.  We removed all words that did not appear in at least 5 documents, removed all words that appeared in more than 60% of the documents.  There are various ways in which you can present a corpus.  LDA relies on a bow representation.  We experimented with using a TD-IDF transform, but doing so is not consistant with the model of LDA.\n",
      "\n",
      "## Bug discovery and fix in Gensim\n",
      "\n",
      "Gensim is a project that has existed for over 5 years.  The code is very solid and trusted.  In running our grid searches however, we discovered a bug that was previously unknown.  The bug was not only identified as a bug, but the true root cause was found, and solution recommended to the author, which was implemented in its [pyro threads](https://github.com/piskvorky/gensim/tree/pyro_threads) branch.  The bug was related to how gensim was allocating threads.  It was not releasing the threads when it was finished with the model.  Therefore, creation of new models, for example during an iteration process of grid searching, would exhaust threads.  The design pattern deployed by gensim was very quick and dirty, it did not stick to the traditional producer/consumer pattern that is common to RMI models.  It had a context in which it was continously blocking until new data would arrive.  This was modified so that it would wait for a signal that their was new data, sleeping and regularly checking it, which allowed for it to receive further instructions as needed.\n"
     ]
    },
    {
     "cell_type": "code",
     "collapsed": false,
     "input": [
      "# CELL 180\n",
      "# create a dictionary of words and filter it\n",
      "# essentially makeing a N-D vector representation\n",
      "\n",
      "if(not feature['dict_corpus_load']):\n",
      "\n",
      "    # assigns integer id's to each word along with word counts and other statistics\n",
      "    dictionary = corpora.Dictionary(texts_final)\n",
      "\n",
      "    # filter dictionary, still need to find optimal settings default is no filtering\n",
      "    # Currently trying this at no_below=5, no_above=0.6, keep_n=None\n",
      "    # filters\n",
      "    # 1. less than no_below documents (absolute number) or\n",
      "    # 2. more than no_above documents (fraction of total corpus size, not absolute number).\n",
      "    # after (1) and (2), keep only the first keep_n most frequent tokens (or keep all if None).\n",
      "    # After the pruning, shrink resulting gaps in word ids. (this means word ids may change after gap shrinking)\n",
      "    dictionary.filter_extremes(no_below=5, no_above=0.6, keep_n=None)\n",
      "    # print dictionary"
     ],
     "language": "python",
     "metadata": {},
     "outputs": [
      {
       "output_type": "stream",
       "stream": "stderr",
       "text": [
        "2013-12-15 20:56:08,585 : INFO : adding document #0 to Dictionary(0 unique tokens)\n"
       ]
      },
      {
       "output_type": "stream",
       "stream": "stderr",
       "text": [
        "2013-12-15 20:56:08,790 : INFO : built Dictionary(6086 unique tokens) from 500 documents (total 11024 corpus positions)\n"
       ]
      },
      {
       "output_type": "stream",
       "stream": "stderr",
       "text": [
        "2013-12-15 20:56:08,795 : INFO : keeping 261 tokens which were in no less than 5 and no more than 300 (=60.0%) documents\n"
       ]
      },
      {
       "output_type": "stream",
       "stream": "stderr",
       "text": [
        "2013-12-15 20:56:08,801 : INFO : resulting dictionary: Dictionary(261 unique tokens)\n"
       ]
      }
     ],
     "prompt_number": 28
    },
    {
     "cell_type": "code",
     "collapsed": false,
     "input": [
      "# CELL 182\n",
      "# save dictionary to disk for later use\n",
      "\n",
      "if(feature['dict_corpus_save']):\n",
      "    dictionary.save(data_dir + '/' + file_root + '.dict') "
     ],
     "language": "python",
     "metadata": {},
     "outputs": [],
     "prompt_number": 29
    },
    {
     "cell_type": "code",
     "collapsed": false,
     "input": [
      "# CELL 190\n",
      "# look at mappings between id's and words\n",
      "\n",
      "# print dictionary.token2id"
     ],
     "language": "python",
     "metadata": {},
     "outputs": [],
     "prompt_number": 30
    },
    {
     "cell_type": "code",
     "collapsed": false,
     "input": [
      "# CELL 200\n",
      "# test our dictionary\n",
      "\n",
      "# we take the string to lower() and split on whitespace.  If this example had more complex things like punctuation, we would\n",
      "# need to handle it like I did earlier with the full text reviews......this is just a simple example.\n",
      "# the words \"has\" and \"and\" are ignored because these are stopwords, and were filtered and never added to the dictionary \n",
      "# in the first place.  The word \"sauropod\" does not appear in the dictionary because it was not in any review we ingested.\n",
      "# id mappings below may be different from actual at this time\n",
      "# 51 is \"school\", 57 is \"students\", 61 is \"teachers\"\n",
      "# The ,1 after each id is the word count, which in this case is 2 for students and 1 for others \n",
      "# Note: now that I do dictionary filtering, the above words are filtered out, so the example is not the same as\n",
      "# what you will see below\n",
      "# new_doc = \"military organizes disgrace and sauropods\"\n",
      "# new_vec = dictionary.doc2bow(new_doc.lower().split())\n",
      "# print new_vec "
     ],
     "language": "python",
     "metadata": {},
     "outputs": [],
     "prompt_number": 31
    },
    {
     "cell_type": "code",
     "collapsed": false,
     "input": [
      "# CELL 205\n",
      "# load a previous saved dictionary and corpus\n",
      "\n",
      "if(feature['dict_corpus_load']):\n",
      "\n",
      "    dictionary = corpora.Dictionary.load(data_dir + '/' + file_root + '.dict')\n",
      "\n",
      "    # do not re-filter if the dictionary you are loading was already previously filtered before it was saved \n",
      "    # dictionary.filter_extremes(no_below=5, no_above=0.5, keep_n=100000)\n",
      "    # print dictionary\n",
      "\n",
      "    corpus_bow = corpora.MmCorpus(data_dir + '/' + file_root + '.mm')\n",
      "    # print corpus_bow"
     ],
     "language": "python",
     "metadata": {},
     "outputs": [],
     "prompt_number": 32
    },
    {
     "cell_type": "code",
     "collapsed": false,
     "input": [
      "# CELL 210\n",
      "# our text converted to a bag of words based on our dictionary\n",
      "if(not feature['dict_corpus_load']):\n",
      "    corpus_bow = [dictionary.doc2bow(text) for text in texts_final]"
     ],
     "language": "python",
     "metadata": {},
     "outputs": [],
     "prompt_number": 33
    },
    {
     "cell_type": "code",
     "collapsed": false,
     "input": [
      "# CELL 212\n",
      "# save corpus to disk for later use\n",
      "if(feature['dict_corpus_save']):\n",
      "    corpora.MmCorpus.serialize(data_dir + '/' + file_root + '.mm', corpus_bow) \n",
      "    # print corpus_bow"
     ],
     "language": "python",
     "metadata": {},
     "outputs": [],
     "prompt_number": 34
    },
    {
     "cell_type": "code",
     "collapsed": false,
     "input": [
      "# CELL 230\n",
      "# How many times does a particular word appear in the corpus?\n",
      "\n",
      "# Look up the id of the token \n",
      "# id = dictionary.token2id['military']\n",
      "\n",
      "# Now get the count for that id\n",
      "# total_sum = sum(dict(doc).get(123, 0) for doc in corpus_bow)\n",
      "# print total_sum"
     ],
     "language": "python",
     "metadata": {},
     "outputs": [],
     "prompt_number": 35
    },
    {
     "cell_type": "code",
     "collapsed": false,
     "input": [
      "# CELL 240\n",
      "\n",
      "# create a TF-IDF model of our corpus\n",
      "# this model can now convert data that was represented as \"bag of words\" to the new TF-IDF representation\n",
      "# From the documentation \"Expects a bag-of-words (integer values) training corpus during initialization. During transformation, \n",
      "# it will take a vector and return another vector of the same dimensionality, except that features which were rare in the training \n",
      "# corpus will have their value increased. It therefore converts integer-valued vectors into real-valued ones, while leaving the \n",
      "# number of dimensions intact. It can also optionally normalize the resulting vectors to (Euclidean) unit length.\"\n",
      "# Note, I did not normalize here but I could.\n",
      "if(feature['tfidf']):\n",
      "    model_tfidf = models.TfidfModel(corpus_bow)"
     ],
     "language": "python",
     "metadata": {},
     "outputs": [],
     "prompt_number": 36
    },
    {
     "cell_type": "code",
     "collapsed": false,
     "input": [
      "# CELL 250\n",
      "# view a bow in our tfidf corpus\n",
      "# for example I take review 1\n",
      "# doc_bow = [(0, 1), (1, 1), (2, 1), (3, 1), (4, 2), (5, 1), (6, 1), (7, 1), (8, 1), (9, 2), (10, 1), (11, 1), (12, 4), \n",
      "#           (13, 1), (14, 1), (15, 2), (16, 1), (17, 1), (18, 1), (19, 1), (20, 2), (21, 1), (22, 1), (23, 1), (24, 2), \n",
      "#           (25, 1), (26, 1), (27, 2), (28, 2), (29, 1), (30, 2), (31, 1), (32, 1), (33, 1), (34, 1), (35, 1), (36, 1), \n",
      "#           (37, 1), (38, 1), (39, 2), (40, 1), (41, 1), (42, 2), (43, 1), (44, 1), (45, 2), (46, 1), (47, 1), (48, 1), \n",
      "#           (49, 1), (50, 1), (51, 3), (52, 1), (53, 1), (54, 1), (55, 2), (56, 1), (57, 3), (58, 1), (59, 2), (60, 1), \n",
      "#           (61, 3), (62, 1), (63, 1), (64, 1), (65, 2), (66, 1), (67, 1), (68, 2)]\n",
      "# print model_tfidf[doc_bow]"
     ],
     "language": "python",
     "metadata": {},
     "outputs": [],
     "prompt_number": 37
    },
    {
     "cell_type": "code",
     "collapsed": false,
     "input": [
      "# CELL 260\n",
      "# transform the entire corpus to TF-IDF\n",
      "if(feature['tfidf']):\n",
      "    corpus_tfidf = model_tfidf[corpus_bow]\n",
      "\n",
      "# This can take a while to print (15m or so)\n",
      "# for doc in corpus_tfidf:\n",
      "#    print doc"
     ],
     "language": "python",
     "metadata": {},
     "outputs": [],
     "prompt_number": 38
    },
    {
     "cell_type": "code",
     "collapsed": false,
     "input": [
      "# CELL 265\n",
      "# choose a corpus\n",
      "if(feature['tfidf']):\n",
      "    corpus = corpus_tfidf\n",
      "else:\n",
      "    corpus = corpus_bow"
     ],
     "language": "python",
     "metadata": {},
     "outputs": [],
     "prompt_number": 39
    },
    {
     "cell_type": "code",
     "collapsed": false,
     "input": [
      "# CELL 268\n",
      "# perplexity grid search\n",
      "# we will take our documents, divide them into 80% train and 20% test.  We will measure the test data against the model built with \n",
      "# train  and calculate a perplexity measurement.  The goal will be to find the parameters which minimize perplexity.\n",
      "# Intution gathered from posts on the gensim mailing list including https://groups.google.com/forum/#!topic/gensim/tsGNoDkMY7U\n",
      "\n",
      "if(feature['perplexity_search']):\n",
      "    \n",
      "    grid = defaultdict(list)\n",
      "\n",
      "    # Choose a parameter you are wanting to search, for example num_topics or alpha / eta, make sure you substitute \"parameter_value\"\n",
      "    # into the model below instead of a static value.\n",
      "    #\n",
      "    # num topics\n",
      "    # parameter_list=[10, 25, 50, 75, 100]\n",
      "    \n",
      "    # alpha / eta\n",
      "    parameter_list=[0.001, 0.005, 0.01, 0.05, 0.1, 0.5, 1.0, 1.5]\n",
      "    \n",
      "    # shuffle corpus\n",
      "    cp = list(corpus)\n",
      "    random.shuffle(cp)\n",
      "\n",
      "    # split into 80% training and 20% test sets\n",
      "    p = int(len(cp) * .8)\n",
      "    cp_train = cp[0:p]\n",
      "    cp_test = cp[p:]\n",
      "\n",
      "    # for num_topics_value in num_topics_list:\n",
      "    for parameter_value in parameter_list:\n",
      "\n",
      "        # print \"starting pass for num_topic = %d\" % num_topics_value\n",
      "        print \"starting pass for parameter_value = %.3f\" % parameter_value\n",
      "        start_time = time.time()\n",
      "\n",
      "        # run model\n",
      "        model = models.ldamodel.LdaModel(corpus=cp_train, id2word=dictionary, num_topics=40, chunksize=2000, \n",
      "                                        passes=50, update_every=0, alpha=parameter_value, eta=parameter_value, decay=0.5,\n",
      "                                        distributed=True)\n",
      "    \n",
      "        # show elapsed time for model\n",
      "        elapsed = time.time() - start_time\n",
      "        print \"Elapsed time: %s\" % elapsed\n",
      "    \n",
      "        perplex = model.bound(cp_test)\n",
      "        print \"Perplexity: %s\" % perplex\n",
      "        grid[parameter_value].append(perplex)\n",
      "    \n",
      "        per_word_perplex = np.exp2(-perplex / sum(cnt for document in cp_test for _, cnt in document))\n",
      "        print \"Per-word Perplexity: %s\" % per_word_perplex\n",
      "        grid[parameter_value].append(per_word_perplex)"
     ],
     "language": "python",
     "metadata": {},
     "outputs": [],
     "prompt_number": 40
    },
    {
     "cell_type": "code",
     "collapsed": false,
     "input": [
      "# CELL 269\n",
      "# View the results of our grid search\n",
      "if(feature['perplexity_search']):\n",
      "    for parameters in grid:\n",
      "        print parameters"
     ],
     "language": "python",
     "metadata": {},
     "outputs": [],
     "prompt_number": 41
    },
    {
     "cell_type": "markdown",
     "metadata": {},
     "source": [
      "## LDA model building\n",
      "\n",
      "The LDA model was built using 75 topics. A grid search was ran across multiple topic numbers and an ideal value for number of topics was chosen which had a low perplexity.  The team members further validated the number of topics by looking at the results of various models built from various numbers of topics and choosing the one that looked best.  Grid searches were also conducted for hyper parameters `alpha` and `eta`, once again measuring perplexity.  It was found that the default parameters were reasonable.  Default `alpha` and `eta` are `1/num_topics`.\n",
      "\n",
      "## Gensim\u2019s distributed architecture\n",
      "\n",
      "Gensim uses the [Pyro4](http://pythonhosted.org/Pyro4/) framework to allow for distributed parallel processing of LDA jobs.  The corpus is divided into chunks, and each worker is assigned a chunk.   Since we were working with 32 cores, we used 32 workers over which the entire corpus was divided.  Gensim handled all of the sharding and merging of the data\n"
     ]
    },
    {
     "cell_type": "code",
     "collapsed": false,
     "input": [
      "%%time\n",
      "# CELL 270\n",
      "# Choose a model\n",
      "\n",
      "# took 24m 57s to do LDA num_topics=40, chunksize=500, passes=100, update_every=0, distributed=True \n",
      "# on my 4 core 2.66Ghz mac pro, on 37349 reviews using 8 virtual cores (8 workers)\n",
      "\n",
      "# If you don't have gensim setup for distributed set distributed=False\n",
      "# update_every is set to 0 as we are running in \"batch\" mode vs. online\n",
      "# chunksize is ideally = num documents / num workers     (when running in batch mode)\n",
      "# alpha and eta defaul to 1/num_topics if not set (None)\n",
      "if(not feature['model_load']):\n",
      "    model = models.ldamodel.LdaModel(corpus, id2word=dictionary, num_topics=num_topics, chunksize=500, \n",
      "                                  passes=10, update_every=0, alpha=None, eta=None, decay=0.5,\n",
      "                                  distributed=True)"
     ],
     "language": "python",
     "metadata": {},
     "outputs": [
      {
       "output_type": "stream",
       "stream": "stderr",
       "text": [
        "2013-12-15 20:56:45,062 : INFO : using distributed version with 4 workers\n"
       ]
      },
      {
       "output_type": "stream",
       "stream": "stderr",
       "text": [
        "2013-12-15 20:56:45,075 : INFO : running batch LDA training, 75 topics, 10 passes over the supplied corpus of 500 documents, updating model once every 500 documents\n"
       ]
      },
      {
       "output_type": "stream",
       "stream": "stderr",
       "text": [
        "2013-12-15 20:56:45,076 : INFO : initializing 4 workers\n"
       ]
      },
      {
       "output_type": "stream",
       "stream": "stderr",
       "text": [
        "2013-12-15 20:56:45,173 : INFO : PROGRESS: iteration 0, dispatching documents up to #500/500\n"
       ]
      },
      {
       "output_type": "stream",
       "stream": "stderr",
       "text": [
        "2013-12-15 20:56:45,184 : INFO : reached the end of input; now waiting for all remaining jobs to finish\n"
       ]
      },
      {
       "output_type": "stream",
       "stream": "stderr",
       "text": [
        "2013-12-15 20:56:46,232 : INFO : topic #0: 0.053*assignment + 0.048*grade + 0.045*week + 0.040*teaching + 0.026*people + 0.026*variety + 0.026*etc + 0.026*music + 0.026*staff + 0.026*art\n"
       ]
      },
      {
       "output_type": "stream",
       "stream": "stderr",
       "text": [
        "2013-12-15 20:56:46,233 : INFO : topic #1: 0.096*community + 0.064*event + 0.032*week + 0.032*resource + 0.032*diversity + 0.032*community event + 0.032*staff community + 0.032*fun + 0.032*neighborhood + 0.032*amount\n"
       ]
      },
      {
       "output_type": "stream",
       "stream": "stderr",
       "text": [
        "2013-12-15 20:56:46,234 : INFO : topic #2: 0.071*family + 0.036*curriculum + 0.036*family community + 0.036*culture + 0.036*style + 0.036*class + 0.036*community event + 0.036*classroom + 0.036*performance + 0.036*community\n"
       ]
      },
      {
       "output_type": "stream",
       "stream": "stderr",
       "text": [
        "2013-12-15 20:56:46,235 : INFO : topic #3: 0.081*program + 0.065*color + 0.065*involvement + 0.065*staff + 0.047*support + 0.033*art program + 0.033*fun + 0.033*body + 0.033*art + 0.033*teaching\n"
       ]
      },
      {
       "output_type": "stream",
       "stream": "stderr",
       "text": [
        "2013-12-15 20:56:46,236 : INFO : topic #4: 0.087*community + 0.058*program + 0.056*grade + 0.044*need + 0.038*education + 0.036*involvement + 0.036*activity + 0.036*diversity + 0.034*friend + 0.022*quality\n"
       ]
      },
      {
       "output_type": "stream",
       "stream": "stderr",
       "text": [
        "2013-12-15 20:56:46,238 : INFO : topic #5: 0.067*grade + 0.051*program + 0.051*experience + 0.051*environment + 0.034*expectation + 0.034*community + 0.034*sure + 0.034*art + 0.017*member + 0.017*resource\n"
       ]
      },
      {
       "output_type": "stream",
       "stream": "stderr",
       "text": [
        "2013-12-15 20:56:46,239 : INFO : topic #6: 0.156*district + 0.156*freshman + 0.156*amount + 0.002*state + 0.002*track + 0.002*review + 0.002*space + 0.002*morning + 0.002*result + 0.002*practice\n"
       ]
      },
      {
       "output_type": "stream",
       "stream": "stderr",
       "text": [
        "2013-12-15 20:56:46,240 : INFO : topic #7: 0.055*community + 0.051*learning + 0.045*grade + 0.037*house + 0.035*curriculum + 0.033*class + 0.031*education + 0.031*art + 0.025*homework + 0.021*activity\n"
       ]
      },
      {
       "output_type": "stream",
       "stream": "stderr",
       "text": [
        "2013-12-15 20:56:46,241 : INFO : topic #8: 0.094*day + 0.094*place + 0.094*world + 0.047*activity + 0.047*goal + 0.047*safe + 0.047*experience + 0.047*kind + 0.047*fun + 0.047*staff\n"
       ]
      },
      {
       "output_type": "stream",
       "stream": "stderr",
       "text": [
        "2013-12-15 20:56:46,242 : INFO : topic #9: 0.185*area + 0.185*bay + 0.002*morning + 0.002*girl + 0.002*sport + 0.002*event + 0.002*concern + 0.002*budget cut + 0.002*practice + 0.002*community involvement\n"
       ]
      },
      {
       "output_type": "stream",
       "stream": "stderr",
       "text": [
        "2013-12-15 20:56:46,243 : INFO : topic #10: 0.073*family + 0.059*teaching + 0.044*program + 0.044*neighborhood + 0.044*diversity + 0.029*community + 0.029*grade + 0.029*population + 0.029*fundraiser + 0.029*experience\n"
       ]
      },
      {
       "output_type": "stream",
       "stream": "stderr",
       "text": [
        "2013-12-15 20:56:46,244 : INFO : topic #11: 0.069*community + 0.046*dedication + 0.046*curriculum + 0.046*sport + 0.046*art + 0.023*color + 0.023*science + 0.023*quality program + 0.023*score + 0.023*quality\n"
       ]
      },
      {
       "output_type": "stream",
       "stream": "stderr",
       "text": [
        "2013-12-15 20:56:46,245 : INFO : topic #12: 0.140*class + 0.089*program + 0.070*homework + 0.052*job + 0.035*family + 0.035*home + 0.035*time + 0.035*computer + 0.035*counselor + 0.035*creativity\n"
       ]
      },
      {
       "output_type": "stream",
       "stream": "stderr",
       "text": [
        "2013-12-15 20:56:46,246 : INFO : topic #13: 0.069*grade + 0.059*choice + 0.030*grade grade + 0.030*experience + 0.030*program + 0.030*community + 0.030*group + 0.020*value + 0.020*test + 0.020*test score\n"
       ]
      },
      {
       "output_type": "stream",
       "stream": "stderr",
       "text": [
        "2013-12-15 20:56:46,247 : INFO : topic #14: 0.073*quality + 0.055*district + 0.055*teaching + 0.055*education + 0.055*experience + 0.037*grade + 0.037*environment + 0.037*score + 0.037*language + 0.037*time\n"
       ]
      },
      {
       "output_type": "stream",
       "stream": "stderr",
       "text": [
        "2013-12-15 20:56:46,248 : INFO : topic diff=61.331323, rho=1.000000\n"
       ]
      },
      {
       "output_type": "stream",
       "stream": "stderr",
       "text": [
        "2013-12-15 20:56:46,249 : INFO : initializing 4 workers\n"
       ]
      },
      {
       "output_type": "stream",
       "stream": "stderr",
       "text": [
        "2013-12-15 20:56:46,316 : INFO : PROGRESS: iteration 1, dispatching documents up to #500/500\n"
       ]
      },
      {
       "output_type": "stream",
       "stream": "stderr",
       "text": [
        "2013-12-15 20:56:46,326 : INFO : reached the end of input; now waiting for all remaining jobs to finish\n"
       ]
      },
      {
       "output_type": "stream",
       "stream": "stderr",
       "text": [
        "2013-12-15 20:56:47,344 : INFO : topic #0: 0.083*assignment + 0.053*week + 0.047*grade + 0.039*teaching + 0.036*quality + 0.036*variety + 0.031*end + 0.023*event + 0.021*drama + 0.021*music\n"
       ]
      },
      {
       "output_type": "stream",
       "stream": "stderr",
       "text": [
        "2013-12-15 20:56:47,345 : INFO : topic #1: 0.114*community + 0.083*event + 0.046*question + 0.046*resource + 0.038*community event + 0.038*staff community + 0.038*involvement + 0.035*staff + 0.034*neighborhood + 0.032*family\n"
       ]
      },
      {
       "output_type": "stream",
       "stream": "stderr",
       "text": [
        "2013-12-15 20:56:47,346 : INFO : topic #2: 0.084*family + 0.049*family community + 0.038*community + 0.035*class + 0.035*community event + 0.035*classroom + 0.035*style + 0.035*event + 0.035*culture + 0.035*challenge\n"
       ]
      },
      {
       "output_type": "stream",
       "stream": "stderr",
       "text": [
        "2013-12-15 20:56:47,347 : INFO : topic #3: 0.108*involvement + 0.091*program + 0.071*color + 0.066*support + 0.052*staff + 0.045*involvement community + 0.045*community + 0.026*art program + 0.026*fun + 0.026*diversity\n"
       ]
      },
      {
       "output_type": "stream",
       "stream": "stderr",
       "text": [
        "2013-12-15 20:56:47,348 : INFO : topic #4: 0.078*community + 0.058*grade + 0.057*program + 0.053*need + 0.042*activity + 0.040*education + 0.040*friend + 0.037*involvement + 0.037*diversity + 0.033*family\n"
       ]
      },
      {
       "output_type": "stream",
       "stream": "stderr",
       "text": [
        "2013-12-15 20:56:47,349 : INFO : topic #5: 0.062*grade + 0.046*program + 0.046*experience + 0.046*environment + 0.040*expectation + 0.028*sure + 0.022*art + 0.020*sport + 0.020*member + 0.020*education\n"
       ]
      },
      {
       "output_type": "stream",
       "stream": "stderr",
       "text": [
        "2013-12-15 20:56:47,350 : INFO : topic #6: 0.278*district + 0.194*freshman + 0.120*amount + 0.002*state + 0.002*track + 0.002*review + 0.002*space + 0.002*morning + 0.002*result + 0.002*practice\n"
       ]
      },
      {
       "output_type": "stream",
       "stream": "stderr",
       "text": [
        "2013-12-15 20:56:47,351 : INFO : topic #7: 0.075*learning + 0.052*community + 0.045*grade + 0.040*house + 0.038*education + 0.034*art + 0.033*curriculum + 0.029*staff + 0.025*money + 0.025*volunteer\n"
       ]
      },
      {
       "output_type": "stream",
       "stream": "stderr",
       "text": [
        "2013-12-15 20:56:47,352 : INFO : topic #8: 0.171*place + 0.089*day + 0.087*world + 0.060*experience + 0.055*field + 0.055*kind + 0.055*staff + 0.055*activity + 0.055*board + 0.054*district\n"
       ]
      },
      {
       "output_type": "stream",
       "stream": "stderr",
       "text": [
        "2013-12-15 20:56:47,352 : INFO : topic #9: 0.336*area + 0.251*bay + 0.002*morning + 0.002*girl + 0.002*sport + 0.002*event + 0.002*concern + 0.002*budget cut + 0.002*practice + 0.002*community involvement\n"
       ]
      },
      {
       "output_type": "stream",
       "stream": "stderr",
       "text": [
        "2013-12-15 20:56:47,353 : INFO : topic #10: 0.082*family + 0.051*neighborhood + 0.047*teaching + 0.045*program + 0.040*diversity + 0.032*experience + 0.032*community + 0.030*science + 0.030*fundraiser + 0.030*grade\n"
       ]
      },
      {
       "output_type": "stream",
       "stream": "stderr",
       "text": [
        "2013-12-15 20:56:47,354 : INFO : topic #11: 0.070*dedication + 0.052*curriculum + 0.052*art + 0.052*sport + 0.050*community + 0.044*respect + 0.044*time + 0.029*involvement + 0.026*quality program + 0.026*science\n"
       ]
      },
      {
       "output_type": "stream",
       "stream": "stderr",
       "text": [
        "2013-12-15 20:56:47,355 : INFO : topic #12: 0.170*class + 0.159*program + 0.100*homework + 0.060*job + 0.043*others + 0.043*creativity + 0.025*family + 0.025*home + 0.025*computer + 0.025*involvement\n"
       ]
      },
      {
       "output_type": "stream",
       "stream": "stderr",
       "text": [
        "2013-12-15 20:56:47,356 : INFO : topic #13: 0.069*choice + 0.063*grade + 0.034*community + 0.034*program + 0.034*group + 0.034*grade grade + 0.023*value + 0.023*neighborhood + 0.023*core + 0.023*family\n"
       ]
      },
      {
       "output_type": "stream",
       "stream": "stderr",
       "text": [
        "2013-12-15 20:56:47,357 : INFO : topic #14: 0.089*education + 0.088*quality + 0.072*experience + 0.050*score + 0.047*grade + 0.047*teaching + 0.047*district + 0.035*time + 0.031*language + 0.031*quality education\n"
       ]
      },
      {
       "output_type": "stream",
       "stream": "stderr",
       "text": [
        "2013-12-15 20:56:47,358 : INFO : topic diff=0.299572, rho=0.707107\n"
       ]
      },
      {
       "output_type": "stream",
       "stream": "stderr",
       "text": [
        "2013-12-15 20:56:47,358 : INFO : initializing 4 workers\n"
       ]
      },
      {
       "output_type": "stream",
       "stream": "stderr",
       "text": [
        "2013-12-15 20:56:47,418 : INFO : PROGRESS: iteration 2, dispatching documents up to #500/500\n"
       ]
      },
      {
       "output_type": "stream",
       "stream": "stderr",
       "text": [
        "2013-12-15 20:56:47,430 : INFO : reached the end of input; now waiting for all remaining jobs to finish\n"
       ]
      },
      {
       "output_type": "stream",
       "stream": "stderr",
       "text": [
        "2013-12-15 20:56:48,446 : INFO : topic #0: 0.095*assignment + 0.054*week + 0.048*grade + 0.037*teaching + 0.036*quality + 0.036*variety + 0.034*end + 0.031*event + 0.021*academic + 0.021*homework\n"
       ]
      },
      {
       "output_type": "stream",
       "stream": "stderr",
       "text": [
        "2013-12-15 20:56:48,448 : INFO : topic #1: 0.112*community + 0.098*event + 0.052*involvement + 0.046*question + 0.046*resource + 0.041*community event + 0.041*grade + 0.040*family + 0.040*neighborhood + 0.033*staff community\n"
       ]
      },
      {
       "output_type": "stream",
       "stream": "stderr",
       "text": [
        "2013-12-15 20:56:48,449 : INFO : topic #2: 0.105*family + 0.074*family community + 0.059*community + 0.050*system + 0.032*classroom + 0.032*state + 0.032*event + 0.032*community event + 0.032*style + 0.032*curriculum\n"
       ]
      },
      {
       "output_type": "stream",
       "stream": "stderr",
       "text": [
        "2013-12-15 20:56:48,450 : INFO : topic #3: 0.130*involvement + 0.092*program + 0.070*color + 0.068*support + 0.060*involvement community + 0.051*staff + 0.049*community + 0.024*diversity + 0.024*body + 0.024*art\n"
       ]
      },
      {
       "output_type": "stream",
       "stream": "stderr",
       "text": [
        "2013-12-15 20:56:48,451 : INFO : topic #4: 0.072*community + 0.066*grade + 0.062*activity + 0.050*friend + 0.047*education + 0.046*diversity + 0.043*program + 0.042*need + 0.035*involvement + 0.029*neighborhood\n"
       ]
      },
      {
       "output_type": "stream",
       "stream": "stderr",
       "text": [
        "2013-12-15 20:56:48,452 : INFO : topic #5: 0.051*grade + 0.049*program + 0.049*experience + 0.049*environment + 0.046*expectation + 0.023*progress + 0.023*education + 0.023*choice + 0.023*work + 0.023*music\n"
       ]
      },
      {
       "output_type": "stream",
       "stream": "stderr",
       "text": [
        "2013-12-15 20:56:48,453 : INFO : topic #6: 0.391*district + 0.164*freshman + 0.141*amount + 0.001*state + 0.001*track + 0.001*review + 0.001*space + 0.001*morning + 0.001*result + 0.001*practice\n"
       ]
      },
      {
       "output_type": "stream",
       "stream": "stderr",
       "text": [
        "2013-12-15 20:56:48,454 : INFO : topic #7: 0.082*learning + 0.050*community + 0.043*house + 0.042*education + 0.034*art + 0.032*grade + 0.031*staff + 0.031*curriculum + 0.028*family + 0.028*volunteer\n"
       ]
      },
      {
       "output_type": "stream",
       "stream": "stderr",
       "text": [
        "2013-12-15 20:56:48,456 : INFO : topic #8: 0.192*place + 0.131*day + 0.079*world + 0.067*experience + 0.051*field + 0.051*staff + 0.051*board + 0.051*activity + 0.051*kind + 0.047*district\n"
       ]
      },
      {
       "output_type": "stream",
       "stream": "stderr",
       "text": [
        "2013-12-15 20:56:48,457 : INFO : topic #9: 0.404*area + 0.276*bay + 0.001*morning + 0.001*girl + 0.001*sport + 0.001*event + 0.001*concern + 0.001*budget cut + 0.001*practice + 0.001*community involvement\n"
       ]
      },
      {
       "output_type": "stream",
       "stream": "stderr",
       "text": [
        "2013-12-15 20:56:48,458 : INFO : topic #10: 0.083*family + 0.050*neighborhood + 0.048*program + 0.039*teaching + 0.037*diversity + 0.033*experience + 0.033*community + 0.032*fundraiser + 0.032*population + 0.032*science\n"
       ]
      },
      {
       "output_type": "stream",
       "stream": "stderr",
       "text": [
        "2013-12-15 20:56:48,459 : INFO : topic #11: 0.078*dedication + 0.054*curriculum + 0.054*art + 0.054*sport + 0.051*respect + 0.051*time + 0.040*community + 0.030*involvement + 0.027*science + 0.027*class\n"
       ]
      },
      {
       "output_type": "stream",
       "stream": "stderr",
       "text": [
        "2013-12-15 20:56:48,460 : INFO : topic #12: 0.191*class + 0.185*program + 0.106*homework + 0.056*job + 0.051*creativity + 0.049*others + 0.024*art + 0.023*involvement + 0.021*goal + 0.021*computer\n"
       ]
      },
      {
       "output_type": "stream",
       "stream": "stderr",
       "text": [
        "2013-12-15 20:56:48,461 : INFO : topic #13: 0.073*choice + 0.053*grade + 0.037*community + 0.037*program + 0.037*group + 0.037*grade grade + 0.025*name + 0.025*time + 0.025*curriculum + 0.025*core\n"
       ]
      },
      {
       "output_type": "stream",
       "stream": "stderr",
       "text": [
        "2013-12-15 20:56:48,462 : INFO : topic #14: 0.114*education + 0.089*quality + 0.087*experience + 0.055*grade + 0.055*score + 0.042*district + 0.042*quality education + 0.034*teaching + 0.033*time + 0.028*language\n"
       ]
      },
      {
       "output_type": "stream",
       "stream": "stderr",
       "text": [
        "2013-12-15 20:56:48,463 : INFO : topic diff=0.300351, rho=0.577350\n"
       ]
      },
      {
       "output_type": "stream",
       "stream": "stderr",
       "text": [
        "2013-12-15 20:56:48,464 : INFO : initializing 4 workers\n"
       ]
      },
      {
       "output_type": "stream",
       "stream": "stderr",
       "text": [
        "2013-12-15 20:56:48,536 : INFO : PROGRESS: iteration 3, dispatching documents up to #500/500\n"
       ]
      },
      {
       "output_type": "stream",
       "stream": "stderr",
       "text": [
        "2013-12-15 20:56:48,547 : INFO : reached the end of input; now waiting for all remaining jobs to finish\n"
       ]
      },
      {
       "output_type": "stream",
       "stream": "stderr",
       "text": [
        "2013-12-15 20:56:49,562 : INFO : topic #0: 0.103*assignment + 0.054*week + 0.052*grade + 0.037*teaching + 0.036*variety + 0.035*end + 0.035*quality + 0.034*event + 0.021*academic + 0.021*homework\n"
       ]
      },
      {
       "output_type": "stream",
       "stream": "stderr",
       "text": [
        "2013-12-15 20:56:49,562 : INFO : topic #1: 0.113*event + 0.112*community + 0.056*involvement + 0.051*grade + 0.045*question + 0.045*resource + 0.042*community event + 0.042*family + 0.041*neighborhood + 0.031*staff community\n"
       ]
      },
      {
       "output_type": "stream",
       "stream": "stderr",
       "text": [
        "2013-12-15 20:56:49,563 : INFO : topic #2: 0.125*family + 0.097*family community + 0.074*community + 0.051*system + 0.034*challenge + 0.034*classroom + 0.029*sense + 0.029*score + 0.029*event + 0.029*class\n"
       ]
      },
      {
       "output_type": "stream",
       "stream": "stderr",
       "text": [
        "2013-12-15 20:56:49,564 : INFO : topic #3: 0.143*involvement + 0.089*program + 0.078*color + 0.077*support + 0.073*involvement community + 0.057*community + 0.043*staff + 0.027*garden + 0.027*diversity + 0.027*art\n"
       ]
      },
      {
       "output_type": "stream",
       "stream": "stderr",
       "text": [
        "2013-12-15 20:56:49,565 : INFO : topic #4: 0.073*activity + 0.069*grade + 0.069*community + 0.067*friend + 0.048*diversity + 0.046*education + 0.040*neighborhood + 0.038*program + 0.037*need + 0.034*involvement\n"
       ]
      },
      {
       "output_type": "stream",
       "stream": "stderr",
       "text": [
        "2013-12-15 20:56:49,567 : INFO : topic #5: 0.062*expectation + 0.051*program + 0.051*experience + 0.051*environment + 0.040*grade + 0.026*activity + 0.025*course + 0.025*member + 0.025*education + 0.025*quality program\n"
       ]
      },
      {
       "output_type": "stream",
       "stream": "stderr",
       "text": [
        "2013-12-15 20:56:49,568 : INFO : topic #6: 0.458*district + 0.157*freshman + 0.146*amount + 0.001*state + 0.001*track + 0.001*review + 0.001*space + 0.001*morning + 0.001*result + 0.001*practice\n"
       ]
      },
      {
       "output_type": "stream",
       "stream": "stderr",
       "text": [
        "2013-12-15 20:56:49,569 : INFO : topic #7: 0.082*learning + 0.049*education + 0.048*community + 0.043*house + 0.038*staff + 0.034*art + 0.029*curriculum + 0.028*volunteer + 0.028*family + 0.028*money\n"
       ]
      },
      {
       "output_type": "stream",
       "stream": "stderr",
       "text": [
        "2013-12-15 20:56:49,570 : INFO : topic #8: 0.205*place + 0.165*day + 0.083*experience + 0.071*world + 0.048*staff + 0.047*field + 0.047*board + 0.047*activity + 0.047*kind + 0.037*district\n"
       ]
      },
      {
       "output_type": "stream",
       "stream": "stderr",
       "text": [
        "2013-12-15 20:56:49,571 : INFO : topic #9: 0.439*area + 0.280*bay + 0.001*morning + 0.001*girl + 0.001*sport + 0.001*event + 0.001*concern + 0.001*budget cut + 0.001*practice + 0.001*community involvement\n"
       ]
      },
      {
       "output_type": "stream",
       "stream": "stderr",
       "text": [
        "2013-12-15 20:56:49,572 : INFO : topic #10: 0.084*family + 0.050*neighborhood + 0.049*program + 0.036*teaching + 0.035*diversity + 0.033*experience + 0.033*community + 0.033*grade + 0.033*population + 0.033*fundraiser\n"
       ]
      },
      {
       "output_type": "stream",
       "stream": "stderr",
       "text": [
        "2013-12-15 20:56:49,573 : INFO : topic #11: 0.081*dedication + 0.055*sport + 0.055*curriculum + 0.055*art + 0.054*respect + 0.054*time + 0.035*community + 0.029*involvement + 0.028*program + 0.028*towards\n"
       ]
      },
      {
       "output_type": "stream",
       "stream": "stderr",
       "text": [
        "2013-12-15 20:56:49,574 : INFO : topic #12: 0.197*class + 0.183*program + 0.107*homework + 0.064*job + 0.053*creativity + 0.052*others + 0.022*art + 0.021*involvement + 0.020*goal + 0.020*computer\n"
       ]
      },
      {
       "output_type": "stream",
       "stream": "stderr",
       "text": [
        "2013-12-15 20:56:49,575 : INFO : topic #13: 0.080*choice + 0.041*grade + 0.040*program + 0.033*community + 0.033*group + 0.033*grade grade + 0.027*core + 0.027*family + 0.027*curriculum + 0.027*neighborhood\n"
       ]
      },
      {
       "output_type": "stream",
       "stream": "stderr",
       "text": [
        "2013-12-15 20:56:49,575 : INFO : topic #14: 0.138*education + 0.096*quality + 0.089*experience + 0.057*grade + 0.054*quality education + 0.053*score + 0.038*district + 0.031*leadership + 0.030*time + 0.028*teaching\n"
       ]
      },
      {
       "output_type": "stream",
       "stream": "stderr",
       "text": [
        "2013-12-15 20:56:49,576 : INFO : topic diff=0.310476, rho=0.500000\n"
       ]
      },
      {
       "output_type": "stream",
       "stream": "stderr",
       "text": [
        "2013-12-15 20:56:49,577 : INFO : initializing 4 workers\n"
       ]
      },
      {
       "output_type": "stream",
       "stream": "stderr",
       "text": [
        "2013-12-15 20:56:49,633 : INFO : PROGRESS: iteration 4, dispatching documents up to #500/500\n"
       ]
      },
      {
       "output_type": "stream",
       "stream": "stderr",
       "text": [
        "2013-12-15 20:56:49,645 : INFO : reached the end of input; now waiting for all remaining jobs to finish\n"
       ]
      },
      {
       "output_type": "stream",
       "stream": "stderr",
       "text": [
        "2013-12-15 20:56:50,667 : INFO : topic #0: 0.107*assignment + 0.055*week + 0.054*grade + 0.037*teaching + 0.037*variety + 0.036*end + 0.036*event + 0.035*quality + 0.021*academic + 0.021*homework\n"
       ]
      },
      {
       "output_type": "stream",
       "stream": "stderr",
       "text": [
        "2013-12-15 20:56:50,668 : INFO : topic #1: 0.129*event + 0.109*community + 0.057*grade + 0.057*involvement + 0.043*question + 0.043*resource + 0.042*community event + 0.042*family + 0.041*neighborhood + 0.029*staff community\n"
       ]
      },
      {
       "output_type": "stream",
       "stream": "stderr",
       "text": [
        "2013-12-15 20:56:50,669 : INFO : topic #2: 0.135*family + 0.109*family community + 0.084*community + 0.051*system + 0.037*challenge + 0.037*classroom + 0.027*sense + 0.027*score + 0.027*event + 0.027*curriculum\n"
       ]
      },
      {
       "output_type": "stream",
       "stream": "stderr",
       "text": [
        "2013-12-15 20:56:50,670 : INFO : topic #3: 0.168*involvement + 0.090*program + 0.085*color + 0.082*involvement community + 0.079*support + 0.062*community + 0.038*staff + 0.028*art + 0.027*garden + 0.027*diversity\n"
       ]
      },
      {
       "output_type": "stream",
       "stream": "stderr",
       "text": [
        "2013-12-15 20:56:50,671 : INFO : topic #4: 0.083*activity + 0.076*friend + 0.073*grade + 0.070*community + 0.046*neighborhood + 0.042*diversity + 0.042*education + 0.037*program + 0.036*need + 0.033*success\n"
       ]
      },
      {
       "output_type": "stream",
       "stream": "stderr",
       "text": [
        "2013-12-15 20:56:50,672 : INFO : topic #5: 0.070*expectation + 0.052*program + 0.052*experience + 0.052*environment + 0.034*grade + 0.027*activity + 0.026*course + 0.026*member + 0.026*education + 0.026*quality program\n"
       ]
      },
      {
       "output_type": "stream",
       "stream": "stderr",
       "text": [
        "2013-12-15 20:56:50,673 : INFO : topic #6: 0.520*district + 0.145*freshman + 0.139*amount + 0.001*state + 0.001*track + 0.001*review + 0.001*space + 0.001*morning + 0.001*result + 0.001*practice\n"
       ]
      },
      {
       "output_type": "stream",
       "stream": "stderr",
       "text": [
        "2013-12-15 20:56:50,674 : INFO : topic #7: 0.079*learning + 0.052*education + 0.047*community + 0.044*staff + 0.043*house + 0.035*home + 0.034*art + 0.029*curriculum + 0.028*volunteer + 0.028*family\n"
       ]
      },
      {
       "output_type": "stream",
       "stream": "stderr",
       "text": [
        "2013-12-15 20:56:50,675 : INFO : topic #8: 0.212*place + 0.182*day + 0.094*experience + 0.067*world + 0.047*staff + 0.044*board + 0.044*field + 0.044*activity + 0.044*kind + 0.031*district\n"
       ]
      },
      {
       "output_type": "stream",
       "stream": "stderr",
       "text": [
        "2013-12-15 20:56:50,676 : INFO : topic #9: 0.456*area + 0.281*bay + 0.001*morning + 0.001*girl + 0.001*sport + 0.001*event + 0.001*concern + 0.001*budget cut + 0.001*practice + 0.001*community involvement\n"
       ]
      },
      {
       "output_type": "stream",
       "stream": "stderr",
       "text": [
        "2013-12-15 20:56:50,677 : INFO : topic #10: 0.085*family + 0.050*program + 0.050*neighborhood + 0.035*diversity + 0.034*teaching + 0.034*experience + 0.034*community + 0.034*grade + 0.034*population + 0.034*fundraiser\n"
       ]
      },
      {
       "output_type": "stream",
       "stream": "stderr",
       "text": [
        "2013-12-15 20:56:50,678 : INFO : topic #11: 0.097*dedication + 0.057*curriculum + 0.057*sport + 0.056*art + 0.056*respect + 0.056*time + 0.031*community + 0.029*cut + 0.029*friend + 0.029*towards\n"
       ]
      },
      {
       "output_type": "stream",
       "stream": "stderr",
       "text": [
        "2013-12-15 20:56:50,679 : INFO : topic #12: 0.197*class + 0.184*program + 0.105*homework + 0.066*job + 0.066*creativity + 0.055*others + 0.021*family + 0.021*art + 0.019*involvement + 0.019*computer\n"
       ]
      },
      {
       "output_type": "stream",
       "stream": "stderr",
       "text": [
        "2013-12-15 20:56:50,680 : INFO : topic #13: 0.085*choice + 0.042*program + 0.032*community + 0.032*group + 0.029*grade + 0.028*core + 0.028*family + 0.028*value + 0.028*time + 0.028*name\n"
       ]
      },
      {
       "output_type": "stream",
       "stream": "stderr",
       "text": [
        "2013-12-15 20:56:50,681 : INFO : topic #14: 0.159*education + 0.103*quality + 0.090*experience + 0.066*quality education + 0.057*grade + 0.051*score + 0.032*leadership + 0.028*time + 0.027*district + 0.025*test score\n"
       ]
      },
      {
       "output_type": "stream",
       "stream": "stderr",
       "text": [
        "2013-12-15 20:56:50,682 : INFO : topic diff=0.313925, rho=0.447214\n"
       ]
      },
      {
       "output_type": "stream",
       "stream": "stderr",
       "text": [
        "2013-12-15 20:56:50,683 : INFO : initializing 4 workers\n"
       ]
      },
      {
       "output_type": "stream",
       "stream": "stderr",
       "text": [
        "2013-12-15 20:56:50,739 : INFO : PROGRESS: iteration 5, dispatching documents up to #500/500\n"
       ]
      },
      {
       "output_type": "stream",
       "stream": "stderr",
       "text": [
        "2013-12-15 20:56:50,751 : INFO : reached the end of input; now waiting for all remaining jobs to finish\n"
       ]
      },
      {
       "output_type": "stream",
       "stream": "stderr",
       "text": [
        "2013-12-15 20:56:51,771 : INFO : topic #0: 0.110*assignment + 0.056*week + 0.055*grade + 0.038*teaching + 0.037*variety + 0.037*end + 0.037*event + 0.034*quality + 0.022*homework + 0.021*academic\n"
       ]
      },
      {
       "output_type": "stream",
       "stream": "stderr",
       "text": [
        "2013-12-15 20:56:51,772 : INFO : topic #1: 0.138*event + 0.106*community + 0.060*grade + 0.058*involvement + 0.043*question + 0.043*resource + 0.043*community event + 0.043*family + 0.042*neighborhood + 0.025*staff community\n"
       ]
      },
      {
       "output_type": "stream",
       "stream": "stderr",
       "text": [
        "2013-12-15 20:56:51,772 : INFO : topic #2: 0.139*family + 0.114*family community + 0.092*community + 0.050*system + 0.040*challenge + 0.040*classroom + 0.026*performance + 0.026*sense + 0.026*score + 0.026*event\n"
       ]
      },
      {
       "output_type": "stream",
       "stream": "stderr",
       "text": [
        "2013-12-15 20:56:51,773 : INFO : topic #3: 0.192*involvement + 0.101*program + 0.087*color + 0.085*involvement community + 0.076*support + 0.064*community + 0.036*activity + 0.033*staff + 0.028*art + 0.026*garden\n"
       ]
      },
      {
       "output_type": "stream",
       "stream": "stderr",
       "text": [
        "2013-12-15 20:56:51,774 : INFO : topic #4: 0.092*activity + 0.084*friend + 0.076*grade + 0.062*community + 0.051*neighborhood + 0.041*education + 0.041*diversity + 0.038*program + 0.038*need + 0.035*success\n"
       ]
      },
      {
       "output_type": "stream",
       "stream": "stderr",
       "text": [
        "2013-12-15 20:56:51,775 : INFO : topic #5: 0.074*expectation + 0.053*program + 0.053*experience + 0.053*environment + 0.032*grade + 0.027*activity + 0.026*work + 0.026*progress + 0.026*standard + 0.026*family\n"
       ]
      },
      {
       "output_type": "stream",
       "stream": "stderr",
       "text": [
        "2013-12-15 20:56:51,776 : INFO : topic #6: 0.545*district + 0.151*amount + 0.134*freshman + 0.001*score + 0.001*state + 0.001*track + 0.001*review + 0.001*space + 0.001*morning + 0.001*result\n"
       ]
      },
      {
       "output_type": "stream",
       "stream": "stderr",
       "text": [
        "2013-12-15 20:56:51,777 : INFO : topic #7: 0.074*learning + 0.053*education + 0.047*staff + 0.046*community + 0.042*house + 0.038*home + 0.034*art + 0.029*curriculum + 0.028*volunteer + 0.028*family\n"
       ]
      },
      {
       "output_type": "stream",
       "stream": "stderr",
       "text": [
        "2013-12-15 20:56:51,778 : INFO : topic #8: 0.222*place + 0.189*day + 0.102*experience + 0.064*world + 0.045*staff + 0.043*field + 0.043*board + 0.043*activity + 0.043*kind + 0.027*district\n"
       ]
      },
      {
       "output_type": "stream",
       "stream": "stderr",
       "text": [
        "2013-12-15 20:56:51,779 : INFO : topic #9: 0.472*area + 0.277*bay + 0.001*morning + 0.001*girl + 0.001*sport + 0.001*event + 0.001*concern + 0.001*budget cut + 0.001*practice + 0.001*community involvement\n"
       ]
      },
      {
       "output_type": "stream",
       "stream": "stderr",
       "text": [
        "2013-12-15 20:56:51,779 : INFO : topic #10: 0.085*family + 0.051*program + 0.050*neighborhood + 0.035*diversity + 0.034*experience + 0.034*community + 0.034*population + 0.034*fundraiser + 0.034*grade + 0.034*science\n"
       ]
      },
      {
       "output_type": "stream",
       "stream": "stderr",
       "text": [
        "2013-12-15 20:56:51,780 : INFO : topic #11: 0.107*dedication + 0.059*curriculum + 0.059*sport + 0.058*respect + 0.058*time + 0.056*art + 0.030*cut + 0.030*friend + 0.030*towards + 0.030*commitment\n"
       ]
      },
      {
       "output_type": "stream",
       "stream": "stderr",
       "text": [
        "2013-12-15 20:56:51,781 : INFO : topic #12: 0.197*class + 0.184*program + 0.103*homework + 0.074*creativity + 0.067*job + 0.057*others + 0.024*family + 0.020*art + 0.018*involvement + 0.018*computer\n"
       ]
      },
      {
       "output_type": "stream",
       "stream": "stderr",
       "text": [
        "2013-12-15 20:56:51,782 : INFO : topic #13: 0.088*choice + 0.044*program + 0.032*community + 0.032*group + 0.029*core + 0.029*family + 0.029*value + 0.029*name + 0.029*time + 0.029*neighborhood\n"
       ]
      },
      {
       "output_type": "stream",
       "stream": "stderr",
       "text": [
        "2013-12-15 20:56:51,783 : INFO : topic #14: 0.172*education + 0.108*quality + 0.089*experience + 0.076*quality education + 0.056*grade + 0.049*score + 0.032*leadership + 0.027*time + 0.025*test score + 0.025*test\n"
       ]
      },
      {
       "output_type": "stream",
       "stream": "stderr",
       "text": [
        "2013-12-15 20:56:51,783 : INFO : topic diff=0.313652, rho=0.408248\n"
       ]
      },
      {
       "output_type": "stream",
       "stream": "stderr",
       "text": [
        "2013-12-15 20:56:51,784 : INFO : initializing 4 workers\n"
       ]
      },
      {
       "output_type": "stream",
       "stream": "stderr",
       "text": [
        "2013-12-15 20:56:51,849 : INFO : PROGRESS: iteration 6, dispatching documents up to #500/500\n"
       ]
      },
      {
       "output_type": "stream",
       "stream": "stderr",
       "text": [
        "2013-12-15 20:56:51,861 : INFO : reached the end of input; now waiting for all remaining jobs to finish\n"
       ]
      },
      {
       "output_type": "stream",
       "stream": "stderr",
       "text": [
        "2013-12-15 20:56:52,880 : INFO : topic #0: 0.111*assignment + 0.056*week + 0.056*grade + 0.038*teaching + 0.038*variety + 0.038*end + 0.037*event + 0.034*quality + 0.022*homework + 0.021*academic\n"
       ]
      },
      {
       "output_type": "stream",
       "stream": "stderr",
       "text": [
        "2013-12-15 20:56:52,881 : INFO : topic #1: 0.144*event + 0.102*community + 0.063*grade + 0.059*involvement + 0.044*question + 0.044*resource + 0.043*community event + 0.043*family + 0.042*neighborhood + 0.023*class\n"
       ]
      },
      {
       "output_type": "stream",
       "stream": "stderr",
       "text": [
        "2013-12-15 20:56:52,882 : INFO : topic #2: 0.155*family + 0.113*family community + 0.095*community + 0.048*system + 0.041*classroom + 0.041*challenge + 0.031*culture + 0.027*experience + 0.025*performance + 0.025*event\n"
       ]
      },
      {
       "output_type": "stream",
       "stream": "stderr",
       "text": [
        "2013-12-15 20:56:52,883 : INFO : topic #3: 0.210*involvement + 0.107*program + 0.087*color + 0.086*involvement community + 0.073*support + 0.065*community + 0.040*activity + 0.030*staff + 0.027*art + 0.026*culture\n"
       ]
      },
      {
       "output_type": "stream",
       "stream": "stderr",
       "text": [
        "2013-12-15 20:56:52,884 : INFO : topic #4: 0.102*activity + 0.092*friend + 0.078*grade + 0.056*neighborhood + 0.055*community + 0.041*education + 0.040*diversity + 0.039*program + 0.038*need + 0.037*success\n"
       ]
      },
      {
       "output_type": "stream",
       "stream": "stderr",
       "text": [
        "2013-12-15 20:56:52,885 : INFO : topic #5: 0.076*expectation + 0.053*program + 0.053*experience + 0.053*environment + 0.030*grade + 0.028*activity + 0.027*sport + 0.027*member + 0.027*education + 0.027*instruction\n"
       ]
      },
      {
       "output_type": "stream",
       "stream": "stderr",
       "text": [
        "2013-12-15 20:56:52,886 : INFO : topic #6: 0.563*district + 0.154*amount + 0.127*freshman + 0.001*score + 0.001*state + 0.001*track + 0.001*review + 0.001*space + 0.001*morning + 0.001*result\n"
       ]
      },
      {
       "output_type": "stream",
       "stream": "stderr",
       "text": [
        "2013-12-15 20:56:52,887 : INFO : topic #7: 0.072*learning + 0.054*education + 0.049*staff + 0.046*community + 0.042*house + 0.039*home + 0.034*art + 0.028*curriculum + 0.028*volunteer + 0.028*family\n"
       ]
      },
      {
       "output_type": "stream",
       "stream": "stderr",
       "text": [
        "2013-12-15 20:56:52,887 : INFO : topic #8: 0.230*place + 0.191*day + 0.108*experience + 0.062*world + 0.044*staff + 0.041*field + 0.041*board + 0.041*activity + 0.041*kind + 0.025*district\n"
       ]
      },
      {
       "output_type": "stream",
       "stream": "stderr",
       "text": [
        "2013-12-15 20:56:52,888 : INFO : topic #9: 0.484*area + 0.273*bay + 0.001*morning + 0.001*girl + 0.001*sport + 0.001*event + 0.001*concern + 0.001*budget cut + 0.001*practice + 0.001*community involvement\n"
       ]
      },
      {
       "output_type": "stream",
       "stream": "stderr",
       "text": [
        "2013-12-15 20:56:52,889 : INFO : topic #10: 0.086*family + 0.051*program + 0.050*neighborhood + 0.035*diversity + 0.034*experience + 0.034*community + 0.034*population + 0.034*fundraiser + 0.034*grade + 0.034*science\n"
       ]
      },
      {
       "output_type": "stream",
       "stream": "stderr",
       "text": [
        "2013-12-15 20:56:52,890 : INFO : topic #11: 0.111*dedication + 0.060*curriculum + 0.060*sport + 0.060*respect + 0.060*time + 0.057*art + 0.031*cut + 0.030*friend + 0.030*towards + 0.030*commitment\n"
       ]
      },
      {
       "output_type": "stream",
       "stream": "stderr",
       "text": [
        "2013-12-15 20:56:52,890 : INFO : topic #12: 0.196*class + 0.184*program + 0.101*homework + 0.078*creativity + 0.067*job + 0.059*others + 0.027*family + 0.020*art + 0.018*involvement + 0.018*computer\n"
       ]
      },
      {
       "output_type": "stream",
       "stream": "stderr",
       "text": [
        "2013-12-15 20:56:52,891 : INFO : topic #13: 0.091*choice + 0.045*program + 0.032*group + 0.031*community + 0.031*time + 0.031*value + 0.031*name + 0.031*core + 0.031*family + 0.030*curriculum\n"
       ]
      },
      {
       "output_type": "stream",
       "stream": "stderr",
       "text": [
        "2013-12-15 20:56:52,892 : INFO : topic #14: 0.180*education + 0.112*quality + 0.088*experience + 0.083*quality education + 0.056*grade + 0.049*score + 0.032*leadership + 0.027*time + 0.025*test score + 0.024*test\n"
       ]
      },
      {
       "output_type": "stream",
       "stream": "stderr",
       "text": [
        "2013-12-15 20:56:52,893 : INFO : topic diff=0.299745, rho=0.377964\n"
       ]
      },
      {
       "output_type": "stream",
       "stream": "stderr",
       "text": [
        "2013-12-15 20:56:52,893 : INFO : initializing 4 workers\n"
       ]
      },
      {
       "output_type": "stream",
       "stream": "stderr",
       "text": [
        "2013-12-15 20:56:52,956 : INFO : PROGRESS: iteration 7, dispatching documents up to #500/500\n"
       ]
      },
      {
       "output_type": "stream",
       "stream": "stderr",
       "text": [
        "2013-12-15 20:56:52,967 : INFO : reached the end of input; now waiting for all remaining jobs to finish\n"
       ]
      },
      {
       "output_type": "stream",
       "stream": "stderr",
       "text": [
        "2013-12-15 20:56:53,987 : INFO : topic #0: 0.113*assignment + 0.057*week + 0.056*grade + 0.038*teaching + 0.038*variety + 0.038*end + 0.038*event + 0.034*quality + 0.022*homework + 0.021*academic\n"
       ]
      },
      {
       "output_type": "stream",
       "stream": "stderr",
       "text": [
        "2013-12-15 20:56:53,988 : INFO : topic #1: 0.149*event + 0.098*community + 0.064*grade + 0.060*involvement + 0.044*question + 0.044*resource + 0.044*community event + 0.044*family + 0.043*neighborhood + 0.023*class\n"
       ]
      },
      {
       "output_type": "stream",
       "stream": "stderr",
       "text": [
        "2013-12-15 20:56:53,989 : INFO : topic #2: 0.167*family + 0.115*family community + 0.098*community + 0.046*system + 0.042*classroom + 0.042*challenge + 0.035*culture + 0.027*experience + 0.025*benefit + 0.024*class\n"
       ]
      },
      {
       "output_type": "stream",
       "stream": "stderr",
       "text": [
        "2013-12-15 20:56:53,990 : INFO : topic #3: 0.230*involvement + 0.111*program + 0.085*color + 0.084*involvement community + 0.069*support + 0.065*community + 0.041*activity + 0.031*fun + 0.027*staff + 0.027*art\n"
       ]
      },
      {
       "output_type": "stream",
       "stream": "stderr",
       "text": [
        "2013-12-15 20:56:53,991 : INFO : topic #4: 0.110*activity + 0.104*friend + 0.077*grade + 0.060*neighborhood + 0.050*community + 0.043*success + 0.040*education + 0.039*diversity + 0.039*program + 0.038*need\n"
       ]
      },
      {
       "output_type": "stream",
       "stream": "stderr",
       "text": [
        "2013-12-15 20:56:53,992 : INFO : topic #5: 0.086*expectation + 0.053*program + 0.053*experience + 0.053*environment + 0.029*grade + 0.028*activity + 0.026*sport + 0.026*member + 0.026*education + 0.026*instruction\n"
       ]
      },
      {
       "output_type": "stream",
       "stream": "stderr",
       "text": [
        "2013-12-15 20:56:53,993 : INFO : topic #6: 0.576*district + 0.154*amount + 0.123*freshman + 0.001*score + 0.001*state + 0.001*track + 0.001*review + 0.001*space + 0.001*morning + 0.001*result\n"
       ]
      },
      {
       "output_type": "stream",
       "stream": "stderr",
       "text": [
        "2013-12-15 20:56:53,994 : INFO : topic #7: 0.074*learning + 0.054*education + 0.053*staff + 0.046*community + 0.042*house + 0.040*home + 0.034*art + 0.032*leadership + 0.029*family + 0.028*curriculum\n"
       ]
      },
      {
       "output_type": "stream",
       "stream": "stderr",
       "text": [
        "2013-12-15 20:56:53,995 : INFO : topic #8: 0.240*place + 0.191*day + 0.110*experience + 0.060*world + 0.044*staff + 0.040*field + 0.040*board + 0.040*activity + 0.040*kind + 0.024*district\n"
       ]
      },
      {
       "output_type": "stream",
       "stream": "stderr",
       "text": [
        "2013-12-15 20:56:53,996 : INFO : topic #9: 0.493*area + 0.270*bay + 0.001*morning + 0.001*girl + 0.001*sport + 0.001*event + 0.001*concern + 0.001*budget cut + 0.001*practice + 0.001*community involvement\n"
       ]
      },
      {
       "output_type": "stream",
       "stream": "stderr",
       "text": [
        "2013-12-15 20:56:53,997 : INFO : topic #10: 0.086*family + 0.052*program + 0.050*neighborhood + 0.035*diversity + 0.035*experience + 0.034*community + 0.034*grade + 0.034*population + 0.034*fundraiser + 0.034*science\n"
       ]
      },
      {
       "output_type": "stream",
       "stream": "stderr",
       "text": [
        "2013-12-15 20:56:53,998 : INFO : topic #11: 0.107*dedication + 0.062*curriculum + 0.062*sport + 0.062*respect + 0.062*time + 0.058*art + 0.032*cut + 0.031*friend + 0.031*towards + 0.031*commitment\n"
       ]
      },
      {
       "output_type": "stream",
       "stream": "stderr",
       "text": [
        "2013-12-15 20:56:53,999 : INFO : topic #12: 0.193*class + 0.182*program + 0.099*homework + 0.079*creativity + 0.066*job + 0.064*others + 0.034*family + 0.019*art + 0.017*involvement + 0.017*computer\n"
       ]
      },
      {
       "output_type": "stream",
       "stream": "stderr",
       "text": [
        "2013-12-15 20:56:54,000 : INFO : topic #13: 0.094*choice + 0.046*program + 0.037*core + 0.032*group + 0.031*family + 0.031*time + 0.031*value + 0.031*name + 0.030*curriculum + 0.030*community\n"
       ]
      },
      {
       "output_type": "stream",
       "stream": "stderr",
       "text": [
        "2013-12-15 20:56:54,001 : INFO : topic #14: 0.192*education + 0.116*quality + 0.088*experience + 0.088*quality education + 0.056*grade + 0.048*score + 0.032*leadership + 0.025*test score + 0.024*test + 0.023*time\n"
       ]
      },
      {
       "output_type": "stream",
       "stream": "stderr",
       "text": [
        "2013-12-15 20:56:54,002 : INFO : topic diff=0.278231, rho=0.353553\n"
       ]
      },
      {
       "output_type": "stream",
       "stream": "stderr",
       "text": [
        "2013-12-15 20:56:54,003 : INFO : initializing 4 workers\n"
       ]
      },
      {
       "output_type": "stream",
       "stream": "stderr",
       "text": [
        "2013-12-15 20:56:54,061 : INFO : PROGRESS: iteration 8, dispatching documents up to #500/500\n"
       ]
      },
      {
       "output_type": "stream",
       "stream": "stderr",
       "text": [
        "2013-12-15 20:56:54,069 : INFO : reached the end of input; now waiting for all remaining jobs to finish\n"
       ]
      },
      {
       "output_type": "stream",
       "stream": "stderr",
       "text": [
        "2013-12-15 20:56:55,086 : INFO : topic #0: 0.112*assignment + 0.063*week + 0.056*grade + 0.038*teaching + 0.038*variety + 0.038*end + 0.038*event + 0.034*quality + 0.022*homework + 0.021*academic\n"
       ]
      },
      {
       "output_type": "stream",
       "stream": "stderr",
       "text": [
        "2013-12-15 20:56:55,087 : INFO : topic #1: 0.152*event + 0.094*community + 0.065*grade + 0.061*involvement + 0.045*question + 0.045*resource + 0.044*community event + 0.044*family + 0.043*neighborhood + 0.023*class\n"
       ]
      },
      {
       "output_type": "stream",
       "stream": "stderr",
       "text": [
        "2013-12-15 20:56:55,087 : INFO : topic #2: 0.181*family + 0.116*family community + 0.100*community + 0.044*system + 0.041*classroom + 0.041*challenge + 0.038*culture + 0.026*experience + 0.025*benefit + 0.023*class\n"
       ]
      },
      {
       "output_type": "stream",
       "stream": "stderr",
       "text": [
        "2013-12-15 20:56:55,088 : INFO : topic #3: 0.248*involvement + 0.112*program + 0.087*color + 0.086*involvement community + 0.067*community + 0.061*support + 0.042*activity + 0.036*fun + 0.027*art + 0.026*staff\n"
       ]
      },
      {
       "output_type": "stream",
       "stream": "stderr",
       "text": [
        "2013-12-15 20:56:55,089 : INFO : topic #4: 0.115*activity + 0.113*friend + 0.076*grade + 0.064*neighborhood + 0.046*community + 0.042*success + 0.040*program + 0.040*education + 0.039*diversity + 0.038*need\n"
       ]
      },
      {
       "output_type": "stream",
       "stream": "stderr",
       "text": [
        "2013-12-15 20:56:55,091 : INFO : topic #5: 0.092*expectation + 0.053*program + 0.053*experience + 0.053*environment + 0.028*activity + 0.028*grade + 0.026*sport + 0.026*member + 0.026*education + 0.026*instruction\n"
       ]
      },
      {
       "output_type": "stream",
       "stream": "stderr",
       "text": [
        "2013-12-15 20:56:55,092 : INFO : topic #6: 0.593*district + 0.151*amount + 0.118*freshman + 0.001*score + 0.001*state + 0.001*track + 0.001*review + 0.001*space + 0.001*morning + 0.001*result\n"
       ]
      },
      {
       "output_type": "stream",
       "stream": "stderr",
       "text": [
        "2013-12-15 20:56:55,093 : INFO : topic #7: 0.075*learning + 0.056*staff + 0.053*education + 0.046*community + 0.041*house + 0.040*home + 0.035*leadership + 0.034*art + 0.029*family + 0.028*curriculum\n"
       ]
      },
      {
       "output_type": "stream",
       "stream": "stderr",
       "text": [
        "2013-12-15 20:56:55,094 : INFO : topic #8: 0.251*place + 0.191*day + 0.113*experience + 0.059*world + 0.044*staff + 0.040*activity + 0.040*board + 0.040*kind + 0.033*field + 0.023*district\n"
       ]
      },
      {
       "output_type": "stream",
       "stream": "stderr",
       "text": [
        "2013-12-15 20:56:55,095 : INFO : topic #9: 0.505*area + 0.265*bay + 0.001*morning + 0.001*girl + 0.001*sport + 0.001*event + 0.001*concern + 0.001*budget cut + 0.001*practice + 0.001*community involvement\n"
       ]
      },
      {
       "output_type": "stream",
       "stream": "stderr",
       "text": [
        "2013-12-15 20:56:55,096 : INFO : topic #10: 0.085*family + 0.054*program + 0.049*neighborhood + 0.040*diversity + 0.040*fundraiser + 0.035*grade + 0.034*experience + 0.034*community + 0.034*population + 0.034*science\n"
       ]
      },
      {
       "output_type": "stream",
       "stream": "stderr",
       "text": [
        "2013-12-15 20:56:55,097 : INFO : topic #11: 0.104*dedication + 0.063*curriculum + 0.063*sport + 0.063*respect + 0.063*time + 0.058*art + 0.032*cut + 0.032*friend + 0.032*towards + 0.032*commitment\n"
       ]
      },
      {
       "output_type": "stream",
       "stream": "stderr",
       "text": [
        "2013-12-15 20:56:55,098 : INFO : topic #12: 0.195*class + 0.177*program + 0.099*homework + 0.081*creativity + 0.066*job + 0.065*others + 0.034*family + 0.019*art + 0.017*involvement + 0.017*computer\n"
       ]
      },
      {
       "output_type": "stream",
       "stream": "stderr",
       "text": [
        "2013-12-15 20:56:55,099 : INFO : topic #13: 0.099*choice + 0.043*core + 0.042*program + 0.034*group + 0.033*value + 0.033*name + 0.033*family + 0.032*curriculum + 0.031*community + 0.028*time\n"
       ]
      },
      {
       "output_type": "stream",
       "stream": "stderr",
       "text": [
        "2013-12-15 20:56:55,100 : INFO : topic #14: 0.206*education + 0.119*quality + 0.092*quality education + 0.088*experience + 0.054*grade + 0.048*score + 0.033*leadership + 0.023*test score + 0.023*test + 0.023*teaching\n"
       ]
      },
      {
       "output_type": "stream",
       "stream": "stderr",
       "text": [
        "2013-12-15 20:56:55,101 : INFO : topic diff=0.255109, rho=0.333333\n"
       ]
      },
      {
       "output_type": "stream",
       "stream": "stderr",
       "text": [
        "2013-12-15 20:56:55,101 : INFO : initializing 4 workers\n"
       ]
      },
      {
       "output_type": "stream",
       "stream": "stderr",
       "text": [
        "2013-12-15 20:56:55,163 : INFO : PROGRESS: iteration 9, dispatching documents up to #500/500\n"
       ]
      },
      {
       "output_type": "stream",
       "stream": "stderr",
       "text": [
        "2013-12-15 20:56:55,172 : INFO : reached the end of input; now waiting for all remaining jobs to finish\n"
       ]
      },
      {
       "output_type": "stream",
       "stream": "stderr",
       "text": [
        "2013-12-15 20:56:56,191 : INFO : topic #0: 0.113*assignment + 0.061*week + 0.057*grade + 0.038*teaching + 0.038*variety + 0.038*end + 0.038*event + 0.034*quality + 0.022*homework + 0.021*academic\n"
       ]
      },
      {
       "output_type": "stream",
       "stream": "stderr",
       "text": [
        "2013-12-15 20:56:56,192 : INFO : topic #1: 0.154*event + 0.091*community + 0.066*grade + 0.062*involvement + 0.045*question + 0.045*resource + 0.045*community event + 0.045*family + 0.044*neighborhood + 0.023*class\n"
       ]
      },
      {
       "output_type": "stream",
       "stream": "stderr",
       "text": [
        "2013-12-15 20:56:56,193 : INFO : topic #2: 0.193*family + 0.115*family community + 0.102*community + 0.045*challenge + 0.042*system + 0.041*classroom + 0.040*culture + 0.026*experience + 0.025*benefit + 0.023*class\n"
       ]
      },
      {
       "output_type": "stream",
       "stream": "stderr",
       "text": [
        "2013-12-15 20:56:56,194 : INFO : topic #3: 0.259*involvement + 0.112*program + 0.088*color + 0.087*involvement community + 0.069*community + 0.056*support + 0.043*activity + 0.039*fun + 0.027*art + 0.026*staff\n"
       ]
      },
      {
       "output_type": "stream",
       "stream": "stderr",
       "text": [
        "2013-12-15 20:56:56,196 : INFO : topic #4: 0.121*activity + 0.120*friend + 0.075*grade + 0.069*neighborhood + 0.043*community + 0.041*program + 0.041*success + 0.040*education + 0.038*need + 0.033*diversity\n"
       ]
      },
      {
       "output_type": "stream",
       "stream": "stderr",
       "text": [
        "2013-12-15 20:56:56,197 : INFO : topic #5: 0.096*expectation + 0.052*program + 0.052*experience + 0.052*environment + 0.028*activity + 0.027*grade + 0.026*instruction + 0.026*situation + 0.026*aspect + 0.026*issue\n"
       ]
      },
      {
       "output_type": "stream",
       "stream": "stderr",
       "text": [
        "2013-12-15 20:56:56,198 : INFO : topic #6: 0.605*district + 0.148*amount + 0.114*freshman + 0.001*score + 0.001*state + 0.001*track + 0.001*review + 0.001*space + 0.001*morning + 0.001*result\n"
       ]
      },
      {
       "output_type": "stream",
       "stream": "stderr",
       "text": [
        "2013-12-15 20:56:56,199 : INFO : topic #7: 0.076*learning + 0.057*staff + 0.053*education + 0.046*community + 0.041*house + 0.040*home + 0.037*leadership + 0.033*art + 0.029*family + 0.027*curriculum\n"
       ]
      },
      {
       "output_type": "stream",
       "stream": "stderr",
       "text": [
        "2013-12-15 20:56:56,200 : INFO : topic #8: 0.259*place + 0.190*day + 0.115*experience + 0.059*world + 0.044*staff + 0.039*activity + 0.039*board + 0.039*kind + 0.029*field + 0.022*district\n"
       ]
      },
      {
       "output_type": "stream",
       "stream": "stderr",
       "text": [
        "2013-12-15 20:56:56,201 : INFO : topic #9: 0.514*area + 0.260*bay + 0.001*morning + 0.001*girl + 0.001*sport + 0.001*event + 0.001*concern + 0.001*budget cut + 0.001*practice + 0.001*community involvement\n"
       ]
      },
      {
       "output_type": "stream",
       "stream": "stderr",
       "text": [
        "2013-12-15 20:56:56,202 : INFO : topic #10: 0.081*family + 0.057*program + 0.050*neighborhood + 0.044*diversity + 0.044*fundraiser + 0.036*grade + 0.035*community + 0.035*population + 0.035*science + 0.032*teaching\n"
       ]
      },
      {
       "output_type": "stream",
       "stream": "stderr",
       "text": [
        "2013-12-15 20:56:56,203 : INFO : topic #11: 0.103*dedication + 0.064*curriculum + 0.064*sport + 0.064*respect + 0.064*time + 0.058*art + 0.033*cut + 0.032*friend + 0.032*towards + 0.032*commitment\n"
       ]
      },
      {
       "output_type": "stream",
       "stream": "stderr",
       "text": [
        "2013-12-15 20:56:56,204 : INFO : topic #12: 0.190*class + 0.173*program + 0.105*homework + 0.083*creativity + 0.067*job + 0.065*others + 0.036*family + 0.019*art + 0.017*involvement + 0.017*enthusiasm\n"
       ]
      },
      {
       "output_type": "stream",
       "stream": "stderr",
       "text": [
        "2013-12-15 20:56:56,205 : INFO : topic #13: 0.107*choice + 0.046*core + 0.039*program + 0.035*group + 0.034*family + 0.034*value + 0.034*name + 0.032*curriculum + 0.030*community + 0.030*time\n"
       ]
      },
      {
       "output_type": "stream",
       "stream": "stderr",
       "text": [
        "2013-12-15 20:56:56,206 : INFO : topic #14: 0.221*education + 0.123*quality + 0.096*quality education + 0.088*experience + 0.053*grade + 0.046*score + 0.034*leadership + 0.023*teaching + 0.022*course + 0.021*homework\n"
       ]
      },
      {
       "output_type": "stream",
       "stream": "stderr",
       "text": [
        "2013-12-15 20:56:56,207 : INFO : topic diff=0.229019, rho=0.316228\n"
       ]
      },
      {
       "output_type": "stream",
       "stream": "stdout",
       "text": [
        "CPU times: user 681 ms, sys: 62.3 ms, total: 743 ms\n",
        "Wall time: 12.1 s\n"
       ]
      }
     ],
     "prompt_number": 42
    },
    {
     "cell_type": "code",
     "collapsed": false,
     "input": [
      "# CELL 289\n",
      "# Load model\n",
      "\n",
      "if(feature['model_load']):\n",
      "    model = models.ldamodel.LdaModel.load(data_dir + '/' + file_root + '-model-t' + str(num_topics) + '.lda')"
     ],
     "language": "python",
     "metadata": {},
     "outputs": [],
     "prompt_number": 43
    },
    {
     "cell_type": "code",
     "collapsed": false,
     "input": [
      "# CELL 290\n",
      "# Save model\n",
      "\n",
      "if(feature['model_save']):\n",
      "    model.save(data_dir + '/' + file_root + '-model-t' + str(num_topics) + '.lda') "
     ],
     "language": "python",
     "metadata": {},
     "outputs": [],
     "prompt_number": 44
    },
    {
     "cell_type": "code",
     "collapsed": false,
     "input": [
      "# CELL 292\n",
      "# Build corpus model\n",
      "\n",
      "# create a double wrapper over the original corpus: bow->fold-in-lda, bow->tfidf->fold-in-lda, etc.\n",
      "# this is so you can view how documents are classified by the model\n",
      "if(not feature['corpus_model_load']):\n",
      "    corpus_model = model[corpus]"
     ],
     "language": "python",
     "metadata": {},
     "outputs": [],
     "prompt_number": 45
    },
    {
     "cell_type": "code",
     "collapsed": false,
     "input": [
      "# CELL 293\n",
      "# Load corpus model\n",
      "\n",
      "if(feature['corpus_model_load']):\n",
      "    with open(data_dir + '/' + file_root + '-corpus-model-t' + str(num_topics) + '.pickle') as f:\n",
      "        corpus_model = pickle.load(f)"
     ],
     "language": "python",
     "metadata": {},
     "outputs": [],
     "prompt_number": 46
    },
    {
     "cell_type": "code",
     "collapsed": false,
     "input": [
      "# CELL 295\n",
      "# View corpus model\n",
      "\n",
      "# you can leave this commented unless you wish to view the contents of corpus_model in its entirity\n",
      "# I don't recommend it, because the transforms are done on the fly and it takes about 15min\n",
      "# Here you can see each review, and how it relates to each of the n topics.  Each list is a review (document) and each item \n",
      "# in the list is a tuple of (topic number,score)\n",
      "# the actual transformations, for example bow->lda are actually executed here, on the fly\n",
      "# for doc in corpus_model: \n",
      "#    print doc"
     ],
     "language": "python",
     "metadata": {},
     "outputs": [],
     "prompt_number": 47
    },
    {
     "cell_type": "code",
     "collapsed": false,
     "input": [
      "# CELL 296\n",
      "# Save corpus model\n",
      "\n",
      "if(feature['corpus_model_save']):\n",
      "    with open(data_dir + '/' + file_root + '-corpus-model-t' + str(num_topics) + '.pickle', 'w') as f:\n",
      "        pickle.dump(corpus_model, f)"
     ],
     "language": "python",
     "metadata": {},
     "outputs": [],
     "prompt_number": 48
    },
    {
     "cell_type": "code",
     "collapsed": false,
     "input": [
      "# CELL 300\n",
      "# load topics\n",
      "if(feature['model_topics_load']):\n",
      "    with open(data_dir + '/' + file_root + '-topics-t' + str(num_topics) + '.pickle') as f:\n",
      "        model_topics = pickle.load(f)\n",
      "    for num,topic in enumerate(model_topics[0]):\n",
      "        print num,topic"
     ],
     "language": "python",
     "metadata": {},
     "outputs": [],
     "prompt_number": 49
    },
    {
     "cell_type": "code",
     "collapsed": false,
     "input": [
      "# CELL 301\n",
      "# print topics\n",
      "model_topics = model.print_topics(num_topics)\n",
      "model_topics"
     ],
     "language": "python",
     "metadata": {},
     "outputs": [
      {
       "output_type": "stream",
       "stream": "stderr",
       "text": [
        "2013-12-15 20:58:39,333 : INFO : topic #0: 0.113*assignment + 0.061*week + 0.057*grade + 0.038*teaching + 0.038*variety + 0.038*end + 0.038*event + 0.034*quality + 0.022*homework + 0.021*academic\n"
       ]
      },
      {
       "output_type": "stream",
       "stream": "stderr",
       "text": [
        "2013-12-15 20:58:39,334 : INFO : topic #1: 0.154*event + 0.091*community + 0.066*grade + 0.062*involvement + 0.045*question + 0.045*resource + 0.045*community event + 0.045*family + 0.044*neighborhood + 0.023*class\n"
       ]
      },
      {
       "output_type": "stream",
       "stream": "stderr",
       "text": [
        "2013-12-15 20:58:39,335 : INFO : topic #2: 0.193*family + 0.115*family community + 0.102*community + 0.045*challenge + 0.042*system + 0.041*classroom + 0.040*culture + 0.026*experience + 0.025*benefit + 0.023*class\n"
       ]
      },
      {
       "output_type": "stream",
       "stream": "stderr",
       "text": [
        "2013-12-15 20:58:39,336 : INFO : topic #3: 0.259*involvement + 0.112*program + 0.088*color + 0.087*involvement community + 0.069*community + 0.056*support + 0.043*activity + 0.039*fun + 0.027*art + 0.026*staff\n"
       ]
      },
      {
       "output_type": "stream",
       "stream": "stderr",
       "text": [
        "2013-12-15 20:58:39,338 : INFO : topic #4: 0.121*activity + 0.120*friend + 0.075*grade + 0.069*neighborhood + 0.043*community + 0.041*program + 0.041*success + 0.040*education + 0.038*need + 0.033*diversity\n"
       ]
      },
      {
       "output_type": "stream",
       "stream": "stderr",
       "text": [
        "2013-12-15 20:58:39,339 : INFO : topic #5: 0.096*expectation + 0.052*program + 0.052*experience + 0.052*environment + 0.028*activity + 0.027*grade + 0.026*instruction + 0.026*situation + 0.026*aspect + 0.026*issue\n"
       ]
      },
      {
       "output_type": "stream",
       "stream": "stderr",
       "text": [
        "2013-12-15 20:58:39,339 : INFO : topic #6: 0.605*district + 0.148*amount + 0.114*freshman + 0.001*score + 0.001*state + 0.001*track + 0.001*review + 0.001*space + 0.001*morning + 0.001*result\n"
       ]
      },
      {
       "output_type": "stream",
       "stream": "stderr",
       "text": [
        "2013-12-15 20:58:39,340 : INFO : topic #7: 0.076*learning + 0.057*staff + 0.053*education + 0.046*community + 0.041*house + 0.040*home + 0.037*leadership + 0.033*art + 0.029*family + 0.027*curriculum\n"
       ]
      },
      {
       "output_type": "stream",
       "stream": "stderr",
       "text": [
        "2013-12-15 20:58:39,341 : INFO : topic #8: 0.259*place + 0.190*day + 0.115*experience + 0.059*world + 0.044*staff + 0.039*activity + 0.039*board + 0.039*kind + 0.029*field + 0.022*district\n"
       ]
      },
      {
       "output_type": "stream",
       "stream": "stderr",
       "text": [
        "2013-12-15 20:58:39,342 : INFO : topic #9: 0.514*area + 0.260*bay + 0.001*morning + 0.001*girl + 0.001*sport + 0.001*event + 0.001*concern + 0.001*budget cut + 0.001*practice + 0.001*community involvement\n"
       ]
      },
      {
       "output_type": "stream",
       "stream": "stderr",
       "text": [
        "2013-12-15 20:58:39,343 : INFO : topic #10: 0.081*family + 0.057*program + 0.050*neighborhood + 0.044*diversity + 0.044*fundraiser + 0.036*grade + 0.035*community + 0.035*population + 0.035*science + 0.032*teaching\n"
       ]
      },
      {
       "output_type": "stream",
       "stream": "stderr",
       "text": [
        "2013-12-15 20:58:39,343 : INFO : topic #11: 0.103*dedication + 0.064*curriculum + 0.064*sport + 0.064*respect + 0.064*time + 0.058*art + 0.033*cut + 0.032*friend + 0.032*towards + 0.032*commitment\n"
       ]
      },
      {
       "output_type": "stream",
       "stream": "stderr",
       "text": [
        "2013-12-15 20:58:39,344 : INFO : topic #12: 0.190*class + 0.173*program + 0.105*homework + 0.083*creativity + 0.067*job + 0.065*others + 0.036*family + 0.019*art + 0.017*involvement + 0.017*enthusiasm\n"
       ]
      },
      {
       "output_type": "stream",
       "stream": "stderr",
       "text": [
        "2013-12-15 20:58:39,345 : INFO : topic #13: 0.107*choice + 0.046*core + 0.039*program + 0.035*group + 0.034*family + 0.034*value + 0.034*name + 0.032*curriculum + 0.030*community + 0.030*time\n"
       ]
      },
      {
       "output_type": "stream",
       "stream": "stderr",
       "text": [
        "2013-12-15 20:58:39,346 : INFO : topic #14: 0.221*education + 0.123*quality + 0.096*quality education + 0.088*experience + 0.053*grade + 0.046*score + 0.034*leadership + 0.023*teaching + 0.022*course + 0.021*homework\n"
       ]
      },
      {
       "output_type": "stream",
       "stream": "stderr",
       "text": [
        "2013-12-15 20:58:39,348 : INFO : topic #15: 0.068*program + 0.059*community + 0.042*space + 0.040*playground + 0.034*art + 0.034*quality + 0.034*class + 0.032*level + 0.025*music + 0.022*grade\n"
       ]
      },
      {
       "output_type": "stream",
       "stream": "stderr",
       "text": [
        "2013-12-15 20:58:39,349 : INFO : topic #16: 0.152*program + 0.044*try + 0.041*class + 0.035*immersion + 0.035*immersion program + 0.034*sport + 0.031*community + 0.031*review + 0.030*people + 0.021*classroom\n"
       ]
      },
      {
       "output_type": "stream",
       "stream": "stderr",
       "text": [
        "2013-12-15 20:58:39,350 : INFO : topic #17: 0.097*math + 0.073*opportunity + 0.049*involvement + 0.049*group + 0.049*family + 0.033*program + 0.025*class + 0.025*amount + 0.025*experience + 0.025*problem\n"
       ]
      },
      {
       "output_type": "stream",
       "stream": "stderr",
       "text": [
        "2013-12-15 20:58:39,351 : INFO : topic #18: 0.164*problem + 0.111*lunch + 0.056*classroom + 0.056*area + 0.055*change + 0.055*friend + 0.036*sport + 0.031*grade + 0.030*program + 0.028*advantage\n"
       ]
      },
      {
       "output_type": "stream",
       "stream": "stderr",
       "text": [
        "2013-12-15 20:58:39,352 : INFO : topic #19: 0.268*college + 0.259*sure + 0.125*group + 0.108*staff + 0.055*day + 0.001*practice + 0.001*event + 0.001*concern + 0.001*budget cut + 0.001*community involvement\n"
       ]
      },
      {
       "output_type": "stream",
       "stream": "stderr",
       "text": [
        "2013-12-15 20:58:39,353 : INFO : topic #20: 0.079*program + 0.077*activity + 0.039*neighborhood + 0.039*art + 0.028*class + 0.026*body + 0.026*feeling + 0.026*day + 0.026*balance + 0.026*amount\n"
       ]
      },
      {
       "output_type": "stream",
       "stream": "stderr",
       "text": [
        "2013-12-15 20:58:39,354 : INFO : topic #21: 0.140*feel + 0.117*program + 0.097*community + 0.089*education + 0.073*warm + 0.070*class + 0.053*program program + 0.050*garden + 0.049*size + 0.037*construction\n"
       ]
      },
      {
       "output_type": "stream",
       "stream": "stderr",
       "text": [
        "2013-12-15 20:58:39,355 : INFO : topic #22: 0.087*budget + 0.087*cut + 0.084*staff + 0.065*budget cut + 0.064*day + 0.062*achievement + 0.044*activity + 0.044*support + 0.044*resource + 0.044*high\n"
       ]
      },
      {
       "output_type": "stream",
       "stream": "stderr",
       "text": [
        "2013-12-15 20:58:39,356 : INFO : topic #23: 0.174*class + 0.088*involvement + 0.036*diversity + 0.036*problem + 0.036*family + 0.034*help + 0.020*activity + 0.019*community + 0.018*energy + 0.018*sense community\n"
       ]
      },
      {
       "output_type": "stream",
       "stream": "stderr",
       "text": [
        "2013-12-15 20:58:39,357 : INFO : topic #24: 0.140*program + 0.071*community + 0.071*administrator + 0.037*friend + 0.037*group + 0.037*grade + 0.026*family + 0.024*heart + 0.019*people + 0.019*spirit\n"
       ]
      },
      {
       "output_type": "stream",
       "stream": "stderr",
       "text": [
        "2013-12-15 20:58:39,358 : INFO : topic #25: 0.293*middle + 0.066*standard + 0.064*staff + 0.047*participation + 0.046*issue + 0.044*program + 0.032*experience + 0.031*learning + 0.031*place + 0.028*quality\n"
       ]
      },
      {
       "output_type": "stream",
       "stream": "stderr",
       "text": [
        "2013-12-15 20:58:39,359 : INFO : topic #26: 0.179*program + 0.089*immersion + 0.074*immersion program + 0.051*experience + 0.045*language + 0.043*science + 0.036*education + 0.031*grade + 0.029*night + 0.023*community\n"
       ]
      },
      {
       "output_type": "stream",
       "stream": "stderr",
       "text": [
        "2013-12-15 20:58:39,360 : INFO : topic #27: 0.101*construction + 0.072*community + 0.070*project + 0.055*yard + 0.055*play + 0.042*etc + 0.037*day + 0.037*event + 0.037*program + 0.037*view\n"
       ]
      },
      {
       "output_type": "stream",
       "stream": "stderr",
       "text": [
        "2013-12-15 20:58:39,361 : INFO : topic #28: 0.094*community + 0.072*life + 0.071*example + 0.050*test + 0.048*opinion + 0.048*spirit + 0.031*choice + 0.030*work + 0.029*art + 0.025*day\n"
       ]
      },
      {
       "output_type": "stream",
       "stream": "stderr",
       "text": [
        "2013-12-15 20:58:39,362 : INFO : topic #29: 0.109*band + 0.108*kindergartner + 0.108*progress + 0.072*level + 0.065*staff + 0.043*work + 0.036*quality + 0.036*involvement + 0.036*body + 0.036*diversity\n"
       ]
      },
      {
       "output_type": "stream",
       "stream": "stderr",
       "text": [
        "2013-12-15 20:58:39,363 : INFO : topic #30: 0.284*community + 0.143*grader + 0.084*grade + 0.054*fun + 0.039*experience + 0.031*activity + 0.031*event + 0.027*dedication + 0.024*commitment + 0.022*others\n"
       ]
      },
      {
       "output_type": "stream",
       "stream": "stderr",
       "text": [
        "2013-12-15 20:58:39,364 : INFO : topic #31: 0.072*community + 0.058*diversity + 0.058*value + 0.042*grader + 0.035*achievement + 0.032*event + 0.030*class + 0.029*feeling + 0.029*playground + 0.029*community event\n"
       ]
      },
      {
       "output_type": "stream",
       "stream": "stderr",
       "text": [
        "2013-12-15 20:58:39,365 : INFO : topic #32: 0.171*work + 0.137*staff + 0.065*time + 0.046*support + 0.044*campus + 0.035*calm + 0.032*energy + 0.032*heart + 0.032*family + 0.031*quality\n"
       ]
      },
      {
       "output_type": "stream",
       "stream": "stderr",
       "text": [
        "2013-12-15 20:58:39,366 : INFO : topic #33: 0.121*family + 0.120*community + 0.073*community family + 0.058*grade + 0.044*department + 0.043*sense + 0.033*curriculum + 0.033*girl + 0.031*math + 0.030*experience\n"
       ]
      },
      {
       "output_type": "stream",
       "stream": "stderr",
       "text": [
        "2013-12-15 20:58:39,367 : INFO : topic #34: 0.077*program + 0.069*community + 0.067*education + 0.052*support + 0.051*music + 0.051*music program + 0.035*work + 0.035*middle + 0.033*expectation + 0.033*meeting\n"
       ]
      },
      {
       "output_type": "stream",
       "stream": "stderr",
       "text": [
        "2013-12-15 20:58:39,368 : INFO : topic #35: 0.176*family + 0.075*community + 0.037*environment + 0.037*come + 0.037*state + 0.037*garden + 0.037*fund + 0.037*community family + 0.037*world + 0.037*support\n"
       ]
      },
      {
       "output_type": "stream",
       "stream": "stderr",
       "text": [
        "2013-12-15 20:58:39,369 : INFO : topic #36: 0.207*quality + 0.205*curriculum + 0.114*teaching + 0.095*state + 0.091*staff + 0.039*program + 0.032*participation + 0.032*volunteer + 0.032*leadership + 0.031*teaching staff\n"
       ]
      },
      {
       "output_type": "stream",
       "stream": "stderr",
       "text": [
        "2013-12-15 20:58:39,370 : INFO : topic #37: 0.051*need + 0.051*support + 0.049*class + 0.039*meeting + 0.034*time + 0.034*environment + 0.034*place + 0.034*board + 0.034*work + 0.034*staff\n"
       ]
      },
      {
       "output_type": "stream",
       "stream": "stderr",
       "text": [
        "2013-12-15 20:58:39,371 : INFO : topic #38: 0.189*staff + 0.142*community + 0.082*experience + 0.078*staff community + 0.063*care + 0.061*learning + 0.051*art + 0.040*offering + 0.039*dance + 0.031*program\n"
       ]
      },
      {
       "output_type": "stream",
       "stream": "stderr",
       "text": [
        "2013-12-15 20:58:39,373 : INFO : topic #39: 0.057*expectation + 0.053*community + 0.053*energy + 0.035*class + 0.035*art + 0.035*friend + 0.035*opportunity + 0.035*learning + 0.018*activity + 0.018*program\n"
       ]
      },
      {
       "output_type": "stream",
       "stream": "stderr",
       "text": [
        "2013-12-15 20:58:39,374 : INFO : topic #40: 0.080*need + 0.064*class + 0.059*academic + 0.053*urban + 0.053*activity + 0.053*extracurricular + 0.053*extracurricular activity + 0.053*home + 0.053*population + 0.031*spirit\n"
       ]
      },
      {
       "output_type": "stream",
       "stream": "stderr",
       "text": [
        "2013-12-15 20:58:39,375 : INFO : topic #41: 0.063*education + 0.042*community + 0.042*communication + 0.042*trip + 0.042*ability + 0.030*life + 0.021*class + 0.021*activity + 0.021*help + 0.021*problem\n"
       ]
      },
      {
       "output_type": "stream",
       "stream": "stderr",
       "text": [
        "2013-12-15 20:58:39,376 : INFO : topic #42: 0.109*activity + 0.069*discipline + 0.063*class + 0.063*study + 0.051*staff + 0.047*art + 0.047*science + 0.044*safe + 0.040*office staff + 0.035*office\n"
       ]
      },
      {
       "output_type": "stream",
       "stream": "stderr",
       "text": [
        "2013-12-15 20:58:39,377 : INFO : topic #43: 0.087*class + 0.087*anyone + 0.058*issue + 0.058*day + 0.058*learning + 0.058*fine + 0.029*expectation + 0.029*result + 0.029*grade class + 0.029*grade\n"
       ]
      },
      {
       "output_type": "stream",
       "stream": "stderr",
       "text": [
        "2013-12-15 20:58:39,378 : INFO : topic #44: 0.182*spirit + 0.113*body + 0.094*community + 0.045*program + 0.043*art + 0.040*home + 0.023*involvement + 0.023*life + 0.023*foundation + 0.023*quality\n"
       ]
      },
      {
       "output_type": "stream",
       "stream": "stderr",
       "text": [
        "2013-12-15 20:58:39,379 : INFO : topic #45: 0.072*community + 0.062*construction + 0.057*staff + 0.042*involvement + 0.041*atmosphere + 0.041*family + 0.041*zone + 0.037*experience + 0.032*program + 0.021*effort\n"
       ]
      },
      {
       "output_type": "stream",
       "stream": "stderr",
       "text": [
        "2013-12-15 20:58:39,380 : INFO : topic #46: 0.122*class + 0.057*band + 0.044*grade + 0.041*assembly + 0.037*time + 0.031*program + 0.030*group + 0.030*day + 0.030*rest + 0.030*reading\n"
       ]
      },
      {
       "output_type": "stream",
       "stream": "stderr",
       "text": [
        "2013-12-15 20:58:39,381 : INFO : topic #47: 0.067*towards + 0.067*music + 0.049*teaching + 0.049*teaching staff + 0.048*involvement + 0.046*district + 0.043*level + 0.041*grade level + 0.040*community + 0.038*staff\n"
       ]
      },
      {
       "output_type": "stream",
       "stream": "stderr",
       "text": [
        "2013-12-15 20:58:39,382 : INFO : topic #48: 0.163*involvement + 0.153*community involvement + 0.128*community + 0.051*staff + 0.044*achievement + 0.038*grader + 0.036*program + 0.030*size + 0.026*grade + 0.026*curriculum\n"
       ]
      },
      {
       "output_type": "stream",
       "stream": "stderr",
       "text": [
        "2013-12-15 20:58:39,383 : INFO : topic #49: 0.175*experience + 0.069*person + 0.055*attention + 0.043*staff + 0.042*diversity + 0.042*atmosphere + 0.036*life + 0.028*culture + 0.028*leadership + 0.028*people\n"
       ]
      },
      {
       "output_type": "stream",
       "stream": "stderr",
       "text": [
        "2013-12-15 20:58:39,384 : INFO : topic #50: 0.156*staff + 0.077*teaching + 0.068*teaching staff + 0.036*diversity + 0.036*program + 0.032*success + 0.027*support + 0.019*community + 0.019*activity + 0.018*enrichment\n"
       ]
      },
      {
       "output_type": "stream",
       "stream": "stderr",
       "text": [
        "2013-12-15 20:58:39,385 : INFO : topic #51: 0.085*program + 0.051*sport + 0.042*involvement + 0.036*color + 0.036*fun + 0.036*band + 0.036*transition + 0.035*place + 0.026*others + 0.025*middle\n"
       ]
      },
      {
       "output_type": "stream",
       "stream": "stderr",
       "text": [
        "2013-12-15 20:58:39,386 : INFO : topic #52: 0.126*time + 0.062*grade + 0.058*level + 0.044*class + 0.044*grade level + 0.044*group + 0.043*participation + 0.033*fund + 0.024*homework + 0.022*classroom\n"
       ]
      },
      {
       "output_type": "stream",
       "stream": "stderr",
       "text": [
        "2013-12-15 20:58:39,387 : INFO : topic #53: 0.142*neighborhood + 0.074*office + 0.055*opinion + 0.049*family + 0.042*community + 0.038*aspect + 0.038*study + 0.038*office staff + 0.037*community staff + 0.037*warm\n"
       ]
      },
      {
       "output_type": "stream",
       "stream": "stderr",
       "text": [
        "2013-12-15 20:58:39,388 : INFO : topic #54: 0.181*test + 0.152*score + 0.146*test score + 0.057*community + 0.034*sense + 0.022*classroom + 0.022*place + 0.021*home + 0.020*teaching + 0.019*education\n"
       ]
      },
      {
       "output_type": "stream",
       "stream": "stderr",
       "text": [
        "2013-12-15 20:58:39,389 : INFO : topic #55: 0.162*environment + 0.107*learning + 0.077*learning environment + 0.058*event + 0.055*program + 0.046*interest + 0.045*art + 0.045*fun + 0.032*drama + 0.030*dance\n"
       ]
      },
      {
       "output_type": "stream",
       "stream": "stderr",
       "text": [
        "2013-12-15 20:58:39,390 : INFO : topic #56: 0.483*program + 0.154*academic + 0.094*sport + 0.056*graduate + 0.056*club + 0.041*drama + 0.022*honor + 0.020*place + 0.010*environment + 0.000*learning\n"
       ]
      },
      {
       "output_type": "stream",
       "stream": "stderr",
       "text": [
        "2013-12-15 20:58:39,391 : INFO : topic #57: 0.093*course + 0.073*friendship + 0.066*community + 0.050*involvement + 0.049*program + 0.049*art + 0.049*bit + 0.046*dance + 0.031*grade + 0.025*community involvement\n"
       ]
      },
      {
       "output_type": "stream",
       "stream": "stderr",
       "text": [
        "2013-12-15 20:58:39,392 : INFO : topic #58: 0.145*diversity + 0.090*community + 0.067*week + 0.060*volunteer + 0.040*family + 0.040*choice + 0.040*situation + 0.040*people + 0.039*involvement + 0.039*faculty\n"
       ]
      },
      {
       "output_type": "stream",
       "stream": "stderr",
       "text": [
        "2013-12-15 20:58:39,393 : INFO : topic #59: 0.077*day + 0.064*class + 0.064*team + 0.047*time + 0.038*program + 0.038*thanks + 0.038*support + 0.036*extra + 0.028*language + 0.026*issue\n"
       ]
      },
      {
       "output_type": "stream",
       "stream": "stderr",
       "text": [
        "2013-12-15 20:58:39,394 : INFO : topic #60: 0.077*community + 0.060*staff + 0.059*program + 0.059*facility + 0.046*people + 0.030*class + 0.030*staff community + 0.019*garden + 0.016*education + 0.016*problem\n"
       ]
      },
      {
       "output_type": "stream",
       "stream": "stderr",
       "text": [
        "2013-12-15 20:58:39,395 : INFO : topic #61: 0.300*grade + 0.077*grade grade + 0.055*level + 0.046*activity + 0.046*experience + 0.035*grade level + 0.031*involvement + 0.030*option + 0.026*fund + 0.025*people\n"
       ]
      },
      {
       "output_type": "stream",
       "stream": "stderr",
       "text": [
        "2013-12-15 20:58:39,396 : INFO : topic #62: 0.166*class + 0.063*community + 0.062*range + 0.059*activity + 0.050*play + 0.046*field + 0.041*administration + 0.038*instruction + 0.038*effort + 0.037*trip\n"
       ]
      },
      {
       "output_type": "stream",
       "stream": "stderr",
       "text": [
        "2013-12-15 20:58:39,397 : INFO : topic #63: 0.059*girl + 0.056*community + 0.047*dance + 0.035*art + 0.035*group + 0.035*morning + 0.030*program + 0.027*sport + 0.024*job + 0.024*friend\n"
       ]
      },
      {
       "output_type": "stream",
       "stream": "stderr",
       "text": [
        "2013-12-15 20:58:39,398 : INFO : topic #64: 0.127*level + 0.093*experience + 0.078*community + 0.070*staff + 0.045*program + 0.044*middle + 0.033*staff community + 0.033*beginning + 0.033*everything + 0.033*program middle\n"
       ]
      },
      {
       "output_type": "stream",
       "stream": "stderr",
       "text": [
        "2013-12-15 20:58:39,399 : INFO : topic #65: 0.071*staff + 0.060*people + 0.048*environment + 0.031*class + 0.031*community + 0.031*member + 0.031*grade + 0.031*day + 0.021*lack + 0.021*course\n"
       ]
      },
      {
       "output_type": "stream",
       "stream": "stderr",
       "text": [
        "2013-12-15 20:58:39,400 : INFO : topic #66: 0.229*classroom + 0.160*offer + 0.134*staff + 0.106*hour + 0.059*thanks + 0.059*help + 0.059*enrichment + 0.001*concern + 0.001*girl + 0.001*sport\n"
       ]
      },
      {
       "output_type": "stream",
       "stream": "stderr",
       "text": [
        "2013-12-15 20:58:39,401 : INFO : topic #67: 0.231*need + 0.053*issue + 0.053*resource + 0.051*success + 0.042*staff + 0.040*interest + 0.035*experience + 0.035*place + 0.023*sport + 0.021*test\n"
       ]
      },
      {
       "output_type": "stream",
       "stream": "stderr",
       "text": [
        "2013-12-15 20:58:39,402 : INFO : topic #68: 0.137*people + 0.057*system + 0.057*place + 0.057*activity + 0.057*complaint + 0.050*staff + 0.033*program + 0.030*curriculum + 0.030*day + 0.030*community\n"
       ]
      },
      {
       "output_type": "stream",
       "stream": "stderr",
       "text": [
        "2013-12-15 20:58:39,403 : INFO : topic #69: 0.047*academic + 0.046*program + 0.046*art + 0.046*grade + 0.046*activity + 0.045*experience + 0.045*skill + 0.041*program art + 0.024*enrichment + 0.023*homework\n"
       ]
      },
      {
       "output_type": "stream",
       "stream": "stderr",
       "text": [
        "2013-12-15 20:58:39,404 : INFO : topic #70: 0.104*grade + 0.089*nothing + 0.070*time + 0.065*interest + 0.037*community + 0.036*transition + 0.036*experience + 0.036*band + 0.018*involvement + 0.018*girl\n"
       ]
      },
      {
       "output_type": "stream",
       "stream": "stderr",
       "text": [
        "2013-12-15 20:58:39,405 : INFO : topic #71: 0.114*art + 0.093*program + 0.067*class + 0.046*science + 0.038*enrichment class + 0.034*enrichment + 0.025*experience + 0.024*art program + 0.020*class program + 0.020*learning\n"
       ]
      },
      {
       "output_type": "stream",
       "stream": "stderr",
       "text": [
        "2013-12-15 20:58:39,406 : INFO : topic #72: 0.136*grade + 0.063*caring + 0.060*experience + 0.057*grade experience + 0.056*staff + 0.052*problem + 0.039*teaching + 0.039*family + 0.039*feel + 0.036*program\n"
       ]
      },
      {
       "output_type": "stream",
       "stream": "stderr",
       "text": [
        "2013-12-15 20:58:39,407 : INFO : topic #73: 0.084*class + 0.059*program + 0.047*type + 0.038*staff + 0.035*environment + 0.035*leadership + 0.034*challenge + 0.033*job + 0.029*office + 0.024*team\n"
       ]
      },
      {
       "output_type": "stream",
       "stream": "stderr",
       "text": [
        "2013-12-15 20:58:39,408 : INFO : topic #74: 0.082*program + 0.050*art + 0.049*community + 0.039*neighborhood + 0.038*art program + 0.029*option + 0.029*staff + 0.023*grade + 0.023*friend + 0.022*quality\n"
       ]
      },
      {
       "metadata": {},
       "output_type": "pyout",
       "prompt_number": 50,
       "text": [
        "['0.113*assignment + 0.061*week + 0.057*grade + 0.038*teaching + 0.038*variety + 0.038*end + 0.038*event + 0.034*quality + 0.022*homework + 0.021*academic',\n",
        " '0.154*event + 0.091*community + 0.066*grade + 0.062*involvement + 0.045*question + 0.045*resource + 0.045*community event + 0.045*family + 0.044*neighborhood + 0.023*class',\n",
        " '0.193*family + 0.115*family community + 0.102*community + 0.045*challenge + 0.042*system + 0.041*classroom + 0.040*culture + 0.026*experience + 0.025*benefit + 0.023*class',\n",
        " '0.259*involvement + 0.112*program + 0.088*color + 0.087*involvement community + 0.069*community + 0.056*support + 0.043*activity + 0.039*fun + 0.027*art + 0.026*staff',\n",
        " '0.121*activity + 0.120*friend + 0.075*grade + 0.069*neighborhood + 0.043*community + 0.041*program + 0.041*success + 0.040*education + 0.038*need + 0.033*diversity',\n",
        " '0.096*expectation + 0.052*program + 0.052*experience + 0.052*environment + 0.028*activity + 0.027*grade + 0.026*instruction + 0.026*situation + 0.026*aspect + 0.026*issue',\n",
        " '0.605*district + 0.148*amount + 0.114*freshman + 0.001*score + 0.001*state + 0.001*track + 0.001*review + 0.001*space + 0.001*morning + 0.001*result',\n",
        " '0.076*learning + 0.057*staff + 0.053*education + 0.046*community + 0.041*house + 0.040*home + 0.037*leadership + 0.033*art + 0.029*family + 0.027*curriculum',\n",
        " '0.259*place + 0.190*day + 0.115*experience + 0.059*world + 0.044*staff + 0.039*activity + 0.039*board + 0.039*kind + 0.029*field + 0.022*district',\n",
        " '0.514*area + 0.260*bay + 0.001*morning + 0.001*girl + 0.001*sport + 0.001*event + 0.001*concern + 0.001*budget cut + 0.001*practice + 0.001*community involvement',\n",
        " '0.081*family + 0.057*program + 0.050*neighborhood + 0.044*diversity + 0.044*fundraiser + 0.036*grade + 0.035*community + 0.035*population + 0.035*science + 0.032*teaching',\n",
        " '0.103*dedication + 0.064*curriculum + 0.064*sport + 0.064*respect + 0.064*time + 0.058*art + 0.033*cut + 0.032*friend + 0.032*towards + 0.032*commitment',\n",
        " '0.190*class + 0.173*program + 0.105*homework + 0.083*creativity + 0.067*job + 0.065*others + 0.036*family + 0.019*art + 0.017*involvement + 0.017*enthusiasm',\n",
        " '0.107*choice + 0.046*core + 0.039*program + 0.035*group + 0.034*family + 0.034*value + 0.034*name + 0.032*curriculum + 0.030*community + 0.030*time',\n",
        " '0.221*education + 0.123*quality + 0.096*quality education + 0.088*experience + 0.053*grade + 0.046*score + 0.034*leadership + 0.023*teaching + 0.022*course + 0.021*homework',\n",
        " '0.068*program + 0.059*community + 0.042*space + 0.040*playground + 0.034*art + 0.034*quality + 0.034*class + 0.032*level + 0.025*music + 0.022*grade',\n",
        " '0.152*program + 0.044*try + 0.041*class + 0.035*immersion + 0.035*immersion program + 0.034*sport + 0.031*community + 0.031*review + 0.030*people + 0.021*classroom',\n",
        " '0.097*math + 0.073*opportunity + 0.049*involvement + 0.049*group + 0.049*family + 0.033*program + 0.025*class + 0.025*amount + 0.025*experience + 0.025*problem',\n",
        " '0.164*problem + 0.111*lunch + 0.056*classroom + 0.056*area + 0.055*change + 0.055*friend + 0.036*sport + 0.031*grade + 0.030*program + 0.028*advantage',\n",
        " '0.268*college + 0.259*sure + 0.125*group + 0.108*staff + 0.055*day + 0.001*practice + 0.001*event + 0.001*concern + 0.001*budget cut + 0.001*community involvement',\n",
        " '0.079*program + 0.077*activity + 0.039*neighborhood + 0.039*art + 0.028*class + 0.026*body + 0.026*feeling + 0.026*day + 0.026*balance + 0.026*amount',\n",
        " '0.140*feel + 0.117*program + 0.097*community + 0.089*education + 0.073*warm + 0.070*class + 0.053*program program + 0.050*garden + 0.049*size + 0.037*construction',\n",
        " '0.087*budget + 0.087*cut + 0.084*staff + 0.065*budget cut + 0.064*day + 0.062*achievement + 0.044*activity + 0.044*support + 0.044*resource + 0.044*high',\n",
        " '0.174*class + 0.088*involvement + 0.036*diversity + 0.036*problem + 0.036*family + 0.034*help + 0.020*activity + 0.019*community + 0.018*energy + 0.018*sense community',\n",
        " '0.140*program + 0.071*community + 0.071*administrator + 0.037*friend + 0.037*group + 0.037*grade + 0.026*family + 0.024*heart + 0.019*people + 0.019*spirit',\n",
        " '0.293*middle + 0.066*standard + 0.064*staff + 0.047*participation + 0.046*issue + 0.044*program + 0.032*experience + 0.031*learning + 0.031*place + 0.028*quality',\n",
        " '0.179*program + 0.089*immersion + 0.074*immersion program + 0.051*experience + 0.045*language + 0.043*science + 0.036*education + 0.031*grade + 0.029*night + 0.023*community',\n",
        " '0.101*construction + 0.072*community + 0.070*project + 0.055*yard + 0.055*play + 0.042*etc + 0.037*day + 0.037*event + 0.037*program + 0.037*view',\n",
        " '0.094*community + 0.072*life + 0.071*example + 0.050*test + 0.048*opinion + 0.048*spirit + 0.031*choice + 0.030*work + 0.029*art + 0.025*day',\n",
        " '0.109*band + 0.108*kindergartner + 0.108*progress + 0.072*level + 0.065*staff + 0.043*work + 0.036*quality + 0.036*involvement + 0.036*body + 0.036*diversity',\n",
        " '0.284*community + 0.143*grader + 0.084*grade + 0.054*fun + 0.039*experience + 0.031*activity + 0.031*event + 0.027*dedication + 0.024*commitment + 0.022*others',\n",
        " '0.072*community + 0.058*diversity + 0.058*value + 0.042*grader + 0.035*achievement + 0.032*event + 0.030*class + 0.029*feeling + 0.029*playground + 0.029*community event',\n",
        " '0.171*work + 0.137*staff + 0.065*time + 0.046*support + 0.044*campus + 0.035*calm + 0.032*energy + 0.032*heart + 0.032*family + 0.031*quality',\n",
        " '0.121*family + 0.120*community + 0.073*community family + 0.058*grade + 0.044*department + 0.043*sense + 0.033*curriculum + 0.033*girl + 0.031*math + 0.030*experience',\n",
        " '0.077*program + 0.069*community + 0.067*education + 0.052*support + 0.051*music + 0.051*music program + 0.035*work + 0.035*middle + 0.033*expectation + 0.033*meeting',\n",
        " '0.176*family + 0.075*community + 0.037*environment + 0.037*come + 0.037*state + 0.037*garden + 0.037*fund + 0.037*community family + 0.037*world + 0.037*support',\n",
        " '0.207*quality + 0.205*curriculum + 0.114*teaching + 0.095*state + 0.091*staff + 0.039*program + 0.032*participation + 0.032*volunteer + 0.032*leadership + 0.031*teaching staff',\n",
        " '0.051*need + 0.051*support + 0.049*class + 0.039*meeting + 0.034*time + 0.034*environment + 0.034*place + 0.034*board + 0.034*work + 0.034*staff',\n",
        " '0.189*staff + 0.142*community + 0.082*experience + 0.078*staff community + 0.063*care + 0.061*learning + 0.051*art + 0.040*offering + 0.039*dance + 0.031*program',\n",
        " '0.057*expectation + 0.053*community + 0.053*energy + 0.035*class + 0.035*art + 0.035*friend + 0.035*opportunity + 0.035*learning + 0.018*activity + 0.018*program',\n",
        " '0.080*need + 0.064*class + 0.059*academic + 0.053*urban + 0.053*activity + 0.053*extracurricular + 0.053*extracurricular activity + 0.053*home + 0.053*population + 0.031*spirit',\n",
        " '0.063*education + 0.042*community + 0.042*communication + 0.042*trip + 0.042*ability + 0.030*life + 0.021*class + 0.021*activity + 0.021*help + 0.021*problem',\n",
        " '0.109*activity + 0.069*discipline + 0.063*class + 0.063*study + 0.051*staff + 0.047*art + 0.047*science + 0.044*safe + 0.040*office staff + 0.035*office',\n",
        " '0.087*class + 0.087*anyone + 0.058*issue + 0.058*day + 0.058*learning + 0.058*fine + 0.029*expectation + 0.029*result + 0.029*grade class + 0.029*grade',\n",
        " '0.182*spirit + 0.113*body + 0.094*community + 0.045*program + 0.043*art + 0.040*home + 0.023*involvement + 0.023*life + 0.023*foundation + 0.023*quality',\n",
        " '0.072*community + 0.062*construction + 0.057*staff + 0.042*involvement + 0.041*atmosphere + 0.041*family + 0.041*zone + 0.037*experience + 0.032*program + 0.021*effort',\n",
        " '0.122*class + 0.057*band + 0.044*grade + 0.041*assembly + 0.037*time + 0.031*program + 0.030*group + 0.030*day + 0.030*rest + 0.030*reading',\n",
        " '0.067*towards + 0.067*music + 0.049*teaching + 0.049*teaching staff + 0.048*involvement + 0.046*district + 0.043*level + 0.041*grade level + 0.040*community + 0.038*staff',\n",
        " '0.163*involvement + 0.153*community involvement + 0.128*community + 0.051*staff + 0.044*achievement + 0.038*grader + 0.036*program + 0.030*size + 0.026*grade + 0.026*curriculum',\n",
        " '0.175*experience + 0.069*person + 0.055*attention + 0.043*staff + 0.042*diversity + 0.042*atmosphere + 0.036*life + 0.028*culture + 0.028*leadership + 0.028*people',\n",
        " '0.156*staff + 0.077*teaching + 0.068*teaching staff + 0.036*diversity + 0.036*program + 0.032*success + 0.027*support + 0.019*community + 0.019*activity + 0.018*enrichment',\n",
        " '0.085*program + 0.051*sport + 0.042*involvement + 0.036*color + 0.036*fun + 0.036*band + 0.036*transition + 0.035*place + 0.026*others + 0.025*middle',\n",
        " '0.126*time + 0.062*grade + 0.058*level + 0.044*class + 0.044*grade level + 0.044*group + 0.043*participation + 0.033*fund + 0.024*homework + 0.022*classroom',\n",
        " '0.142*neighborhood + 0.074*office + 0.055*opinion + 0.049*family + 0.042*community + 0.038*aspect + 0.038*study + 0.038*office staff + 0.037*community staff + 0.037*warm',\n",
        " '0.181*test + 0.152*score + 0.146*test score + 0.057*community + 0.034*sense + 0.022*classroom + 0.022*place + 0.021*home + 0.020*teaching + 0.019*education',\n",
        " '0.162*environment + 0.107*learning + 0.077*learning environment + 0.058*event + 0.055*program + 0.046*interest + 0.045*art + 0.045*fun + 0.032*drama + 0.030*dance',\n",
        " '0.483*program + 0.154*academic + 0.094*sport + 0.056*graduate + 0.056*club + 0.041*drama + 0.022*honor + 0.020*place + 0.010*environment + 0.000*learning',\n",
        " '0.093*course + 0.073*friendship + 0.066*community + 0.050*involvement + 0.049*program + 0.049*art + 0.049*bit + 0.046*dance + 0.031*grade + 0.025*community involvement',\n",
        " '0.145*diversity + 0.090*community + 0.067*week + 0.060*volunteer + 0.040*family + 0.040*choice + 0.040*situation + 0.040*people + 0.039*involvement + 0.039*faculty',\n",
        " '0.077*day + 0.064*class + 0.064*team + 0.047*time + 0.038*program + 0.038*thanks + 0.038*support + 0.036*extra + 0.028*language + 0.026*issue',\n",
        " '0.077*community + 0.060*staff + 0.059*program + 0.059*facility + 0.046*people + 0.030*class + 0.030*staff community + 0.019*garden + 0.016*education + 0.016*problem',\n",
        " '0.300*grade + 0.077*grade grade + 0.055*level + 0.046*activity + 0.046*experience + 0.035*grade level + 0.031*involvement + 0.030*option + 0.026*fund + 0.025*people',\n",
        " '0.166*class + 0.063*community + 0.062*range + 0.059*activity + 0.050*play + 0.046*field + 0.041*administration + 0.038*instruction + 0.038*effort + 0.037*trip',\n",
        " '0.059*girl + 0.056*community + 0.047*dance + 0.035*art + 0.035*group + 0.035*morning + 0.030*program + 0.027*sport + 0.024*job + 0.024*friend',\n",
        " '0.127*level + 0.093*experience + 0.078*community + 0.070*staff + 0.045*program + 0.044*middle + 0.033*staff community + 0.033*beginning + 0.033*everything + 0.033*program middle',\n",
        " '0.071*staff + 0.060*people + 0.048*environment + 0.031*class + 0.031*community + 0.031*member + 0.031*grade + 0.031*day + 0.021*lack + 0.021*course',\n",
        " '0.229*classroom + 0.160*offer + 0.134*staff + 0.106*hour + 0.059*thanks + 0.059*help + 0.059*enrichment + 0.001*concern + 0.001*girl + 0.001*sport',\n",
        " '0.231*need + 0.053*issue + 0.053*resource + 0.051*success + 0.042*staff + 0.040*interest + 0.035*experience + 0.035*place + 0.023*sport + 0.021*test',\n",
        " '0.137*people + 0.057*system + 0.057*place + 0.057*activity + 0.057*complaint + 0.050*staff + 0.033*program + 0.030*curriculum + 0.030*day + 0.030*community',\n",
        " '0.047*academic + 0.046*program + 0.046*art + 0.046*grade + 0.046*activity + 0.045*experience + 0.045*skill + 0.041*program art + 0.024*enrichment + 0.023*homework',\n",
        " '0.104*grade + 0.089*nothing + 0.070*time + 0.065*interest + 0.037*community + 0.036*transition + 0.036*experience + 0.036*band + 0.018*involvement + 0.018*girl',\n",
        " '0.114*art + 0.093*program + 0.067*class + 0.046*science + 0.038*enrichment class + 0.034*enrichment + 0.025*experience + 0.024*art program + 0.020*class program + 0.020*learning',\n",
        " '0.136*grade + 0.063*caring + 0.060*experience + 0.057*grade experience + 0.056*staff + 0.052*problem + 0.039*teaching + 0.039*family + 0.039*feel + 0.036*program',\n",
        " '0.084*class + 0.059*program + 0.047*type + 0.038*staff + 0.035*environment + 0.035*leadership + 0.034*challenge + 0.033*job + 0.029*office + 0.024*team',\n",
        " '0.082*program + 0.050*art + 0.049*community + 0.039*neighborhood + 0.038*art program + 0.029*option + 0.029*staff + 0.023*grade + 0.023*friend + 0.022*quality']"
       ]
      }
     ],
     "prompt_number": 50
    },
    {
     "cell_type": "code",
     "collapsed": false,
     "input": [
      "# CELL 302\n",
      "# save topics\n",
      "if(feature['model_topics_save']):\n",
      "    with open(data_dir + '/' + file_root + '-topics-t' + str(num_topics) + '.pickle', 'w') as f:\n",
      "        pickle.dump(model_topics, f)"
     ],
     "language": "python",
     "metadata": {},
     "outputs": []
    },
    {
     "cell_type": "code",
     "collapsed": false,
     "input": [
      "# CELL 310\n",
      "# These functions copied from https://groups.google.com/forum/#!searchin/gensim/visualize/gensim/SxFKsSsBTRs/cN6p3XaH4rUJ\n",
      "# They extract the gamma, beta and log probabilities \n",
      "\n",
      "def get_gamma(lda, corpus):\n",
      "    \"\"\"\n",
      "    Return gamma from a gensim LdaModel instance.\n",
      "    \n",
      "    Parameters\n",
      "    ----------\n",
      "    lda : LdaModel\n",
      "        A fitted model.\n",
      "    corpus : gensim Corpus\n",
      "        An iterable Bag-of-Words Corpus used to fit the LDA model\n",
      "\n",
      "    Returns\n",
      "    -------\n",
      "    gamma : ndarray\n",
      "        An ndarray that contains gamma.\n",
      "    \"\"\"\n",
      "    # lda.VAR_MAXITER = 'est' \n",
      "    chunksize = lda.chunksize\n",
      "    chunker = itertools.groupby(enumerate(corpus),\n",
      "               key=lambda (docno, doc): docno/chunksize)\n",
      "    all_gamma = []\n",
      "    for chunk_no, (key, group) in enumerate(chunker):\n",
      "        chunk = np.asarray([np.asarray(doc) for _, doc in group])\n",
      "        (gamma, sstats) = lda.inference(chunk)\n",
      "        all_gamma.append(gamma)\n",
      "    return np.vstack(all_gamma)\n",
      "\n",
      "def blei_gamma(fname, gamma):\n",
      "    \"\"\"\n",
      "    Writes the gamma file in Blei's format.\n",
      "\n",
      "    Parameters\n",
      "    ----------\n",
      "    fname : str\n",
      "        Path to file to save to\n",
      "    gamma : ndarray\n",
      "        Numpy array returned from get_gamma\n",
      "    \"\"\"\n",
      "    np.savetxt(fname, gamma, fmt='%5.10f')\n",
      "\n",
      "def blei_beta(fname, lda):\n",
      "    \"\"\"\n",
      "    Write log probabilities to a space-delimited file as lda-c final.beta\n",
      "\n",
      "    Parameters\n",
      "    ----------\n",
      "    fname : str\n",
      "        Filename\n",
      "    lda : LdaModel\n",
      "        LdaModel instance\n",
      "    \"\"\"\n",
      "    expElogbeta = np.log(lda.expElogbeta)\n",
      "    np.savetxt(fname, expElogbeta, fmt='%5.10f')\n",
      "    \n",
      "if(feature['beta_gamma_save']):\n",
      "    blei_beta(data_dir + '/' + file_root + '-t' + str(num_topics) + '.beta', model)\n",
      "    gamma = get_gamma(model, corpus)\n",
      "    blei_gamma(data_dir + '/' + file_root + '-t' + str(num_topics) + '.gamma', gamma)"
     ],
     "language": "python",
     "metadata": {},
     "outputs": [],
     "prompt_number": 51
    },
    {
     "cell_type": "code",
     "collapsed": false,
     "input": [
      "# CELL 1000\n",
      "# Exploratory things you can try\n",
      "\n",
      "# set a review number to examine\n",
      "review_num=0\n",
      "\n",
      "def get_topic_data(review_num):\n",
      "    \"\"\"\n",
      "    Produces information about topics associated to a particular review\n",
      "    \n",
      "    Parameters\n",
      "    ----------\n",
      "    review_num : int\n",
      "        a valid review number \n",
      "    \"\"\"\n",
      "    \n",
      "    # Look at the topics associated to this review in the corpus_model\n",
      "    print \"\\nTopics for review number %d\" % review_num\n",
      "    topics = model[corpus[review_num]]\n",
      "    print topics\n",
      "    print \"\\nTopic details for topics in review number %d\" % review_num\n",
      "    topic_info = [model.print_topic(topic[0],topn=10) for topic in topics]\n",
      "    for topic in topic_info:\n",
      "        print topic\n",
      "\n",
      "# Look at this review in the corpus (bag of words, tf-idf, etc)\n",
      "# print corpus[review_num]\n",
      "\n",
      "# get data about the document as it moved through the pipeline\n",
      "if(not feature['texts_final_load']):\n",
      "    get_review_data(review_num)\n",
      "get_topic_data(review_num)"
     ],
     "language": "python",
     "metadata": {},
     "outputs": [
      {
       "output_type": "stream",
       "stream": "stdout",
       "text": [
        "\n",
        "Data from reviews for review number 0\n",
        "GSID: 105868 NCES Code: 060177000041    Universal ID: 600001\n",
        "\n",
        "\n",
        "Good school.  Lots of AP classes.  But mixed economics makes learning tougher for the non-CP students.\n",
        "\n",
        "Data from texts_uncorrected for review number 0\n",
        "['Good', 'school', '.', 'Lots', 'of', 'AP', 'classes', '.', 'But', 'mixed', 'economics', 'makes', 'learning', 'tougher', 'for', 'the', 'non-CP', 'students', '.']\n",
        "\n",
        "Data from texts_pos for review number 0\n",
        "[('Good', 'NNP'), ('school', 'NN'), ('.', '.'), ('Lots', 'NNS'), ('of', 'IN'), ('AP', 'NNP'), ('classes', 'NNS'), ('.', '.'), ('But', 'CC'), ('mixed', 'VBD'), ('economics', 'NNS'), ('makes', 'VBZ'), ('learning', 'VBG'), ('tougher', 'NN'), ('for', 'IN'), ('the', 'DT'), ('non-CP', 'JJ'), ('students', 'NNS'), ('.', '.')]\n",
        "\n",
        "Data from texts_unlemmatized for review number 0\n",
        "['lots', 'classes', 'economics', 'tougher']\n",
        "\n",
        "Data from texts for review number 0\n",
        "['class', 'economics', 'tougher']\n",
        "\n",
        "Topics for review number 0\n",
        "[(23, 0.5066666666666656)]\n",
        "\n",
        "Topic details for topics in review number 0\n",
        "0.174*class + 0.088*involvement + 0.036*diversity + 0.036*problem + 0.036*family + 0.034*help + 0.020*activity + 0.019*community + 0.018*energy + 0.018*sense community\n"
       ]
      }
     ],
     "prompt_number": 52
    },
    {
     "cell_type": "markdown",
     "metadata": {},
     "source": [
      "## Generating topic information for each review to be written back to the database \n",
      "\n",
      "The final result we needed was a list of all topics and their percentage associated with each review.  We built a CSV file of this information for easy import back into the database.  The file contained the schools GSID, NCES Code, Universal ID and then was followed by a list of n fields, one field per topic number.  So when building a model with 75 topics, as our final model was, we had 75 topic value fields.  These would correspond with a percentage the review was represented by that topic.  A review could have multiple topics it corresponded to.  Any topic correlation that was less than 1% was just kept at 0.  Later these values would all be normalized before being stored in the database.\n"
     ]
    },
    {
     "cell_type": "code",
     "collapsed": false,
     "input": [
      "%%time\n",
      "# CELL 1100 \n",
      "# Create CSV file to place topic numbers into the database for each review\n",
      "\n",
      "with open(data_dir + '/' + file_root + '-review_topics-t' + str(num_topics) + '.csv', 'wb') as csvfile:\n",
      "    topicwriter = csv.writer(csvfile, delimiter=',', quotechar='|', quoting=csv.QUOTE_MINIMAL)\n",
      "    \n",
      "    for row in xrange(len(reviews)):\n",
      "        # we store gsid, nces_code and universal_id in topic_array_1 which is str (some nces_codes are alphanum)\n",
      "        topic_array_1 = np.empty(3, dtype=\"S10\")\n",
      "        # we store each topic percentage in topic_array_2 which is floats\n",
      "        topic_array_2 = np.zeros(num_topics, float)\n",
      "        \n",
      "        if(row % 1000 == 0):\n",
      "            print \"Processing row %d\" % row\n",
      "        gsid, nces_code, universal_id, postdate = reviews_indexes.irow(row)\n",
      "        # some gsid's are None because the school had no reviews\n",
      "        if(gsid is None):\n",
      "            gsid = 999999999\n",
      "        topic_array_1[0], topic_array_1[1], topic_array_1[2] = gsid, nces_code, universal_id\n",
      "\n",
      "        # we get the topics from the model\n",
      "        topics = model[corpus[row]]\n",
      "    \n",
      "        # we update the topic_array_2 with the percentage values for each topic\n",
      "        for topic in topics:\n",
      "            topic_num,topic_score = topic\n",
      "            topic_array_2[topic_num] = topic_score\n",
      "         \n",
      "        # we combine both arrays into a single writerow\n",
      "        topicwriter.writerow(list(topic_array_1) + list(topic_array_2))"
     ],
     "language": "python",
     "metadata": {},
     "outputs": [
      {
       "output_type": "stream",
       "stream": "stdout",
       "text": [
        "Processing row 0\n",
        "CPU times: user 634 ms, sys: 13.3 ms, total: 647 ms"
       ]
      },
      {
       "output_type": "stream",
       "stream": "stdout",
       "text": [
        "\n",
        "Wall time: 718 ms\n"
       ]
      }
     ],
     "prompt_number": 53
    },
    {
     "cell_type": "markdown",
     "metadata": {},
     "source": [
      "## Misc Cells for Word Frequency Counts\n",
      "The below cells are just used in a very ad-hoc way to produce word counts of different slices and cuts of the data, and export them into CSV format.  We use a similar design paradigm as our original work earlier in the notebook, but its different enough that we could not re-use it as is.  If we had more time we could factor together much of the code/functionality below into some more generalized functions.  The below cells are not even controlled feature the feature dict, they are just ad-hoc cells to be ran manually."
     ]
    },
    {
     "cell_type": "code",
     "collapsed": false,
     "input": [
      "# CELL 1500 \n",
      "# Word Frequency Counts\n",
      "# remove encodings, tokenize, remove punctuation, remove stopwords, remove words < 3, remove non alpha words\n",
      "\n",
      "# This assumes paralell architecture has been setup in CELLS 75 and 85 and those CELLS have been ran, otherwise this will fail.\n",
      "# The below function freq_clean() is not designed to be ran serial.\n",
      "\n",
      "@dv.remote(block=True)\n",
      "def freq_clean():\n",
      "    \"\"\"\n",
      "    tokenizes and cleans the text that exists in data_to_clean\n",
      "\n",
      "    Returns\n",
      "    ----------\n",
      "    reviews : list of lists\n",
      "        a tokenized text\n",
      "    \"\"\"\n",
      "\n",
      "    texts = []\n",
      "\n",
      "    counter = 0\n",
      "\n",
      "    # we need to strip escape characters so we compile a pattern\n",
      "    hexchars = re.compile('\\\\\\\\x(\\w{2})')\n",
      "        \n",
      "    print \"Starting to process %d documents\" % len(data_to_clean)\n",
      "\n",
      "    for review_text in data_to_clean:\n",
      "        \n",
      "        # print result to stdout, note that when using parallel stdout is not sent to the Client\n",
      "        # counter += 1\n",
      "        # if ((counter % 1000)==0):\n",
      "        #    print \"%d documents processed\" % counter\n",
      "        # sys.stdout.flush()\n",
      "                          \n",
      "        # remove html encodings\n",
      "        review_text = review_text.replace('&amp;','').replace('&lt;','').replace('&gt;','').replace('&quot;','').replace('&#039;','').replace('&#034;','')\n",
      "        review_text = re.sub(hexchars, '', review_text.encode(\"string-escape\"))\n",
      "      \n",
      "        # tokenize, you don't want to turn this off\n",
      "        review_text = [word for sent in sent_tokenize(review_text) for word in word_tokenize(sent)]\n",
      "\n",
      "        # remove punctuation\n",
      "        review_text = [word.translate(string.maketrans(\"\",\"\"), string.punctuation) for word in review_text]\n",
      "                    \n",
      "        # remove smallwords\n",
      "        review_text = [word for word in review_text if not len(word) < 3]\n",
      "        \n",
      "        # lowercase all text\n",
      "        review_text = [word.lower() for word in review_text]\n",
      "        \n",
      "        # remove stopwords\n",
      "        review_text = [word for word in review_text if not word in stopset_to_use]\n",
      "        \n",
      "        texts.append(review_text)\n",
      "    return texts"
     ],
     "language": "python",
     "metadata": {},
     "outputs": [],
     "prompt_number": 54
    },
    {
     "cell_type": "code",
     "collapsed": false,
     "input": [
      "# CELL 1510\n",
      "# Merge Freq Count data back to one variable\n",
      "\n",
      "def freq_merge(result):\n",
      "    \"\"\"\n",
      "    Merges parallelized data back into a single structure\n",
      "    \n",
      "    Parameters\n",
      "    ----------\n",
      "    result : array\n",
      "        An array containing the values returned from each thread/worker\n",
      "    \n",
      "    Returns\n",
      "    ----------\n",
      "    texts : list of lists\n",
      "        a tokenized text\n",
      "    \"\"\"\n",
      "    # Merge Parallel Data back from remote workers back into one set\n",
      "    texts = []\n",
      "    \n",
      "    # iterate through each worker and merge the texts back together\n",
      "    for worker in result:\n",
      "        texts += worker\n",
      "    print \"Total after merge: %d\" % len(texts)\n",
      "    return texts"
     ],
     "language": "python",
     "metadata": {},
     "outputs": [],
     "prompt_number": 55
    },
    {
     "cell_type": "code",
     "collapsed": false,
     "input": [
      "# CELL 1520\n",
      "# get reviews from database\n",
      "\n",
      "# get reviews for a single state\n",
      "def get_state(state):\n",
      "    \"\"\"\n",
      "    Gets all reviews from the database for a single state\n",
      "    \n",
      "    Parameters\n",
      "    ----------\n",
      "    state : string\n",
      "        abbreviation of state\n",
      "    \n",
      "    Returns\n",
      "    ----------\n",
      "    reviews : list of lists\n",
      "        a tokenized text\n",
      "    \"\"\"\n",
      "    cnx = mysql_ops()\n",
      "    reviews = cnx.get_reviews_state(state)[['reviews']]\n",
      "    print \"Ingested %d documents from database for state %s\" % (len(reviews),state)\n",
      "    return reviews\n",
      "\n",
      "# get all reviews\n",
      "def get_all():\n",
      "    \"\"\"\n",
      "    Gets all reviews from the database\n",
      "    \n",
      "    Returns\n",
      "    ----------\n",
      "    reviews : list of lists\n",
      "        a tokenized text\n",
      "    \"\"\"\n",
      "    cnx = mysql_ops()\n",
      "    reviews = cnx.get_all_reviews()\n",
      "    print \"Ingested %d documents from database for all states\" % len(reviews)\n",
      "    return reviews"
     ],
     "language": "python",
     "metadata": {},
     "outputs": [],
     "prompt_number": 56
    },
    {
     "cell_type": "code",
     "collapsed": false,
     "input": [
      "# CELL 1530\n",
      "# write freq counts to a file\n",
      "\n",
      "def freq_write(texts,state):\n",
      "    \"\"\"\n",
      "    Write word frequency count to file\n",
      "    \n",
      "    Parameters\n",
      "    ----------\n",
      "    texts : list of lists\n",
      "        a tokenized text\n",
      "    state : string\n",
      "        name of state or other slice name\n",
      "    \"\"\"\n",
      "    f = open(data_dir + '/' + state + '-freq.txt','w')\n",
      "    print \"Writing file for state %s\" % state\n",
      "    fdist = nltk.FreqDist(list(itertools.chain.from_iterable(texts)))\n",
      "    for word,count in fdist.items()[:25]:\n",
      "        f.write(\"%s,%s\\n\" % (word,count))\n",
      "    f.close()"
     ],
     "language": "python",
     "metadata": {},
     "outputs": [],
     "prompt_number": 57
    },
    {
     "cell_type": "code",
     "collapsed": false,
     "input": [
      "# CELL 1540\n",
      "# get all reviews\n",
      "\n",
      "reviews_all = get_all()"
     ],
     "language": "python",
     "metadata": {},
     "outputs": [],
     "prompt_number": "*"
    },
    {
     "cell_type": "code",
     "collapsed": false,
     "input": [
      "# CELL 1550\n",
      "# slice and cut the reviews in various ways we wish to do our counts\n",
      "\n",
      "# stars_0 = reviews_all[reviews_all['stars'] == 99]\n",
      "# stars_1 = reviews_all[reviews_all['stars'] == 1]\n",
      "# stars_2 = reviews_all[reviews_all['stars'] == 2]\n",
      "# stars_3 = reviews_all[reviews_all['stars'] == 3]\n",
      "# stars_4 = reviews_all[reviews_all['stars'] == 4]\n",
      "# stars_5 = reviews_all[reviews_all['stars'] == 5]\n",
      "# reviewer_parent = reviews_all[reviews_all['reviewer'] == 'parent']\n",
      "# reviewer_student = reviews_all[reviews_all['reviewer'] == 'student']\n",
      "# reviewer_other = reviews_all[reviews_all['reviewer'] == 'other']\n",
      "# reviewer_teacher = reviews_all[reviews_all['reviewer'] == 'teacher']\n",
      "# reviewer_former_student = reviews_all[reviews_all['reviewer'] == 'former student']\n",
      "# reviewer_empty = reviews_all[reviews_all['reviewer'] == '']\n",
      "# reviewer_staff = reviews_all[reviews_all['reviewer'] == 'staff']\n",
      "# reviewer_administrator = reviews_all[reviews_all['reviewer'] == 'administrator']\n",
      "# reviewer_principal = reviews_all[reviews_all['reviewer'] == 'principal']\n",
      "# type_public = reviews_all[reviews_all['type'] == 'public']\n",
      "# type_private = reviews_all[reviews_all['type'] == 'private']\n",
      "# type_charter = reviews_all[reviews_all['type'] == 'charter']\n"
     ],
     "language": "python",
     "metadata": {},
     "outputs": []
    },
    {
     "cell_type": "code",
     "collapsed": false,
     "input": [
      "# CELL 1560\n",
      "# examine lengths\n",
      "\n",
      "# print len(stars_0)\n",
      "# print len(stars_1)\n",
      "# print len(stars_2)\n",
      "# print len(stars_3)\n",
      "# print len(stars_4)\n",
      "# print len(stars_5)\n",
      "# print len(reviewer_parent)\n",
      "# print len(reviewer_student)\n",
      "# print len(reviewer_other)\n",
      "# print len(reviewer_teacher)\n",
      "# print len(reviewer_former_student)\n",
      "# print len(reviewer_empty)\n",
      "# print len(reviewer_staff)\n",
      "# print len(reviewer_administrator)\n",
      "# print len(reviewer_principal)\n",
      "# print len(type_public)\n",
      "# print len(type_private)\n",
      "# print len(type_charter)"
     ],
     "language": "python",
     "metadata": {},
     "outputs": []
    },
    {
     "cell_type": "code",
     "collapsed": false,
     "input": [
      "# CELL 1570\n",
      "# examine the value counts of any type we wish just to make sure we sliced all the values\n",
      "\n",
      "print reviews_all['type'].value_counts()"
     ],
     "language": "python",
     "metadata": {},
     "outputs": []
    },
    {
     "cell_type": "code",
     "collapsed": false,
     "input": [
      "%%time \n",
      "# CELL 1580\n",
      "# main pipeline to process freq counts\n",
      "\n",
      "states = ['AK','AL','AR','AZ','CA','CO','CT','DC','DE','FL',\n",
      "          'GA','HI','IA','ID','IL','IN','KS','KY','LA','MA',\n",
      "          'MD','ME','MI','MN','MO','MS','MT','NC','ND','NE',\n",
      "          'NH','NJ','NM','NV','NY','OH','OK','OR','PA','PR',\n",
      "          'RI','SC','SD','TN','TX','UT','VA','VT','WA','WI',\n",
      "          'WV','WY']\n",
      "\n",
      "# For processing states you can use it as is.  For processing other types of slices, you would comment out the\n",
      "# for loop and unindent its code, and then change the reviews= line and state= to match the slice your working with.\n",
      "# It's very crude as this was done toward the end, but it worked nicely.\n",
      "for state in states:\n",
      "    # state = 'type_charter'\n",
      "    reviews = get_state(state)\n",
      "    \n",
      "    print \"Processing state %s\" % state\n",
      "\n",
      "    reviews = type_charter['reviews']\n",
      "    \n",
      "    data_to_clean = reviews\n",
      "    stopset_to_use = set(nltk.corpus.stopwords.words('english'))\n",
      "    \n",
      "    # copy the data_to_clean and stopset_to_use into name space of remote workers \n",
      "    # We use ipythons parallel processing \"scatter\" to shard \"reviews\" accross our cores\n",
      "    dv.scatter('data_to_clean',data_to_clean)\n",
      "    \n",
      "    # We copy the objects feature and stopset, as well as the Class SpellingReplacer to our remote workers\n",
      "    dv['stopset_to_use'] = stopset_to_use\n",
      "    \n",
      "    # Show size of entire data being sent for processing\n",
      "    print \"Total data size: %d\" % len(data_to_clean)\n",
      "    \n",
      "    # Show the shard size of each remote worker\n",
      "    print \"Sharded data size for each worker\"\n",
      "    %px print len(data_to_clean)\n",
      "    \n",
      "    # clean the reviews\n",
      "    result = freq_clean()\n",
      "    \n",
      "    # merge results back\n",
      "    texts = freq_merge(result)\n",
      "    \n",
      "    # write file \n",
      "    freq_write(texts,state)"
     ],
     "language": "python",
     "metadata": {},
     "outputs": []
    },
    {
     "cell_type": "code",
     "collapsed": false,
     "input": [],
     "language": "python",
     "metadata": {},
     "outputs": []
    }
   ],
   "metadata": {}
  }
 ]
}